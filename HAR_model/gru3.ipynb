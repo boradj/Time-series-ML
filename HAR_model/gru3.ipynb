{
  "cells": [
    {
      "cell_type": "markdown",
      "metadata": {
        "id": "view-in-github",
        "colab_type": "text"
      },
      "source": [
        "<a href=\"https://colab.research.google.com/github/boradj/Time-series-ML/blob/main/HAR_model/gru3.ipynb\" target=\"_parent\"><img src=\"https://colab.research.google.com/assets/colab-badge.svg\" alt=\"Open In Colab\"/></a>"
      ]
    },
    {
      "cell_type": "code",
      "execution_count": null,
      "metadata": {
        "id": "1XE424yaXHJ4"
      },
      "outputs": [],
      "source": [
        "import tensorflow as tf\n",
        "import numpy as np\n",
        "import pandas as pd\n",
        "import matplotlib.pyplot as plt\n",
        "import os"
      ]
    },
    {
      "cell_type": "code",
      "execution_count": null,
      "metadata": {
        "colab": {
          "base_uri": "https://localhost:8080/"
        },
        "id": "NEzA6mcLXQyX",
        "outputId": "c89c5778-c672-4f7d-97e5-7e67a890a722"
      },
      "outputs": [
        {
          "output_type": "stream",
          "name": "stdout",
          "text": [
            "Mounted at /content/drive\n"
          ]
        }
      ],
      "source": [
        "from google.colab import drive\n",
        "#This will prompt for authorization # to take permission from user to use google drive\n",
        "drive.mount('/content/drive')"
      ]
    },
    {
      "cell_type": "code",
      "execution_count": null,
      "metadata": {
        "id": "WjxnbugiqZS7"
      },
      "outputs": [],
      "source": []
    },
    {
      "cell_type": "code",
      "execution_count": null,
      "metadata": {
        "id": "eb0zHST9XQ0v"
      },
      "outputs": [],
      "source": [
        "# This is important!\n",
        "import os\n",
        "os.environ['TF_ENABLE_CONTROL_FLOW_V2'] = '1'\n",
        "\n",
        "import tensorflow as tf\n",
        "import numpy as np"
      ]
    },
    {
      "cell_type": "code",
      "execution_count": null,
      "metadata": {
        "colab": {
          "base_uri": "https://localhost:8080/",
          "height": 206
        },
        "id": "3sPRkD0pXQ3G",
        "outputId": "06de0183-c3fc-4c58-c6dc-f3df0536293c"
      },
      "outputs": [
        {
          "output_type": "execute_result",
          "data": {
            "text/plain": [
              "   Unnamed: 0        Ax       Ay       Az       Lx        Ly      Lz       Gx  \\\n",
              "0           0  4.590100  -2.0431  2.65600  0.76963  6.937000  3.6223  0.47495   \n",
              "1           1  3.732000  -2.4517  1.93410 -0.30694  6.452800  2.6874  1.84180   \n",
              "2           2  0.054481  -8.9622  4.15420 -3.69680  0.098022  4.2580  2.29650   \n",
              "3           3 -6.565000 -18.6730  7.54570 -9.12310 -9.227100  6.9194  3.26630   \n",
              "4           4 -2.029400 -11.1960 -0.84446 -3.31990 -1.507200 -1.6408  3.28890   \n",
              "\n",
              "       Gy        Gz Activity  \n",
              "0 -1.2327 -0.118810  walking  \n",
              "1 -0.6970 -0.845740  walking  \n",
              "2 -2.2110 -0.991430  walking  \n",
              "3 -4.1267  0.054978  walking  \n",
              "4 -3.4725  0.760220  walking  "
            ],
            "text/html": [
              "\n",
              "  <div id=\"df-3161358b-04c8-4b44-b317-c39ef2e5f1ce\">\n",
              "    <div class=\"colab-df-container\">\n",
              "      <div>\n",
              "<style scoped>\n",
              "    .dataframe tbody tr th:only-of-type {\n",
              "        vertical-align: middle;\n",
              "    }\n",
              "\n",
              "    .dataframe tbody tr th {\n",
              "        vertical-align: top;\n",
              "    }\n",
              "\n",
              "    .dataframe thead th {\n",
              "        text-align: right;\n",
              "    }\n",
              "</style>\n",
              "<table border=\"1\" class=\"dataframe\">\n",
              "  <thead>\n",
              "    <tr style=\"text-align: right;\">\n",
              "      <th></th>\n",
              "      <th>Unnamed: 0</th>\n",
              "      <th>Ax</th>\n",
              "      <th>Ay</th>\n",
              "      <th>Az</th>\n",
              "      <th>Lx</th>\n",
              "      <th>Ly</th>\n",
              "      <th>Lz</th>\n",
              "      <th>Gx</th>\n",
              "      <th>Gy</th>\n",
              "      <th>Gz</th>\n",
              "      <th>Activity</th>\n",
              "    </tr>\n",
              "  </thead>\n",
              "  <tbody>\n",
              "    <tr>\n",
              "      <th>0</th>\n",
              "      <td>0</td>\n",
              "      <td>4.590100</td>\n",
              "      <td>-2.0431</td>\n",
              "      <td>2.65600</td>\n",
              "      <td>0.76963</td>\n",
              "      <td>6.937000</td>\n",
              "      <td>3.6223</td>\n",
              "      <td>0.47495</td>\n",
              "      <td>-1.2327</td>\n",
              "      <td>-0.118810</td>\n",
              "      <td>walking</td>\n",
              "    </tr>\n",
              "    <tr>\n",
              "      <th>1</th>\n",
              "      <td>1</td>\n",
              "      <td>3.732000</td>\n",
              "      <td>-2.4517</td>\n",
              "      <td>1.93410</td>\n",
              "      <td>-0.30694</td>\n",
              "      <td>6.452800</td>\n",
              "      <td>2.6874</td>\n",
              "      <td>1.84180</td>\n",
              "      <td>-0.6970</td>\n",
              "      <td>-0.845740</td>\n",
              "      <td>walking</td>\n",
              "    </tr>\n",
              "    <tr>\n",
              "      <th>2</th>\n",
              "      <td>2</td>\n",
              "      <td>0.054481</td>\n",
              "      <td>-8.9622</td>\n",
              "      <td>4.15420</td>\n",
              "      <td>-3.69680</td>\n",
              "      <td>0.098022</td>\n",
              "      <td>4.2580</td>\n",
              "      <td>2.29650</td>\n",
              "      <td>-2.2110</td>\n",
              "      <td>-0.991430</td>\n",
              "      <td>walking</td>\n",
              "    </tr>\n",
              "    <tr>\n",
              "      <th>3</th>\n",
              "      <td>3</td>\n",
              "      <td>-6.565000</td>\n",
              "      <td>-18.6730</td>\n",
              "      <td>7.54570</td>\n",
              "      <td>-9.12310</td>\n",
              "      <td>-9.227100</td>\n",
              "      <td>6.9194</td>\n",
              "      <td>3.26630</td>\n",
              "      <td>-4.1267</td>\n",
              "      <td>0.054978</td>\n",
              "      <td>walking</td>\n",
              "    </tr>\n",
              "    <tr>\n",
              "      <th>4</th>\n",
              "      <td>4</td>\n",
              "      <td>-2.029400</td>\n",
              "      <td>-11.1960</td>\n",
              "      <td>-0.84446</td>\n",
              "      <td>-3.31990</td>\n",
              "      <td>-1.507200</td>\n",
              "      <td>-1.6408</td>\n",
              "      <td>3.28890</td>\n",
              "      <td>-3.4725</td>\n",
              "      <td>0.760220</td>\n",
              "      <td>walking</td>\n",
              "    </tr>\n",
              "  </tbody>\n",
              "</table>\n",
              "</div>\n",
              "      <button class=\"colab-df-convert\" onclick=\"convertToInteractive('df-3161358b-04c8-4b44-b317-c39ef2e5f1ce')\"\n",
              "              title=\"Convert this dataframe to an interactive table.\"\n",
              "              style=\"display:none;\">\n",
              "        \n",
              "  <svg xmlns=\"http://www.w3.org/2000/svg\" height=\"24px\"viewBox=\"0 0 24 24\"\n",
              "       width=\"24px\">\n",
              "    <path d=\"M0 0h24v24H0V0z\" fill=\"none\"/>\n",
              "    <path d=\"M18.56 5.44l.94 2.06.94-2.06 2.06-.94-2.06-.94-.94-2.06-.94 2.06-2.06.94zm-11 1L8.5 8.5l.94-2.06 2.06-.94-2.06-.94L8.5 2.5l-.94 2.06-2.06.94zm10 10l.94 2.06.94-2.06 2.06-.94-2.06-.94-.94-2.06-.94 2.06-2.06.94z\"/><path d=\"M17.41 7.96l-1.37-1.37c-.4-.4-.92-.59-1.43-.59-.52 0-1.04.2-1.43.59L10.3 9.45l-7.72 7.72c-.78.78-.78 2.05 0 2.83L4 21.41c.39.39.9.59 1.41.59.51 0 1.02-.2 1.41-.59l7.78-7.78 2.81-2.81c.8-.78.8-2.07 0-2.86zM5.41 20L4 18.59l7.72-7.72 1.47 1.35L5.41 20z\"/>\n",
              "  </svg>\n",
              "      </button>\n",
              "      \n",
              "  <style>\n",
              "    .colab-df-container {\n",
              "      display:flex;\n",
              "      flex-wrap:wrap;\n",
              "      gap: 12px;\n",
              "    }\n",
              "\n",
              "    .colab-df-convert {\n",
              "      background-color: #E8F0FE;\n",
              "      border: none;\n",
              "      border-radius: 50%;\n",
              "      cursor: pointer;\n",
              "      display: none;\n",
              "      fill: #1967D2;\n",
              "      height: 32px;\n",
              "      padding: 0 0 0 0;\n",
              "      width: 32px;\n",
              "    }\n",
              "\n",
              "    .colab-df-convert:hover {\n",
              "      background-color: #E2EBFA;\n",
              "      box-shadow: 0px 1px 2px rgba(60, 64, 67, 0.3), 0px 1px 3px 1px rgba(60, 64, 67, 0.15);\n",
              "      fill: #174EA6;\n",
              "    }\n",
              "\n",
              "    [theme=dark] .colab-df-convert {\n",
              "      background-color: #3B4455;\n",
              "      fill: #D2E3FC;\n",
              "    }\n",
              "\n",
              "    [theme=dark] .colab-df-convert:hover {\n",
              "      background-color: #434B5C;\n",
              "      box-shadow: 0px 1px 3px 1px rgba(0, 0, 0, 0.15);\n",
              "      filter: drop-shadow(0px 1px 2px rgba(0, 0, 0, 0.3));\n",
              "      fill: #FFFFFF;\n",
              "    }\n",
              "  </style>\n",
              "\n",
              "      <script>\n",
              "        const buttonEl =\n",
              "          document.querySelector('#df-3161358b-04c8-4b44-b317-c39ef2e5f1ce button.colab-df-convert');\n",
              "        buttonEl.style.display =\n",
              "          google.colab.kernel.accessAllowed ? 'block' : 'none';\n",
              "\n",
              "        async function convertToInteractive(key) {\n",
              "          const element = document.querySelector('#df-3161358b-04c8-4b44-b317-c39ef2e5f1ce');\n",
              "          const dataTable =\n",
              "            await google.colab.kernel.invokeFunction('convertToInteractive',\n",
              "                                                     [key], {});\n",
              "          if (!dataTable) return;\n",
              "\n",
              "          const docLinkHtml = 'Like what you see? Visit the ' +\n",
              "            '<a target=\"_blank\" href=https://colab.research.google.com/notebooks/data_table.ipynb>data table notebook</a>'\n",
              "            + ' to learn more about interactive tables.';\n",
              "          element.innerHTML = '';\n",
              "          dataTable['output_type'] = 'display_data';\n",
              "          await google.colab.output.renderOutput(dataTable, element);\n",
              "          const docLink = document.createElement('div');\n",
              "          docLink.innerHTML = docLinkHtml;\n",
              "          element.appendChild(docLink);\n",
              "        }\n",
              "      </script>\n",
              "    </div>\n",
              "  </div>\n",
              "  "
            ]
          },
          "metadata": {},
          "execution_count": 4
        }
      ],
      "source": [
        "# load a file into memory\n",
        "df=pd.read_csv('/content/drive/My Drive/data/new1/DataSet/data.csv')\n",
        "df.head()"
      ]
    },
    {
      "cell_type": "code",
      "execution_count": null,
      "metadata": {
        "colab": {
          "base_uri": "https://localhost:8080/"
        },
        "id": "K2VL8d32XQ5X",
        "outputId": "866c91df-9e62-4c4e-ca59-78f327a1d827"
      },
      "outputs": [
        {
          "output_type": "stream",
          "name": "stdout",
          "text": [
            "(540000, 11)\n"
          ]
        }
      ],
      "source": [
        "print(df.shape)"
      ]
    },
    {
      "cell_type": "code",
      "execution_count": null,
      "metadata": {
        "colab": {
          "base_uri": "https://localhost:8080/",
          "height": 282
        },
        "id": "SamEAhOPXQ7T",
        "outputId": "7aa58fd3-313b-42ca-9fee-27e9ad9cbaaf"
      },
      "outputs": [
        {
          "output_type": "execute_result",
          "data": {
            "text/plain": [
              "<matplotlib.legend.Legend at 0x7f266866f4d0>"
            ]
          },
          "metadata": {},
          "execution_count": 6
        },
        {
          "output_type": "display_data",
          "data": {
            "text/plain": [
              "<Figure size 432x288 with 1 Axes>"
            ],
            "image/png": "[encoded data removed]"
          },
          "metadata": {
            "needs_background": "light"
          }
        }
      ],
      "source": [
        "# change in values while walking\n",
        "\n",
        "plt.plot(np.arange(0,120),df.Ax[df['Activity']==\"walking\"][:120], label='X-axis')\n",
        "plt.plot(np.arange(0,120),df.Ay[df['Activity']==\"walking\"][:120], label='Y-axis')\n",
        "plt.plot(np.arange(0,120),df.Az[df['Activity']==\"walking\"][:120], label='Z-axis')\n",
        "plt.legend()"
      ]
    },
    {
      "cell_type": "code",
      "execution_count": null,
      "metadata": {
        "colab": {
          "base_uri": "https://localhost:8080/",
          "height": 282
        },
        "id": "DL0QspoCXQ-j",
        "outputId": "ca0530d1-7293-4f78-e68f-9a66a7f42bc2"
      },
      "outputs": [
        {
          "output_type": "execute_result",
          "data": {
            "text/plain": [
              "<matplotlib.legend.Legend at 0x7f2668628610>"
            ]
          },
          "metadata": {},
          "execution_count": 7
        },
        {
          "output_type": "display_data",
          "data": {
            "text/plain": [
              "<Figure size 432x288 with 1 Axes>"
            ],
            "image/png": "[encoded data removed]"
          },
          "metadata": {
            "needs_background": "light"
          }
        }
      ],
      "source": [
        "# change in values while jogging\n",
        "\n",
        "plt.plot(np.arange(0,120),df.Ax[df['Activity']==\"jogging\"][:120], label='X-axis')\n",
        "plt.plot(np.arange(0,120),df.Ay[df['Activity']==\"jogging\"][:120], label='Y-axis')\n",
        "plt.plot(np.arange(0,120),df.Az[df['Activity']==\"jogging\"][:120], label='Z-axis')\n",
        "plt.legend()"
      ]
    },
    {
      "cell_type": "code",
      "execution_count": null,
      "metadata": {
        "colab": {
          "base_uri": "https://localhost:8080/",
          "height": 282
        },
        "id": "eE1FpwQHXRJd",
        "outputId": "182ce415-3d3f-46d4-c63d-77fafdada5a8"
      },
      "outputs": [
        {
          "output_type": "execute_result",
          "data": {
            "text/plain": [
              "<matplotlib.legend.Legend at 0x7f2668136390>"
            ]
          },
          "metadata": {},
          "execution_count": 8
        },
        {
          "output_type": "display_data",
          "data": {
            "text/plain": [
              "<Figure size 432x288 with 1 Axes>"
            ],
            "image/png": "[encoded data removed]"
          },
          "metadata": {
            "needs_background": "light"
          }
        }
      ],
      "source": [
        "# change in values while sitting\n",
        "\n",
        "plt.plot(np.arange(0,120),df.Ax[df['Activity']==\"sitting\"][:120], label='X-axis')\n",
        "plt.plot(np.arange(0,120),df.Ay[df['Activity']==\"sitting\"][:120], label='Y-axis')\n",
        "plt.plot(np.arange(0,120),df.Az[df['Activity']==\"sitting\"][:120], label='Z-axis')\n",
        "plt.legend()"
      ]
    },
    {
      "cell_type": "code",
      "execution_count": null,
      "metadata": {
        "colab": {
          "base_uri": "https://localhost:8080/"
        },
        "id": "hViVdyciXRLN",
        "outputId": "bd5bfa6e-9a6d-48be-dccf-757c4e133444"
      },
      "outputs": [
        {
          "output_type": "execute_result",
          "data": {
            "text/plain": [
              "array(['walking', 'jogging', 'sitting'], dtype=object)"
            ]
          },
          "metadata": {},
          "execution_count": 9
        }
      ],
      "source": [
        "df.Activity.unique()"
      ]
    },
    {
      "cell_type": "code",
      "execution_count": null,
      "metadata": {
        "colab": {
          "base_uri": "https://localhost:8080/"
        },
        "id": "ZH-xvgaxXROY",
        "outputId": "ba79a040-e832-4632-96cb-9654ffe55fe5"
      },
      "outputs": [
        {
          "output_type": "execute_result",
          "data": {
            "text/plain": [
              "walking    180000\n",
              "jogging    180000\n",
              "sitting    180000\n",
              "Name: Activity, dtype: int64"
            ]
          },
          "metadata": {},
          "execution_count": 10
        }
      ],
      "source": [
        "df['Activity'].value_counts()"
      ]
    },
    {
      "cell_type": "code",
      "execution_count": null,
      "metadata": {
        "id": "kQIKq3KdXRP7"
      },
      "outputs": [],
      "source": [
        "df3 = df\n",
        "df3.drop('Lx', inplace=True, axis=1)"
      ]
    },
    {
      "cell_type": "code",
      "execution_count": null,
      "metadata": {
        "id": "4P5ijTA2XRSi"
      },
      "outputs": [],
      "source": [
        "df3.drop('Ly', inplace=True, axis=1)\n",
        "df3.drop('Lz', inplace=True, axis=1)"
      ]
    },
    {
      "cell_type": "code",
      "execution_count": null,
      "metadata": {
        "colab": {
          "base_uri": "https://localhost:8080/",
          "height": 424
        },
        "id": "zKcsGa8pXRUe",
        "outputId": "c82d48dc-a9ce-477b-a5da-dd6cfcd1b0f9"
      },
      "outputs": [
        {
          "output_type": "execute_result",
          "data": {
            "text/plain": [
              "        Unnamed: 0        Ax        Ay       Az        Gx        Gy        Gz  \\\n",
              "0                0  4.590100  -2.04310  2.65600  0.474950 -1.232700 -0.118810   \n",
              "1                1  3.732000  -2.45170  1.93410  1.841800 -0.697000 -0.845740   \n",
              "2                2  0.054481  -8.96220  4.15420  2.296500 -2.211000 -0.991430   \n",
              "3                3 -6.565000 -18.67300  7.54570  3.266300 -4.126700  0.054978   \n",
              "4                4 -2.029400 -11.19600 -0.84446  3.288900 -3.472500  0.760220   \n",
              "...            ...       ...       ...      ...       ...       ...       ...   \n",
              "539995       35995 -2.220100  -0.96704 -9.47980  0.013744  0.019242  0.003665   \n",
              "539996       35996 -2.192900  -1.00790 -9.49340  0.016493  0.025351  0.004276   \n",
              "539997       35997 -2.220100  -1.00790 -9.47980  0.015882  0.021686  0.004276   \n",
              "539998       35998 -2.220100  -0.95342 -9.54790  0.010996  0.023518  0.004276   \n",
              "539999       35999 -2.247400  -0.99429 -9.57510  0.013439  0.028100 -0.000916   \n",
              "\n",
              "       Activity  \n",
              "0       walking  \n",
              "1       walking  \n",
              "2       walking  \n",
              "3       walking  \n",
              "4       walking  \n",
              "...         ...  \n",
              "539995  sitting  \n",
              "539996  sitting  \n",
              "539997  sitting  \n",
              "539998  sitting  \n",
              "539999  sitting  \n",
              "\n",
              "[540000 rows x 8 columns]"
            ],
            "text/html": [
              "\n",
              "  <div id=\"df-9028072e-97aa-465b-9b6d-2a65593e8956\">\n",
              "    <div class=\"colab-df-container\">\n",
              "      <div>\n",
              "<style scoped>\n",
              "    .dataframe tbody tr th:only-of-type {\n",
              "        vertical-align: middle;\n",
              "    }\n",
              "\n",
              "    .dataframe tbody tr th {\n",
              "        vertical-align: top;\n",
              "    }\n",
              "\n",
              "    .dataframe thead th {\n",
              "        text-align: right;\n",
              "    }\n",
              "</style>\n",
              "<table border=\"1\" class=\"dataframe\">\n",
              "  <thead>\n",
              "    <tr style=\"text-align: right;\">\n",
              "      <th></th>\n",
              "      <th>Unnamed: 0</th>\n",
              "      <th>Ax</th>\n",
              "      <th>Ay</th>\n",
              "      <th>Az</th>\n",
              "      <th>Gx</th>\n",
              "      <th>Gy</th>\n",
              "      <th>Gz</th>\n",
              "      <th>Activity</th>\n",
              "    </tr>\n",
              "  </thead>\n",
              "  <tbody>\n",
              "    <tr>\n",
              "      <th>0</th>\n",
              "      <td>0</td>\n",
              "      <td>4.590100</td>\n",
              "      <td>-2.04310</td>\n",
              "      <td>2.65600</td>\n",
              "      <td>0.474950</td>\n",
              "      <td>-1.232700</td>\n",
              "      <td>-0.118810</td>\n",
              "      <td>walking</td>\n",
              "    </tr>\n",
              "    <tr>\n",
              "      <th>1</th>\n",
              "      <td>1</td>\n",
              "      <td>3.732000</td>\n",
              "      <td>-2.45170</td>\n",
              "      <td>1.93410</td>\n",
              "      <td>1.841800</td>\n",
              "      <td>-0.697000</td>\n",
              "      <td>-0.845740</td>\n",
              "      <td>walking</td>\n",
              "    </tr>\n",
              "    <tr>\n",
              "      <th>2</th>\n",
              "      <td>2</td>\n",
              "      <td>0.054481</td>\n",
              "      <td>-8.96220</td>\n",
              "      <td>4.15420</td>\n",
              "      <td>2.296500</td>\n",
              "      <td>-2.211000</td>\n",
              "      <td>-0.991430</td>\n",
              "      <td>walking</td>\n",
              "    </tr>\n",
              "    <tr>\n",
              "      <th>3</th>\n",
              "      <td>3</td>\n",
              "      <td>-6.565000</td>\n",
              "      <td>-18.67300</td>\n",
              "      <td>7.54570</td>\n",
              "      <td>3.266300</td>\n",
              "      <td>-4.126700</td>\n",
              "      <td>0.054978</td>\n",
              "      <td>walking</td>\n",
              "    </tr>\n",
              "    <tr>\n",
              "      <th>4</th>\n",
              "      <td>4</td>\n",
              "      <td>-2.029400</td>\n",
              "      <td>-11.19600</td>\n",
              "      <td>-0.84446</td>\n",
              "      <td>3.288900</td>\n",
              "      <td>-3.472500</td>\n",
              "      <td>0.760220</td>\n",
              "      <td>walking</td>\n",
              "    </tr>\n",
              "    <tr>\n",
              "      <th>...</th>\n",
              "      <td>...</td>\n",
              "      <td>...</td>\n",
              "      <td>...</td>\n",
              "      <td>...</td>\n",
              "      <td>...</td>\n",
              "      <td>...</td>\n",
              "      <td>...</td>\n",
              "      <td>...</td>\n",
              "    </tr>\n",
              "    <tr>\n",
              "      <th>539995</th>\n",
              "      <td>35995</td>\n",
              "      <td>-2.220100</td>\n",
              "      <td>-0.96704</td>\n",
              "      <td>-9.47980</td>\n",
              "      <td>0.013744</td>\n",
              "      <td>0.019242</td>\n",
              "      <td>0.003665</td>\n",
              "      <td>sitting</td>\n",
              "    </tr>\n",
              "    <tr>\n",
              "      <th>539996</th>\n",
              "      <td>35996</td>\n",
              "      <td>-2.192900</td>\n",
              "      <td>-1.00790</td>\n",
              "      <td>-9.49340</td>\n",
              "      <td>0.016493</td>\n",
              "      <td>0.025351</td>\n",
              "      <td>0.004276</td>\n",
              "      <td>sitting</td>\n",
              "    </tr>\n",
              "    <tr>\n",
              "      <th>539997</th>\n",
              "      <td>35997</td>\n",
              "      <td>-2.220100</td>\n",
              "      <td>-1.00790</td>\n",
              "      <td>-9.47980</td>\n",
              "      <td>0.015882</td>\n",
              "      <td>0.021686</td>\n",
              "      <td>0.004276</td>\n",
              "      <td>sitting</td>\n",
              "    </tr>\n",
              "    <tr>\n",
              "      <th>539998</th>\n",
              "      <td>35998</td>\n",
              "      <td>-2.220100</td>\n",
              "      <td>-0.95342</td>\n",
              "      <td>-9.54790</td>\n",
              "      <td>0.010996</td>\n",
              "      <td>0.023518</td>\n",
              "      <td>0.004276</td>\n",
              "      <td>sitting</td>\n",
              "    </tr>\n",
              "    <tr>\n",
              "      <th>539999</th>\n",
              "      <td>35999</td>\n",
              "      <td>-2.247400</td>\n",
              "      <td>-0.99429</td>\n",
              "      <td>-9.57510</td>\n",
              "      <td>0.013439</td>\n",
              "      <td>0.028100</td>\n",
              "      <td>-0.000916</td>\n",
              "      <td>sitting</td>\n",
              "    </tr>\n",
              "  </tbody>\n",
              "</table>\n",
              "<p>540000 rows × 8 columns</p>\n",
              "</div>\n",
              "      <button class=\"colab-df-convert\" onclick=\"convertToInteractive('df-9028072e-97aa-465b-9b6d-2a65593e8956')\"\n",
              "              title=\"Convert this dataframe to an interactive table.\"\n",
              "              style=\"display:none;\">\n",
              "        \n",
              "  <svg xmlns=\"http://www.w3.org/2000/svg\" height=\"24px\"viewBox=\"0 0 24 24\"\n",
              "       width=\"24px\">\n",
              "    <path d=\"M0 0h24v24H0V0z\" fill=\"none\"/>\n",
              "    <path d=\"M18.56 5.44l.94 2.06.94-2.06 2.06-.94-2.06-.94-.94-2.06-.94 2.06-2.06.94zm-11 1L8.5 8.5l.94-2.06 2.06-.94-2.06-.94L8.5 2.5l-.94 2.06-2.06.94zm10 10l.94 2.06.94-2.06 2.06-.94-2.06-.94-.94-2.06-.94 2.06-2.06.94z\"/><path d=\"M17.41 7.96l-1.37-1.37c-.4-.4-.92-.59-1.43-.59-.52 0-1.04.2-1.43.59L10.3 9.45l-7.72 7.72c-.78.78-.78 2.05 0 2.83L4 21.41c.39.39.9.59 1.41.59.51 0 1.02-.2 1.41-.59l7.78-7.78 2.81-2.81c.8-.78.8-2.07 0-2.86zM5.41 20L4 18.59l7.72-7.72 1.47 1.35L5.41 20z\"/>\n",
              "  </svg>\n",
              "      </button>\n",
              "      \n",
              "  <style>\n",
              "    .colab-df-container {\n",
              "      display:flex;\n",
              "      flex-wrap:wrap;\n",
              "      gap: 12px;\n",
              "    }\n",
              "\n",
              "    .colab-df-convert {\n",
              "      background-color: #E8F0FE;\n",
              "      border: none;\n",
              "      border-radius: 50%;\n",
              "      cursor: pointer;\n",
              "      display: none;\n",
              "      fill: #1967D2;\n",
              "      height: 32px;\n",
              "      padding: 0 0 0 0;\n",
              "      width: 32px;\n",
              "    }\n",
              "\n",
              "    .colab-df-convert:hover {\n",
              "      background-color: #E2EBFA;\n",
              "      box-shadow: 0px 1px 2px rgba(60, 64, 67, 0.3), 0px 1px 3px 1px rgba(60, 64, 67, 0.15);\n",
              "      fill: #174EA6;\n",
              "    }\n",
              "\n",
              "    [theme=dark] .colab-df-convert {\n",
              "      background-color: #3B4455;\n",
              "      fill: #D2E3FC;\n",
              "    }\n",
              "\n",
              "    [theme=dark] .colab-df-convert:hover {\n",
              "      background-color: #434B5C;\n",
              "      box-shadow: 0px 1px 3px 1px rgba(0, 0, 0, 0.15);\n",
              "      filter: drop-shadow(0px 1px 2px rgba(0, 0, 0, 0.3));\n",
              "      fill: #FFFFFF;\n",
              "    }\n",
              "  </style>\n",
              "\n",
              "      <script>\n",
              "        const buttonEl =\n",
              "          document.querySelector('#df-9028072e-97aa-465b-9b6d-2a65593e8956 button.colab-df-convert');\n",
              "        buttonEl.style.display =\n",
              "          google.colab.kernel.accessAllowed ? 'block' : 'none';\n",
              "\n",
              "        async function convertToInteractive(key) {\n",
              "          const element = document.querySelector('#df-9028072e-97aa-465b-9b6d-2a65593e8956');\n",
              "          const dataTable =\n",
              "            await google.colab.kernel.invokeFunction('convertToInteractive',\n",
              "                                                     [key], {});\n",
              "          if (!dataTable) return;\n",
              "\n",
              "          const docLinkHtml = 'Like what you see? Visit the ' +\n",
              "            '<a target=\"_blank\" href=https://colab.research.google.com/notebooks/data_table.ipynb>data table notebook</a>'\n",
              "            + ' to learn more about interactive tables.';\n",
              "          element.innerHTML = '';\n",
              "          dataTable['output_type'] = 'display_data';\n",
              "          await google.colab.output.renderOutput(dataTable, element);\n",
              "          const docLink = document.createElement('div');\n",
              "          docLink.innerHTML = docLinkHtml;\n",
              "          element.appendChild(docLink);\n",
              "        }\n",
              "      </script>\n",
              "    </div>\n",
              "  </div>\n",
              "  "
            ]
          },
          "metadata": {},
          "execution_count": 13
        }
      ],
      "source": [
        "df3"
      ]
    },
    {
      "cell_type": "code",
      "source": [
        "df5 = df3"
      ],
      "metadata": {
        "id": "siXF8Bkko8Gi"
      },
      "execution_count": null,
      "outputs": []
    },
    {
      "cell_type": "code",
      "source": [
        "df4 = df3[:300]"
      ],
      "metadata": {
        "id": "MbYHpnj8ok5F"
      },
      "execution_count": null,
      "outputs": []
    },
    {
      "cell_type": "code",
      "source": [
        "print(df5.shape)"
      ],
      "metadata": {
        "colab": {
          "base_uri": "https://localhost:8080/"
        },
        "id": "2IuvOAJ4orKY",
        "outputId": "75153066-60b9-4166-a412-08ed847508ad"
      },
      "execution_count": null,
      "outputs": [
        {
          "output_type": "stream",
          "name": "stdout",
          "text": [
            "(540000, 8)\n"
          ]
        }
      ]
    },
    {
      "cell_type": "code",
      "source": [
        "X_train = df3[df3.columns[1:7]]\n",
        "y_train = df3[df3.columns[7:8]]"
      ],
      "metadata": {
        "id": "IV5-i-fAzBpx"
      },
      "execution_count": null,
      "outputs": []
    },
    {
      "cell_type": "code",
      "source": [
        "df4 = df3[:300]"
      ],
      "metadata": {
        "id": "IDm4OE9Govo6"
      },
      "execution_count": null,
      "outputs": []
    },
    {
      "cell_type": "code",
      "source": [
        "df4.shape"
      ],
      "metadata": {
        "colab": {
          "base_uri": "https://localhost:8080/"
        },
        "id": "jHShKF9So1nH",
        "outputId": "d7e7233b-1da7-416d-febd-784feefe6f0a"
      },
      "execution_count": null,
      "outputs": [
        {
          "output_type": "execute_result",
          "data": {
            "text/plain": [
              "(300, 8)"
            ]
          },
          "metadata": {},
          "execution_count": 19
        }
      ]
    },
    {
      "cell_type": "code",
      "source": [
        "df5.append(df4,ignore_index=True)"
      ],
      "metadata": {
        "colab": {
          "base_uri": "https://localhost:8080/",
          "height": 424
        },
        "id": "I-HRlWAwp4vF",
        "outputId": "ee4b2bb1-3ed3-4551-ecb1-a30c05311612"
      },
      "execution_count": null,
      "outputs": [
        {
          "output_type": "execute_result",
          "data": {
            "text/plain": [
              "        Unnamed: 0        Ax       Ay       Az       Gx       Gy        Gz  \\\n",
              "0                0  4.590100  -2.0431  2.65600  0.47495 -1.23270 -0.118810   \n",
              "1                1  3.732000  -2.4517  1.93410  1.84180 -0.69700 -0.845740   \n",
              "2                2  0.054481  -8.9622  4.15420  2.29650 -2.21100 -0.991430   \n",
              "3                3 -6.565000 -18.6730  7.54570  3.26630 -4.12670  0.054978   \n",
              "4                4 -2.029400 -11.1960 -0.84446  3.28890 -3.47250  0.760220   \n",
              "...            ...       ...      ...      ...      ...      ...       ...   \n",
              "540295         295 -4.154200 -14.6690  1.41650  3.08000 -3.69120  0.506710   \n",
              "540296         296  0.231550 -10.1880 -2.24740  2.41480 -1.53910  0.597730   \n",
              "540297         297  5.298300  -6.0066 -2.02940  2.40620 -0.51007 -0.143550   \n",
              "540298         298  5.761400  -4.5764 -0.39499  1.85730 -0.13592 -0.943180   \n",
              "540299         299  2.492500  -9.0439  0.84446  1.74310 -0.95570 -0.397060   \n",
              "\n",
              "       Activity  \n",
              "0       walking  \n",
              "1       walking  \n",
              "2       walking  \n",
              "3       walking  \n",
              "4       walking  \n",
              "...         ...  \n",
              "540295  walking  \n",
              "540296  walking  \n",
              "540297  walking  \n",
              "540298  walking  \n",
              "540299  walking  \n",
              "\n",
              "[540300 rows x 8 columns]"
            ],
            "text/html": [
              "\n",
              "  <div id=\"df-3acb17e7-50d4-411f-afad-4f5a87ae2571\">\n",
              "    <div class=\"colab-df-container\">\n",
              "      <div>\n",
              "<style scoped>\n",
              "    .dataframe tbody tr th:only-of-type {\n",
              "        vertical-align: middle;\n",
              "    }\n",
              "\n",
              "    .dataframe tbody tr th {\n",
              "        vertical-align: top;\n",
              "    }\n",
              "\n",
              "    .dataframe thead th {\n",
              "        text-align: right;\n",
              "    }\n",
              "</style>\n",
              "<table border=\"1\" class=\"dataframe\">\n",
              "  <thead>\n",
              "    <tr style=\"text-align: right;\">\n",
              "      <th></th>\n",
              "      <th>Unnamed: 0</th>\n",
              "      <th>Ax</th>\n",
              "      <th>Ay</th>\n",
              "      <th>Az</th>\n",
              "      <th>Gx</th>\n",
              "      <th>Gy</th>\n",
              "      <th>Gz</th>\n",
              "      <th>Activity</th>\n",
              "    </tr>\n",
              "  </thead>\n",
              "  <tbody>\n",
              "    <tr>\n",
              "      <th>0</th>\n",
              "      <td>0</td>\n",
              "      <td>4.590100</td>\n",
              "      <td>-2.0431</td>\n",
              "      <td>2.65600</td>\n",
              "      <td>0.47495</td>\n",
              "      <td>-1.23270</td>\n",
              "      <td>-0.118810</td>\n",
              "      <td>walking</td>\n",
              "    </tr>\n",
              "    <tr>\n",
              "      <th>1</th>\n",
              "      <td>1</td>\n",
              "      <td>3.732000</td>\n",
              "      <td>-2.4517</td>\n",
              "      <td>1.93410</td>\n",
              "      <td>1.84180</td>\n",
              "      <td>-0.69700</td>\n",
              "      <td>-0.845740</td>\n",
              "      <td>walking</td>\n",
              "    </tr>\n",
              "    <tr>\n",
              "      <th>2</th>\n",
              "      <td>2</td>\n",
              "      <td>0.054481</td>\n",
              "      <td>-8.9622</td>\n",
              "      <td>4.15420</td>\n",
              "      <td>2.29650</td>\n",
              "      <td>-2.21100</td>\n",
              "      <td>-0.991430</td>\n",
              "      <td>walking</td>\n",
              "    </tr>\n",
              "    <tr>\n",
              "      <th>3</th>\n",
              "      <td>3</td>\n",
              "      <td>-6.565000</td>\n",
              "      <td>-18.6730</td>\n",
              "      <td>7.54570</td>\n",
              "      <td>3.26630</td>\n",
              "      <td>-4.12670</td>\n",
              "      <td>0.054978</td>\n",
              "      <td>walking</td>\n",
              "    </tr>\n",
              "    <tr>\n",
              "      <th>4</th>\n",
              "      <td>4</td>\n",
              "      <td>-2.029400</td>\n",
              "      <td>-11.1960</td>\n",
              "      <td>-0.84446</td>\n",
              "      <td>3.28890</td>\n",
              "      <td>-3.47250</td>\n",
              "      <td>0.760220</td>\n",
              "      <td>walking</td>\n",
              "    </tr>\n",
              "    <tr>\n",
              "      <th>...</th>\n",
              "      <td>...</td>\n",
              "      <td>...</td>\n",
              "      <td>...</td>\n",
              "      <td>...</td>\n",
              "      <td>...</td>\n",
              "      <td>...</td>\n",
              "      <td>...</td>\n",
              "      <td>...</td>\n",
              "    </tr>\n",
              "    <tr>\n",
              "      <th>540295</th>\n",
              "      <td>295</td>\n",
              "      <td>-4.154200</td>\n",
              "      <td>-14.6690</td>\n",
              "      <td>1.41650</td>\n",
              "      <td>3.08000</td>\n",
              "      <td>-3.69120</td>\n",
              "      <td>0.506710</td>\n",
              "      <td>walking</td>\n",
              "    </tr>\n",
              "    <tr>\n",
              "      <th>540296</th>\n",
              "      <td>296</td>\n",
              "      <td>0.231550</td>\n",
              "      <td>-10.1880</td>\n",
              "      <td>-2.24740</td>\n",
              "      <td>2.41480</td>\n",
              "      <td>-1.53910</td>\n",
              "      <td>0.597730</td>\n",
              "      <td>walking</td>\n",
              "    </tr>\n",
              "    <tr>\n",
              "      <th>540297</th>\n",
              "      <td>297</td>\n",
              "      <td>5.298300</td>\n",
              "      <td>-6.0066</td>\n",
              "      <td>-2.02940</td>\n",
              "      <td>2.40620</td>\n",
              "      <td>-0.51007</td>\n",
              "      <td>-0.143550</td>\n",
              "      <td>walking</td>\n",
              "    </tr>\n",
              "    <tr>\n",
              "      <th>540298</th>\n",
              "      <td>298</td>\n",
              "      <td>5.761400</td>\n",
              "      <td>-4.5764</td>\n",
              "      <td>-0.39499</td>\n",
              "      <td>1.85730</td>\n",
              "      <td>-0.13592</td>\n",
              "      <td>-0.943180</td>\n",
              "      <td>walking</td>\n",
              "    </tr>\n",
              "    <tr>\n",
              "      <th>540299</th>\n",
              "      <td>299</td>\n",
              "      <td>2.492500</td>\n",
              "      <td>-9.0439</td>\n",
              "      <td>0.84446</td>\n",
              "      <td>1.74310</td>\n",
              "      <td>-0.95570</td>\n",
              "      <td>-0.397060</td>\n",
              "      <td>walking</td>\n",
              "    </tr>\n",
              "  </tbody>\n",
              "</table>\n",
              "<p>540300 rows × 8 columns</p>\n",
              "</div>\n",
              "      <button class=\"colab-df-convert\" onclick=\"convertToInteractive('df-3acb17e7-50d4-411f-afad-4f5a87ae2571')\"\n",
              "              title=\"Convert this dataframe to an interactive table.\"\n",
              "              style=\"display:none;\">\n",
              "        \n",
              "  <svg xmlns=\"http://www.w3.org/2000/svg\" height=\"24px\"viewBox=\"0 0 24 24\"\n",
              "       width=\"24px\">\n",
              "    <path d=\"M0 0h24v24H0V0z\" fill=\"none\"/>\n",
              "    <path d=\"M18.56 5.44l.94 2.06.94-2.06 2.06-.94-2.06-.94-.94-2.06-.94 2.06-2.06.94zm-11 1L8.5 8.5l.94-2.06 2.06-.94-2.06-.94L8.5 2.5l-.94 2.06-2.06.94zm10 10l.94 2.06.94-2.06 2.06-.94-2.06-.94-.94-2.06-.94 2.06-2.06.94z\"/><path d=\"M17.41 7.96l-1.37-1.37c-.4-.4-.92-.59-1.43-.59-.52 0-1.04.2-1.43.59L10.3 9.45l-7.72 7.72c-.78.78-.78 2.05 0 2.83L4 21.41c.39.39.9.59 1.41.59.51 0 1.02-.2 1.41-.59l7.78-7.78 2.81-2.81c.8-.78.8-2.07 0-2.86zM5.41 20L4 18.59l7.72-7.72 1.47 1.35L5.41 20z\"/>\n",
              "  </svg>\n",
              "      </button>\n",
              "      \n",
              "  <style>\n",
              "    .colab-df-container {\n",
              "      display:flex;\n",
              "      flex-wrap:wrap;\n",
              "      gap: 12px;\n",
              "    }\n",
              "\n",
              "    .colab-df-convert {\n",
              "      background-color: #E8F0FE;\n",
              "      border: none;\n",
              "      border-radius: 50%;\n",
              "      cursor: pointer;\n",
              "      display: none;\n",
              "      fill: #1967D2;\n",
              "      height: 32px;\n",
              "      padding: 0 0 0 0;\n",
              "      width: 32px;\n",
              "    }\n",
              "\n",
              "    .colab-df-convert:hover {\n",
              "      background-color: #E2EBFA;\n",
              "      box-shadow: 0px 1px 2px rgba(60, 64, 67, 0.3), 0px 1px 3px 1px rgba(60, 64, 67, 0.15);\n",
              "      fill: #174EA6;\n",
              "    }\n",
              "\n",
              "    [theme=dark] .colab-df-convert {\n",
              "      background-color: #3B4455;\n",
              "      fill: #D2E3FC;\n",
              "    }\n",
              "\n",
              "    [theme=dark] .colab-df-convert:hover {\n",
              "      background-color: #434B5C;\n",
              "      box-shadow: 0px 1px 3px 1px rgba(0, 0, 0, 0.15);\n",
              "      filter: drop-shadow(0px 1px 2px rgba(0, 0, 0, 0.3));\n",
              "      fill: #FFFFFF;\n",
              "    }\n",
              "  </style>\n",
              "\n",
              "      <script>\n",
              "        const buttonEl =\n",
              "          document.querySelector('#df-3acb17e7-50d4-411f-afad-4f5a87ae2571 button.colab-df-convert');\n",
              "        buttonEl.style.display =\n",
              "          google.colab.kernel.accessAllowed ? 'block' : 'none';\n",
              "\n",
              "        async function convertToInteractive(key) {\n",
              "          const element = document.querySelector('#df-3acb17e7-50d4-411f-afad-4f5a87ae2571');\n",
              "          const dataTable =\n",
              "            await google.colab.kernel.invokeFunction('convertToInteractive',\n",
              "                                                     [key], {});\n",
              "          if (!dataTable) return;\n",
              "\n",
              "          const docLinkHtml = 'Like what you see? Visit the ' +\n",
              "            '<a target=\"_blank\" href=https://colab.research.google.com/notebooks/data_table.ipynb>data table notebook</a>'\n",
              "            + ' to learn more about interactive tables.';\n",
              "          element.innerHTML = '';\n",
              "          dataTable['output_type'] = 'display_data';\n",
              "          await google.colab.output.renderOutput(dataTable, element);\n",
              "          const docLink = document.createElement('div');\n",
              "          docLink.innerHTML = docLinkHtml;\n",
              "          element.appendChild(docLink);\n",
              "        }\n",
              "      </script>\n",
              "    </div>\n",
              "  </div>\n",
              "  "
            ]
          },
          "metadata": {},
          "execution_count": 20
        }
      ]
    },
    {
      "cell_type": "code",
      "source": [
        "df5.shape"
      ],
      "metadata": {
        "colab": {
          "base_uri": "https://localhost:8080/"
        },
        "id": "Spp-NgMYqAct",
        "outputId": "65d18baa-257c-47a9-bdf4-779b2651a276"
      },
      "execution_count": null,
      "outputs": [
        {
          "output_type": "execute_result",
          "data": {
            "text/plain": [
              "(540000, 8)"
            ]
          },
          "metadata": {},
          "execution_count": 21
        }
      ]
    },
    {
      "cell_type": "code",
      "source": [
        "X_train"
      ],
      "metadata": {
        "colab": {
          "base_uri": "https://localhost:8080/",
          "height": 424
        },
        "id": "5rcnh7QtzDdM",
        "outputId": "db70c194-2341-46ce-ad9f-1e8480cb3746"
      },
      "execution_count": null,
      "outputs": [
        {
          "output_type": "execute_result",
          "data": {
            "text/plain": [
              "              Ax        Ay       Az        Gx        Gy        Gz\n",
              "0       4.590100  -2.04310  2.65600  0.474950 -1.232700 -0.118810\n",
              "1       3.732000  -2.45170  1.93410  1.841800 -0.697000 -0.845740\n",
              "2       0.054481  -8.96220  4.15420  2.296500 -2.211000 -0.991430\n",
              "3      -6.565000 -18.67300  7.54570  3.266300 -4.126700  0.054978\n",
              "4      -2.029400 -11.19600 -0.84446  3.288900 -3.472500  0.760220\n",
              "...          ...       ...      ...       ...       ...       ...\n",
              "539995 -2.220100  -0.96704 -9.47980  0.013744  0.019242  0.003665\n",
              "539996 -2.192900  -1.00790 -9.49340  0.016493  0.025351  0.004276\n",
              "539997 -2.220100  -1.00790 -9.47980  0.015882  0.021686  0.004276\n",
              "539998 -2.220100  -0.95342 -9.54790  0.010996  0.023518  0.004276\n",
              "539999 -2.247400  -0.99429 -9.57510  0.013439  0.028100 -0.000916\n",
              "\n",
              "[540000 rows x 6 columns]"
            ],
            "text/html": [
              "\n",
              "  <div id=\"df-8569d30e-7e24-4846-9444-5fc4fa072ab4\">\n",
              "    <div class=\"colab-df-container\">\n",
              "      <div>\n",
              "<style scoped>\n",
              "    .dataframe tbody tr th:only-of-type {\n",
              "        vertical-align: middle;\n",
              "    }\n",
              "\n",
              "    .dataframe tbody tr th {\n",
              "        vertical-align: top;\n",
              "    }\n",
              "\n",
              "    .dataframe thead th {\n",
              "        text-align: right;\n",
              "    }\n",
              "</style>\n",
              "<table border=\"1\" class=\"dataframe\">\n",
              "  <thead>\n",
              "    <tr style=\"text-align: right;\">\n",
              "      <th></th>\n",
              "      <th>Ax</th>\n",
              "      <th>Ay</th>\n",
              "      <th>Az</th>\n",
              "      <th>Gx</th>\n",
              "      <th>Gy</th>\n",
              "      <th>Gz</th>\n",
              "    </tr>\n",
              "  </thead>\n",
              "  <tbody>\n",
              "    <tr>\n",
              "      <th>0</th>\n",
              "      <td>4.590100</td>\n",
              "      <td>-2.04310</td>\n",
              "      <td>2.65600</td>\n",
              "      <td>0.474950</td>\n",
              "      <td>-1.232700</td>\n",
              "      <td>-0.118810</td>\n",
              "    </tr>\n",
              "    <tr>\n",
              "      <th>1</th>\n",
              "      <td>3.732000</td>\n",
              "      <td>-2.45170</td>\n",
              "      <td>1.93410</td>\n",
              "      <td>1.841800</td>\n",
              "      <td>-0.697000</td>\n",
              "      <td>-0.845740</td>\n",
              "    </tr>\n",
              "    <tr>\n",
              "      <th>2</th>\n",
              "      <td>0.054481</td>\n",
              "      <td>-8.96220</td>\n",
              "      <td>4.15420</td>\n",
              "      <td>2.296500</td>\n",
              "      <td>-2.211000</td>\n",
              "      <td>-0.991430</td>\n",
              "    </tr>\n",
              "    <tr>\n",
              "      <th>3</th>\n",
              "      <td>-6.565000</td>\n",
              "      <td>-18.67300</td>\n",
              "      <td>7.54570</td>\n",
              "      <td>3.266300</td>\n",
              "      <td>-4.126700</td>\n",
              "      <td>0.054978</td>\n",
              "    </tr>\n",
              "    <tr>\n",
              "      <th>4</th>\n",
              "      <td>-2.029400</td>\n",
              "      <td>-11.19600</td>\n",
              "      <td>-0.84446</td>\n",
              "      <td>3.288900</td>\n",
              "      <td>-3.472500</td>\n",
              "      <td>0.760220</td>\n",
              "    </tr>\n",
              "    <tr>\n",
              "      <th>...</th>\n",
              "      <td>...</td>\n",
              "      <td>...</td>\n",
              "      <td>...</td>\n",
              "      <td>...</td>\n",
              "      <td>...</td>\n",
              "      <td>...</td>\n",
              "    </tr>\n",
              "    <tr>\n",
              "      <th>539995</th>\n",
              "      <td>-2.220100</td>\n",
              "      <td>-0.96704</td>\n",
              "      <td>-9.47980</td>\n",
              "      <td>0.013744</td>\n",
              "      <td>0.019242</td>\n",
              "      <td>0.003665</td>\n",
              "    </tr>\n",
              "    <tr>\n",
              "      <th>539996</th>\n",
              "      <td>-2.192900</td>\n",
              "      <td>-1.00790</td>\n",
              "      <td>-9.49340</td>\n",
              "      <td>0.016493</td>\n",
              "      <td>0.025351</td>\n",
              "      <td>0.004276</td>\n",
              "    </tr>\n",
              "    <tr>\n",
              "      <th>539997</th>\n",
              "      <td>-2.220100</td>\n",
              "      <td>-1.00790</td>\n",
              "      <td>-9.47980</td>\n",
              "      <td>0.015882</td>\n",
              "      <td>0.021686</td>\n",
              "      <td>0.004276</td>\n",
              "    </tr>\n",
              "    <tr>\n",
              "      <th>539998</th>\n",
              "      <td>-2.220100</td>\n",
              "      <td>-0.95342</td>\n",
              "      <td>-9.54790</td>\n",
              "      <td>0.010996</td>\n",
              "      <td>0.023518</td>\n",
              "      <td>0.004276</td>\n",
              "    </tr>\n",
              "    <tr>\n",
              "      <th>539999</th>\n",
              "      <td>-2.247400</td>\n",
              "      <td>-0.99429</td>\n",
              "      <td>-9.57510</td>\n",
              "      <td>0.013439</td>\n",
              "      <td>0.028100</td>\n",
              "      <td>-0.000916</td>\n",
              "    </tr>\n",
              "  </tbody>\n",
              "</table>\n",
              "<p>540000 rows × 6 columns</p>\n",
              "</div>\n",
              "      <button class=\"colab-df-convert\" onclick=\"convertToInteractive('df-8569d30e-7e24-4846-9444-5fc4fa072ab4')\"\n",
              "              title=\"Convert this dataframe to an interactive table.\"\n",
              "              style=\"display:none;\">\n",
              "        \n",
              "  <svg xmlns=\"http://www.w3.org/2000/svg\" height=\"24px\"viewBox=\"0 0 24 24\"\n",
              "       width=\"24px\">\n",
              "    <path d=\"M0 0h24v24H0V0z\" fill=\"none\"/>\n",
              "    <path d=\"M18.56 5.44l.94 2.06.94-2.06 2.06-.94-2.06-.94-.94-2.06-.94 2.06-2.06.94zm-11 1L8.5 8.5l.94-2.06 2.06-.94-2.06-.94L8.5 2.5l-.94 2.06-2.06.94zm10 10l.94 2.06.94-2.06 2.06-.94-2.06-.94-.94-2.06-.94 2.06-2.06.94z\"/><path d=\"M17.41 7.96l-1.37-1.37c-.4-.4-.92-.59-1.43-.59-.52 0-1.04.2-1.43.59L10.3 9.45l-7.72 7.72c-.78.78-.78 2.05 0 2.83L4 21.41c.39.39.9.59 1.41.59.51 0 1.02-.2 1.41-.59l7.78-7.78 2.81-2.81c.8-.78.8-2.07 0-2.86zM5.41 20L4 18.59l7.72-7.72 1.47 1.35L5.41 20z\"/>\n",
              "  </svg>\n",
              "      </button>\n",
              "      \n",
              "  <style>\n",
              "    .colab-df-container {\n",
              "      display:flex;\n",
              "      flex-wrap:wrap;\n",
              "      gap: 12px;\n",
              "    }\n",
              "\n",
              "    .colab-df-convert {\n",
              "      background-color: #E8F0FE;\n",
              "      border: none;\n",
              "      border-radius: 50%;\n",
              "      cursor: pointer;\n",
              "      display: none;\n",
              "      fill: #1967D2;\n",
              "      height: 32px;\n",
              "      padding: 0 0 0 0;\n",
              "      width: 32px;\n",
              "    }\n",
              "\n",
              "    .colab-df-convert:hover {\n",
              "      background-color: #E2EBFA;\n",
              "      box-shadow: 0px 1px 2px rgba(60, 64, 67, 0.3), 0px 1px 3px 1px rgba(60, 64, 67, 0.15);\n",
              "      fill: #174EA6;\n",
              "    }\n",
              "\n",
              "    [theme=dark] .colab-df-convert {\n",
              "      background-color: #3B4455;\n",
              "      fill: #D2E3FC;\n",
              "    }\n",
              "\n",
              "    [theme=dark] .colab-df-convert:hover {\n",
              "      background-color: #434B5C;\n",
              "      box-shadow: 0px 1px 3px 1px rgba(0, 0, 0, 0.15);\n",
              "      filter: drop-shadow(0px 1px 2px rgba(0, 0, 0, 0.3));\n",
              "      fill: #FFFFFF;\n",
              "    }\n",
              "  </style>\n",
              "\n",
              "      <script>\n",
              "        const buttonEl =\n",
              "          document.querySelector('#df-8569d30e-7e24-4846-9444-5fc4fa072ab4 button.colab-df-convert');\n",
              "        buttonEl.style.display =\n",
              "          google.colab.kernel.accessAllowed ? 'block' : 'none';\n",
              "\n",
              "        async function convertToInteractive(key) {\n",
              "          const element = document.querySelector('#df-8569d30e-7e24-4846-9444-5fc4fa072ab4');\n",
              "          const dataTable =\n",
              "            await google.colab.kernel.invokeFunction('convertToInteractive',\n",
              "                                                     [key], {});\n",
              "          if (!dataTable) return;\n",
              "\n",
              "          const docLinkHtml = 'Like what you see? Visit the ' +\n",
              "            '<a target=\"_blank\" href=https://colab.research.google.com/notebooks/data_table.ipynb>data table notebook</a>'\n",
              "            + ' to learn more about interactive tables.';\n",
              "          element.innerHTML = '';\n",
              "          dataTable['output_type'] = 'display_data';\n",
              "          await google.colab.output.renderOutput(dataTable, element);\n",
              "          const docLink = document.createElement('div');\n",
              "          docLink.innerHTML = docLinkHtml;\n",
              "          element.appendChild(docLink);\n",
              "        }\n",
              "      </script>\n",
              "    </div>\n",
              "  </div>\n",
              "  "
            ]
          },
          "metadata": {},
          "execution_count": 22
        }
      ]
    },
    {
      "cell_type": "code",
      "source": [],
      "metadata": {
        "id": "m0XIEBkGpgQ0"
      },
      "execution_count": null,
      "outputs": []
    },
    {
      "cell_type": "code",
      "source": [
        "y_train"
      ],
      "metadata": {
        "colab": {
          "base_uri": "https://localhost:8080/",
          "height": 424
        },
        "id": "NXYw2YzpzDmz",
        "outputId": "a97e128b-de9e-448c-d811-da39a1549dcf"
      },
      "execution_count": null,
      "outputs": [
        {
          "output_type": "execute_result",
          "data": {
            "text/plain": [
              "       Activity\n",
              "0       walking\n",
              "1       walking\n",
              "2       walking\n",
              "3       walking\n",
              "4       walking\n",
              "...         ...\n",
              "539995  sitting\n",
              "539996  sitting\n",
              "539997  sitting\n",
              "539998  sitting\n",
              "539999  sitting\n",
              "\n",
              "[540000 rows x 1 columns]"
            ],
            "text/html": [
              "\n",
              "  <div id=\"df-d03afcd5-9bc8-47a9-9f90-1b2ff3de8e6d\">\n",
              "    <div class=\"colab-df-container\">\n",
              "      <div>\n",
              "<style scoped>\n",
              "    .dataframe tbody tr th:only-of-type {\n",
              "        vertical-align: middle;\n",
              "    }\n",
              "\n",
              "    .dataframe tbody tr th {\n",
              "        vertical-align: top;\n",
              "    }\n",
              "\n",
              "    .dataframe thead th {\n",
              "        text-align: right;\n",
              "    }\n",
              "</style>\n",
              "<table border=\"1\" class=\"dataframe\">\n",
              "  <thead>\n",
              "    <tr style=\"text-align: right;\">\n",
              "      <th></th>\n",
              "      <th>Activity</th>\n",
              "    </tr>\n",
              "  </thead>\n",
              "  <tbody>\n",
              "    <tr>\n",
              "      <th>0</th>\n",
              "      <td>walking</td>\n",
              "    </tr>\n",
              "    <tr>\n",
              "      <th>1</th>\n",
              "      <td>walking</td>\n",
              "    </tr>\n",
              "    <tr>\n",
              "      <th>2</th>\n",
              "      <td>walking</td>\n",
              "    </tr>\n",
              "    <tr>\n",
              "      <th>3</th>\n",
              "      <td>walking</td>\n",
              "    </tr>\n",
              "    <tr>\n",
              "      <th>4</th>\n",
              "      <td>walking</td>\n",
              "    </tr>\n",
              "    <tr>\n",
              "      <th>...</th>\n",
              "      <td>...</td>\n",
              "    </tr>\n",
              "    <tr>\n",
              "      <th>539995</th>\n",
              "      <td>sitting</td>\n",
              "    </tr>\n",
              "    <tr>\n",
              "      <th>539996</th>\n",
              "      <td>sitting</td>\n",
              "    </tr>\n",
              "    <tr>\n",
              "      <th>539997</th>\n",
              "      <td>sitting</td>\n",
              "    </tr>\n",
              "    <tr>\n",
              "      <th>539998</th>\n",
              "      <td>sitting</td>\n",
              "    </tr>\n",
              "    <tr>\n",
              "      <th>539999</th>\n",
              "      <td>sitting</td>\n",
              "    </tr>\n",
              "  </tbody>\n",
              "</table>\n",
              "<p>540000 rows × 1 columns</p>\n",
              "</div>\n",
              "      <button class=\"colab-df-convert\" onclick=\"convertToInteractive('df-d03afcd5-9bc8-47a9-9f90-1b2ff3de8e6d')\"\n",
              "              title=\"Convert this dataframe to an interactive table.\"\n",
              "              style=\"display:none;\">\n",
              "        \n",
              "  <svg xmlns=\"http://www.w3.org/2000/svg\" height=\"24px\"viewBox=\"0 0 24 24\"\n",
              "       width=\"24px\">\n",
              "    <path d=\"M0 0h24v24H0V0z\" fill=\"none\"/>\n",
              "    <path d=\"M18.56 5.44l.94 2.06.94-2.06 2.06-.94-2.06-.94-.94-2.06-.94 2.06-2.06.94zm-11 1L8.5 8.5l.94-2.06 2.06-.94-2.06-.94L8.5 2.5l-.94 2.06-2.06.94zm10 10l.94 2.06.94-2.06 2.06-.94-2.06-.94-.94-2.06-.94 2.06-2.06.94z\"/><path d=\"M17.41 7.96l-1.37-1.37c-.4-.4-.92-.59-1.43-.59-.52 0-1.04.2-1.43.59L10.3 9.45l-7.72 7.72c-.78.78-.78 2.05 0 2.83L4 21.41c.39.39.9.59 1.41.59.51 0 1.02-.2 1.41-.59l7.78-7.78 2.81-2.81c.8-.78.8-2.07 0-2.86zM5.41 20L4 18.59l7.72-7.72 1.47 1.35L5.41 20z\"/>\n",
              "  </svg>\n",
              "      </button>\n",
              "      \n",
              "  <style>\n",
              "    .colab-df-container {\n",
              "      display:flex;\n",
              "      flex-wrap:wrap;\n",
              "      gap: 12px;\n",
              "    }\n",
              "\n",
              "    .colab-df-convert {\n",
              "      background-color: #E8F0FE;\n",
              "      border: none;\n",
              "      border-radius: 50%;\n",
              "      cursor: pointer;\n",
              "      display: none;\n",
              "      fill: #1967D2;\n",
              "      height: 32px;\n",
              "      padding: 0 0 0 0;\n",
              "      width: 32px;\n",
              "    }\n",
              "\n",
              "    .colab-df-convert:hover {\n",
              "      background-color: #E2EBFA;\n",
              "      box-shadow: 0px 1px 2px rgba(60, 64, 67, 0.3), 0px 1px 3px 1px rgba(60, 64, 67, 0.15);\n",
              "      fill: #174EA6;\n",
              "    }\n",
              "\n",
              "    [theme=dark] .colab-df-convert {\n",
              "      background-color: #3B4455;\n",
              "      fill: #D2E3FC;\n",
              "    }\n",
              "\n",
              "    [theme=dark] .colab-df-convert:hover {\n",
              "      background-color: #434B5C;\n",
              "      box-shadow: 0px 1px 3px 1px rgba(0, 0, 0, 0.15);\n",
              "      filter: drop-shadow(0px 1px 2px rgba(0, 0, 0, 0.3));\n",
              "      fill: #FFFFFF;\n",
              "    }\n",
              "  </style>\n",
              "\n",
              "      <script>\n",
              "        const buttonEl =\n",
              "          document.querySelector('#df-d03afcd5-9bc8-47a9-9f90-1b2ff3de8e6d button.colab-df-convert');\n",
              "        buttonEl.style.display =\n",
              "          google.colab.kernel.accessAllowed ? 'block' : 'none';\n",
              "\n",
              "        async function convertToInteractive(key) {\n",
              "          const element = document.querySelector('#df-d03afcd5-9bc8-47a9-9f90-1b2ff3de8e6d');\n",
              "          const dataTable =\n",
              "            await google.colab.kernel.invokeFunction('convertToInteractive',\n",
              "                                                     [key], {});\n",
              "          if (!dataTable) return;\n",
              "\n",
              "          const docLinkHtml = 'Like what you see? Visit the ' +\n",
              "            '<a target=\"_blank\" href=https://colab.research.google.com/notebooks/data_table.ipynb>data table notebook</a>'\n",
              "            + ' to learn more about interactive tables.';\n",
              "          element.innerHTML = '';\n",
              "          dataTable['output_type'] = 'display_data';\n",
              "          await google.colab.output.renderOutput(dataTable, element);\n",
              "          const docLink = document.createElement('div');\n",
              "          docLink.innerHTML = docLinkHtml;\n",
              "          element.appendChild(docLink);\n",
              "        }\n",
              "      </script>\n",
              "    </div>\n",
              "  </div>\n",
              "  "
            ]
          },
          "metadata": {},
          "execution_count": 23
        }
      ]
    },
    {
      "cell_type": "code",
      "source": [
        "y_train.Activity.unique()"
      ],
      "metadata": {
        "colab": {
          "base_uri": "https://localhost:8080/"
        },
        "id": "rcLMg-2izOTP",
        "outputId": "b91fefeb-6498-40a2-884a-91051c70abc2"
      },
      "execution_count": null,
      "outputs": [
        {
          "output_type": "execute_result",
          "data": {
            "text/plain": [
              "array(['walking', 'jogging', 'sitting'], dtype=object)"
            ]
          },
          "metadata": {},
          "execution_count": 24
        }
      ]
    },
    {
      "cell_type": "code",
      "source": [
        "from sklearn.preprocessing import LabelEncoder\n",
        "\n",
        "encoder=LabelEncoder()\n",
        "y_train=encoder.fit_transform(y_train)\n",
        "y_train[:10]"
      ],
      "metadata": {
        "colab": {
          "base_uri": "https://localhost:8080/"
        },
        "id": "ySe77uU5zOii",
        "outputId": "80199185-0a9a-435d-d5cf-601fba89feec"
      },
      "execution_count": null,
      "outputs": [
        {
          "output_type": "stream",
          "name": "stderr",
          "text": [
            "/usr/local/lib/python3.7/dist-packages/sklearn/preprocessing/_label.py:115: DataConversionWarning: A column-vector y was passed when a 1d array was expected. Please change the shape of y to (n_samples, ), for example using ravel().\n",
            "  y = column_or_1d(y, warn=True)\n"
          ]
        },
        {
          "output_type": "execute_result",
          "data": {
            "text/plain": [
              "array([2, 2, 2, 2, 2, 2, 2, 2, 2, 2])"
            ]
          },
          "metadata": {},
          "execution_count": 25
        }
      ]
    },
    {
      "cell_type": "code",
      "source": [],
      "metadata": {
        "id": "ne4QZD9u0SDG"
      },
      "execution_count": null,
      "outputs": []
    },
    {
      "cell_type": "code",
      "execution_count": null,
      "metadata": {
        "id": "YZGlkcAXZOqd"
      },
      "outputs": [],
      "source": [
        "import scipy.stats as stats"
      ]
    },
    {
      "cell_type": "code",
      "execution_count": null,
      "metadata": {
        "id": "ElhKUE7KW0rt"
      },
      "outputs": [],
      "source": [
        "segments = []\n",
        "labels = []\n",
        "\n",
        "for i in range(0, len(df3) - 600, 600):\n",
        "    \n",
        "    \n",
        "    x = df3['Ax'].values[i: i + 600]\n",
        "    y = df3['Ay'].values[i: i + 600]\n",
        "    z = df3['Az'].values[i: i + 600]\n",
        "    a = df3['Gx'].values[i: i + 600]\n",
        "    b = df3['Gy'].values[i: i + 600]\n",
        "    c = df3['Gz'].values[i: i + 600]\n",
        "    \n",
        "    label = stats.mode(df3['Activity'][i: i + 600])[0][0]\n",
        "    \n",
        "    segments.append([x, y, z, a, b, c])\n",
        "    \n",
        "    labels.append(label)\n",
        "\n",
        "# reshape the segments which is(list of arrays) to a list\n",
        "\n",
        "reshaped_segments = np.asarray(segments, dtype = np.float32).reshape(-1, 600, 6)\n",
        "\n",
        "labels = np.asarray(pd.get_dummies(labels), dtype=np.float32)"
      ]
    },
    {
      "cell_type": "code",
      "source": [
        "s1 = segments[0]"
      ],
      "metadata": {
        "id": "Nbq_39U-m68C"
      },
      "execution_count": null,
      "outputs": []
    },
    {
      "cell_type": "code",
      "execution_count": null,
      "metadata": {
        "colab": {
          "base_uri": "https://localhost:8080/"
        },
        "id": "S5uTx31OZ9aM",
        "outputId": "8d36e659-fde7-4d4a-b3c7-3683b21f5f62"
      },
      "outputs": [
        {
          "output_type": "stream",
          "name": "stdout",
          "text": [
            "[[[ 4.5901e+00  3.7320e+00  5.4481e-02 -6.5650e+00 -2.0294e+00\n",
            "    2.6287e+00]\n",
            "  [ 5.1349e+00  5.9930e+00  2.7241e-02 -1.9477e+00 -7.0826e-01\n",
            "    2.5742e+00]\n",
            "  [ 2.1793e+00  2.3155e-01 -6.9464e-01 -4.4947e-01  1.9341e+00\n",
            "    1.4982e+00]\n",
            "  ...\n",
            "  [-6.6340e-01 -4.4440e-01 -3.0207e-01 -7.0769e-01 -8.5399e-01\n",
            "   -2.8405e-01]\n",
            "  [ 2.7764e-01  5.5070e-01  1.0996e-02 -8.5094e-01 -2.7794e-01\n",
            "   -6.8722e-02]\n",
            "  [-8.2467e-02 -2.4771e-01 -4.4074e-01 -5.6841e-01 -6.2736e-01\n",
            "   -6.0659e-01]]\n",
            "\n",
            " [[ 1.3076e+00  2.5470e+00  1.0488e+00 -1.3893e+00 -1.3484e+00\n",
            "    9.5342e-01]\n",
            "  [ 1.4165e+00  6.6740e-01  1.4846e+00  3.1327e+00  5.7069e+00\n",
            "    6.0066e+00]\n",
            "  [ 6.4560e+00  6.1292e+00  5.6388e+00  1.6344e+00  5.4481e-02\n",
            "   -7.3550e-01]\n",
            "  ...\n",
            "  [ 5.9712e-01 -6.4141e-01 -8.4941e-01 -3.1765e-01 -8.2772e-02\n",
            "   -2.5198e-01]\n",
            "  [-4.2944e-01 -5.9040e-01 -6.8142e-01 -6.5027e-01 -5.6352e-01\n",
            "   -5.1496e-01]\n",
            "  [-3.5919e-01 -2.4832e-01  1.4661e-02  1.1179e-01  2.6664e-01\n",
            "    4.9908e-01]]\n",
            "\n",
            " [[ 1.3076e+00  4.3994e+00  6.4833e+00  6.2517e+00  6.1973e+00\n",
            "    5.9249e+00]\n",
            "  [ 4.1951e+00  1.9886e+00 -4.0861e-01 -6.4016e-01 -6.4016e-01\n",
            "    1.2803e+00]\n",
            "  [ 3.2961e+00  3.6775e+00  4.0861e+00  3.1735e+00  2.7241e+00\n",
            "    2.1793e+00]\n",
            "  ...\n",
            "  [ 5.5711e-01  6.1606e-01  6.1972e-01  4.7739e-01  2.6084e-01\n",
            "    2.4282e-01]\n",
            "  [ 2.3243e-01  3.0268e-01  7.7763e-01  1.5082e+00  1.1548e+00\n",
            "    6.5515e-01]\n",
            "  [ 4.1875e-01  3.3353e-01  2.5717e-01  1.7196e-01  1.1973e-01\n",
            "    7.2998e-02]]\n",
            "\n",
            " ...\n",
            "\n",
            " [[-2.1384e+00 -2.1112e+00 -2.1112e+00 -2.1112e+00 -2.0975e+00\n",
            "   -2.0839e+00]\n",
            "  [-2.1248e+00 -2.1793e+00 -2.2201e+00 -2.2882e+00 -2.2610e+00\n",
            "   -2.2065e+00]\n",
            "  [-2.1112e+00 -2.1520e+00 -2.1793e+00 -2.1520e+00 -2.1520e+00\n",
            "   -2.1384e+00]\n",
            "  ...\n",
            "  [ 3.6652e-03  3.0500e-04 -3.0543e-03 -7.3304e-03 -1.2217e-03\n",
            "   -4.5815e-03]\n",
            "  [-4.2761e-03 -1.2217e-03  4.2761e-03  3.0500e-04  1.0996e-02\n",
            "    9.4684e-03]\n",
            "  [ 2.1380e-03  2.1380e-03  6.7195e-03  2.4435e-03  4.8869e-03\n",
            "    3.0543e-03]]\n",
            "\n",
            " [[-2.3018e+00 -2.3155e+00 -2.2882e+00 -2.2882e+00 -2.3155e+00\n",
            "   -2.2882e+00]\n",
            "  [-2.2610e+00 -2.2746e+00 -2.2337e+00 -2.2201e+00 -2.2474e+00\n",
            "   -2.2201e+00]\n",
            "  [-2.2474e+00 -2.2610e+00 -2.2882e+00 -2.3018e+00 -2.2882e+00\n",
            "   -2.2474e+00]\n",
            "  ...\n",
            "  [ 1.4050e-02  1.1606e-02  5.1924e-03 -3.3598e-03 -6.1100e-04\n",
            "    4.5815e-03]\n",
            "  [ 8.5521e-03  3.3598e-03 -5.1924e-03 -1.2828e-02 -7.6358e-03\n",
            "   -8.5521e-03]\n",
            "  [-7.9412e-03 -3.0543e-03 -3.3598e-03  4.2761e-03  8.2467e-03\n",
            "    4.5815e-03]]\n",
            "\n",
            " [[-2.3155e+00 -2.2882e+00 -2.3155e+00 -2.2610e+00 -2.3155e+00\n",
            "   -2.2882e+00]\n",
            "  [-2.2474e+00 -2.2337e+00 -2.2882e+00 -2.3427e+00 -2.3018e+00\n",
            "   -2.2882e+00]\n",
            "  [-2.3427e+00 -2.3427e+00 -2.3155e+00 -2.2882e+00 -2.2610e+00\n",
            "   -2.2474e+00]\n",
            "  ...\n",
            "  [ 5.1924e-03  4.2761e-03  2.1380e-03  7.6358e-03  2.1380e-03\n",
            "    9.1600e-04]\n",
            "  [ 1.8326e-03  6.7195e-03  3.0543e-03  2.1380e-03  3.3598e-03\n",
            "    3.0543e-03]\n",
            "  [ 9.1600e-04  3.6652e-03 -3.0500e-04 -6.1100e-04  2.7489e-03\n",
            "    3.3598e-03]]]\n"
          ]
        }
      ],
      "source": [
        "print(reshaped_segments)"
      ]
    },
    {
      "cell_type": "code",
      "execution_count": null,
      "metadata": {
        "colab": {
          "base_uri": "https://localhost:8080/"
        },
        "id": "3IwqI-5OaEAu",
        "outputId": "c781e13e-7b00-47e8-fa69-313e37fa1c47"
      },
      "outputs": [
        {
          "output_type": "execute_result",
          "data": {
            "text/plain": [
              "((899, 600, 6), (899, 3))"
            ]
          },
          "metadata": {},
          "execution_count": 30
        }
      ],
      "source": [
        "reshaped_segments.shape, labels.shape"
      ]
    },
    {
      "cell_type": "code",
      "execution_count": null,
      "metadata": {
        "colab": {
          "base_uri": "https://localhost:8080/"
        },
        "id": "Ms-QX5HjZxUX",
        "outputId": "db1cebcf-1d7f-4167-84b4-09a5078d43f0"
      },
      "outputs": [
        {
          "output_type": "stream",
          "name": "stdout",
          "text": [
            "[[0. 0. 1.]\n",
            " [0. 0. 1.]\n",
            " [0. 0. 1.]\n",
            " ...\n",
            " [0. 1. 0.]\n",
            " [0. 1. 0.]\n",
            " [0. 1. 0.]]\n"
          ]
        }
      ],
      "source": [
        "print(labels)"
      ]
    },
    {
      "cell_type": "code",
      "execution_count": null,
      "metadata": {
        "id": "qviE150DaVNE"
      },
      "outputs": [],
      "source": [
        "from  sklearn.model_selection import train_test_split\n",
        "random_seed = 42"
      ]
    },
    {
      "cell_type": "code",
      "execution_count": null,
      "metadata": {
        "id": "sNVOkNwfaQWC"
      },
      "outputs": [],
      "source": [
        "X_train1, X_test1, y_train1, y_test1 = train_test_split(reshaped_segments, labels, test_size=0.2, random_state=random_seed)"
      ]
    },
    {
      "cell_type": "code",
      "source": [
        "X_train1.shape, X_test1.shape,y_train1.shape, y_test1.shape"
      ],
      "metadata": {
        "colab": {
          "base_uri": "https://localhost:8080/"
        },
        "id": "CILg1VsbCYfg",
        "outputId": "c8b66753-35e4-4dc4-9e33-9eaad8ce4766"
      },
      "execution_count": null,
      "outputs": [
        {
          "output_type": "execute_result",
          "data": {
            "text/plain": [
              "((719, 600, 6), (180, 600, 6), (719, 3), (180, 3))"
            ]
          },
          "metadata": {},
          "execution_count": 34
        }
      ]
    },
    {
      "cell_type": "code",
      "execution_count": null,
      "metadata": {
        "id": "IPQu4imka_bK"
      },
      "outputs": [],
      "source": [
        "import pandas as pd\n",
        "import numpy as np\n",
        "import re\n",
        "import matplotlib.pyplot as plt\n",
        "from tensorflow import keras \n",
        "from keras.models import Sequential\n",
        "from keras.layers import LSTM, GRU, Dense, Flatten, Dropout\n",
        "from scipy import stats\n",
        "from sklearn.preprocessing import OneHotEncoder\n",
        "from sklearn.preprocessing import RobustScaler\n",
        "import seaborn as sns\n",
        "import warnings\n",
        "warnings.filterwarnings('ignore')\n",
        "from sklearn.model_selection import train_test_split\n",
        "import sklearn.metrics as metrics"
      ]
    },
    {
      "cell_type": "code",
      "source": [
        "from keras.models import Sequential\n",
        "from keras.layers import Dense,Flatten, LSTM\n",
        "from keras.regularizers import l2\n",
        "from tensorflow.keras.optimizers import Adam"
      ],
      "metadata": {
        "id": "PxFC9HhS0zQK"
      },
      "execution_count": null,
      "outputs": []
    },
    {
      "cell_type": "code",
      "source": [
        "model=Sequential()\n",
        "model.add(LSTM(32, return_sequences=True, input_shape = (X_train1.shape[1],X_train1.shape[2]),\n",
        "              kernel_regularizer = l2(0.000001), bias_regularizer = l2(0.000001), name='lstm_1'))\n",
        "model.add(Flatten(name='flatten'))\n",
        "model.add(Dense(64, activation='relu',kernel_regularizer = l2(0.000001), bias_regularizer = l2(0.000001), name='dense_1' ))\n",
        "model.add(Dense(len(np.unique(y_train)), activation='softmax', \n",
        "                kernel_regularizer = l2(0.000001), bias_regularizer = l2(0.000001), name='output'))\n",
        "model.summary()"
      ],
      "metadata": {
        "colab": {
          "base_uri": "https://localhost:8080/"
        },
        "id": "OPoYnsFP00-q",
        "outputId": "69274168-2e9f-4b3c-ae4e-fae3a62741cb"
      },
      "execution_count": null,
      "outputs": [
        {
          "output_type": "stream",
          "name": "stdout",
          "text": [
            "Model: \"sequential_2\"\n",
            "_________________________________________________________________\n",
            " Layer (type)                Output Shape              Param #   \n",
            "=================================================================\n",
            " lstm_1 (LSTM)               (None, 300, 32)           4992      \n",
            "                                                                 \n",
            " flatten (Flatten)           (None, 9600)              0         \n",
            "                                                                 \n",
            " dense_1 (Dense)             (None, 64)                614464    \n",
            "                                                                 \n",
            " output (Dense)              (None, 3)                 195       \n",
            "                                                                 \n",
            "=================================================================\n",
            "Total params: 619,651\n",
            "Trainable params: 619,651\n",
            "Non-trainable params: 0\n",
            "_________________________________________________________________\n"
          ]
        }
      ]
    },
    {
      "cell_type": "code",
      "source": [
        "model.compile(loss='categorical_crossentropy', optimizer=Adam(), metrics=['accuracy'])"
      ],
      "metadata": {
        "id": "fNJlRkC71TN_"
      },
      "execution_count": null,
      "outputs": []
    },
    {
      "cell_type": "code",
      "source": [
        "# prepare callbacks\n",
        "from keras.callbacks import ModelCheckpoint\n",
        "\n",
        "callbacks= [ModelCheckpoint('model.h5', save_weights_only=False, save_best_only=True, verbose=1)]"
      ],
      "metadata": {
        "id": "wuI5h86a1m6P"
      },
      "execution_count": null,
      "outputs": []
    },
    {
      "cell_type": "code",
      "source": [
        "history = model.fit(X_train1, y_train1, epochs=20, validation_data=(X_test1,y_test1), batch_size=20, verbose=1,callbacks=callbacks)"
      ],
      "metadata": {
        "colab": {
          "base_uri": "https://localhost:8080/"
        },
        "id": "9g6N3STi1xsw",
        "outputId": "5835d100-5e34-4c6c-c206-72a3806e02d8"
      },
      "execution_count": null,
      "outputs": [
        {
          "output_type": "stream",
          "name": "stdout",
          "text": [
            "Epoch 1/20\n",
            "72/72 [==============================] - ETA: 0s - loss: 0.0519 - accuracy: 0.9792\n",
            "Epoch 1: val_loss improved from inf to 0.00075, saving model to model.h5\n",
            "72/72 [==============================] - 12s 127ms/step - loss: 0.0519 - accuracy: 0.9792 - val_loss: 7.4794e-04 - val_accuracy: 1.0000\n",
            "Epoch 2/20\n",
            "72/72 [==============================] - ETA: 0s - loss: 3.3448e-04 - accuracy: 1.0000\n",
            "Epoch 2: val_loss improved from 0.00075 to 0.00056, saving model to model.h5\n",
            "72/72 [==============================] - 8s 114ms/step - loss: 3.3448e-04 - accuracy: 1.0000 - val_loss: 5.6232e-04 - val_accuracy: 1.0000\n",
            "Epoch 3/20\n",
            "72/72 [==============================] - ETA: 0s - loss: 2.6918e-04 - accuracy: 1.0000\n",
            "Epoch 3: val_loss improved from 0.00056 to 0.00046, saving model to model.h5\n",
            "72/72 [==============================] - 8s 113ms/step - loss: 2.6918e-04 - accuracy: 1.0000 - val_loss: 4.5699e-04 - val_accuracy: 1.0000\n",
            "Epoch 4/20\n",
            "72/72 [==============================] - ETA: 0s - loss: 2.4752e-04 - accuracy: 1.0000\n",
            "Epoch 4: val_loss did not improve from 0.00046\n",
            "72/72 [==============================] - 9s 123ms/step - loss: 2.4752e-04 - accuracy: 1.0000 - val_loss: 4.6205e-04 - val_accuracy: 1.0000\n",
            "Epoch 5/20\n",
            "72/72 [==============================] - ETA: 0s - loss: 2.3314e-04 - accuracy: 1.0000\n",
            "Epoch 5: val_loss improved from 0.00046 to 0.00043, saving model to model.h5\n",
            "72/72 [==============================] - 8s 111ms/step - loss: 2.3314e-04 - accuracy: 1.0000 - val_loss: 4.3051e-04 - val_accuracy: 1.0000\n",
            "Epoch 6/20\n",
            "72/72 [==============================] - ETA: 0s - loss: 2.2442e-04 - accuracy: 1.0000\n",
            "Epoch 6: val_loss improved from 0.00043 to 0.00042, saving model to model.h5\n",
            "72/72 [==============================] - 9s 124ms/step - loss: 2.2442e-04 - accuracy: 1.0000 - val_loss: 4.1709e-04 - val_accuracy: 1.0000\n",
            "Epoch 7/20\n",
            "72/72 [==============================] - ETA: 0s - loss: 2.1742e-04 - accuracy: 1.0000\n",
            "Epoch 7: val_loss improved from 0.00042 to 0.00040, saving model to model.h5\n",
            "72/72 [==============================] - 8s 112ms/step - loss: 2.1742e-04 - accuracy: 1.0000 - val_loss: 4.0024e-04 - val_accuracy: 1.0000\n",
            "Epoch 8/20\n",
            "72/72 [==============================] - ETA: 0s - loss: 2.1272e-04 - accuracy: 1.0000\n",
            "Epoch 8: val_loss did not improve from 0.00040\n",
            "72/72 [==============================] - 8s 110ms/step - loss: 2.1272e-04 - accuracy: 1.0000 - val_loss: 4.0727e-04 - val_accuracy: 1.0000\n",
            "Epoch 9/20\n",
            "72/72 [==============================] - ETA: 0s - loss: 2.0879e-04 - accuracy: 1.0000\n",
            "Epoch 9: val_loss improved from 0.00040 to 0.00037, saving model to model.h5\n",
            "72/72 [==============================] - 8s 110ms/step - loss: 2.0879e-04 - accuracy: 1.0000 - val_loss: 3.6927e-04 - val_accuracy: 1.0000\n",
            "Epoch 10/20\n",
            "72/72 [==============================] - ETA: 0s - loss: 2.0519e-04 - accuracy: 1.0000\n",
            "Epoch 10: val_loss improved from 0.00037 to 0.00036, saving model to model.h5\n",
            "72/72 [==============================] - 8s 109ms/step - loss: 2.0519e-04 - accuracy: 1.0000 - val_loss: 3.5899e-04 - val_accuracy: 1.0000\n",
            "Epoch 11/20\n",
            "72/72 [==============================] - ETA: 0s - loss: 2.0230e-04 - accuracy: 1.0000\n",
            "Epoch 11: val_loss did not improve from 0.00036\n",
            "72/72 [==============================] - 8s 109ms/step - loss: 2.0230e-04 - accuracy: 1.0000 - val_loss: 3.6951e-04 - val_accuracy: 1.0000\n",
            "Epoch 12/20\n",
            "72/72 [==============================] - ETA: 0s - loss: 1.9987e-04 - accuracy: 1.0000\n",
            "Epoch 12: val_loss improved from 0.00036 to 0.00036, saving model to model.h5\n",
            "72/72 [==============================] - 8s 110ms/step - loss: 1.9987e-04 - accuracy: 1.0000 - val_loss: 3.5770e-04 - val_accuracy: 1.0000\n",
            "Epoch 13/20\n",
            "72/72 [==============================] - ETA: 0s - loss: 1.9760e-04 - accuracy: 1.0000\n",
            "Epoch 13: val_loss improved from 0.00036 to 0.00035, saving model to model.h5\n",
            "72/72 [==============================] - 8s 109ms/step - loss: 1.9760e-04 - accuracy: 1.0000 - val_loss: 3.4763e-04 - val_accuracy: 1.0000\n",
            "Epoch 14/20\n",
            "72/72 [==============================] - ETA: 0s - loss: 1.9567e-04 - accuracy: 1.0000\n",
            "Epoch 14: val_loss did not improve from 0.00035\n",
            "72/72 [==============================] - 8s 110ms/step - loss: 1.9567e-04 - accuracy: 1.0000 - val_loss: 3.4770e-04 - val_accuracy: 1.0000\n",
            "Epoch 15/20\n",
            "72/72 [==============================] - ETA: 0s - loss: 1.9368e-04 - accuracy: 1.0000\n",
            "Epoch 15: val_loss improved from 0.00035 to 0.00035, saving model to model.h5\n",
            "72/72 [==============================] - 8s 110ms/step - loss: 1.9368e-04 - accuracy: 1.0000 - val_loss: 3.4565e-04 - val_accuracy: 1.0000\n",
            "Epoch 16/20\n",
            "72/72 [==============================] - ETA: 0s - loss: 1.9203e-04 - accuracy: 1.0000\n",
            "Epoch 16: val_loss improved from 0.00035 to 0.00034, saving model to model.h5\n",
            "72/72 [==============================] - 8s 109ms/step - loss: 1.9203e-04 - accuracy: 1.0000 - val_loss: 3.3772e-04 - val_accuracy: 1.0000\n",
            "Epoch 17/20\n",
            "72/72 [==============================] - ETA: 0s - loss: 1.9034e-04 - accuracy: 1.0000\n",
            "Epoch 17: val_loss did not improve from 0.00034\n",
            "72/72 [==============================] - 8s 111ms/step - loss: 1.9034e-04 - accuracy: 1.0000 - val_loss: 3.3813e-04 - val_accuracy: 1.0000\n",
            "Epoch 18/20\n",
            "72/72 [==============================] - ETA: 0s - loss: 1.8875e-04 - accuracy: 1.0000\n",
            "Epoch 18: val_loss improved from 0.00034 to 0.00033, saving model to model.h5\n",
            "72/72 [==============================] - 8s 110ms/step - loss: 1.8875e-04 - accuracy: 1.0000 - val_loss: 3.3022e-04 - val_accuracy: 1.0000\n",
            "Epoch 19/20\n",
            "72/72 [==============================] - ETA: 0s - loss: 1.8726e-04 - accuracy: 1.0000\n",
            "Epoch 19: val_loss did not improve from 0.00033\n",
            "72/72 [==============================] - 8s 110ms/step - loss: 1.8726e-04 - accuracy: 1.0000 - val_loss: 3.3231e-04 - val_accuracy: 1.0000\n",
            "Epoch 20/20\n",
            "72/72 [==============================] - ETA: 0s - loss: 1.8579e-04 - accuracy: 1.0000\n",
            "Epoch 20: val_loss did not improve from 0.00033\n",
            "72/72 [==============================] - 8s 111ms/step - loss: 1.8579e-04 - accuracy: 1.0000 - val_loss: 3.3216e-04 - val_accuracy: 1.0000\n"
          ]
        }
      ]
    },
    {
      "cell_type": "code",
      "source": [],
      "metadata": {
        "id": "7Lxixb2a3LGs"
      },
      "execution_count": null,
      "outputs": []
    },
    {
      "cell_type": "code",
      "execution_count": null,
      "metadata": {
        "id": "D962i-8ZrYuF"
      },
      "outputs": [],
      "source": [
        "from tensorflow.keras.optimizers import SGD\n",
        "opt = SGD(lr=0.01)"
      ]
    },
    {
      "cell_type": "code",
      "execution_count": null,
      "metadata": {
        "id": "8eR8zExqa0eR"
      },
      "outputs": [],
      "source": [
        "# Building Model Architecture\n",
        "\n",
        "model = Sequential()\n",
        "\n",
        "# RNN layer\n",
        "\n",
        "#model.add(LSTM(units=128, input_shape=(X_train.shape[1],X_train.shape[2] )))\n",
        "\n",
        "model.add(GRU(units=512, input_shape=(X_train1.shape[1],X_train1.shape[2] )))\n",
        "\n",
        "# Dropout layer\n",
        "\n",
        "model.add(Dropout(0.5))\n",
        "\n",
        "# Dense layer with ReLu\n",
        "model.add(Dense(units=256, activation='relu'))\n",
        "model.add(Flatten(name='flatten1'))\n",
        "model.add(Dense(units=128, activation='sigmoid'))\n",
        "\n",
        "# Softmax layer\n",
        "\n",
        "model.add(Dense(y_train1.shape[1], activation='softmax'))\n",
        "\n",
        "# Compile model\n",
        "\n",
        "model.compile(loss='categorical_crossentropy', optimizer=opt, metrics=['accuracy'])"
      ]
    },
    {
      "cell_type": "code",
      "execution_count": null,
      "metadata": {
        "colab": {
          "base_uri": "https://localhost:8080/"
        },
        "id": "4_QmCdw2bMTu",
        "outputId": "e7254a06-559b-457e-e494-50f2582c457d"
      },
      "outputs": [
        {
          "name": "stdout",
          "output_type": "stream",
          "text": [
            "Model: \"sequential\"\n",
            "_________________________________________________________________\n",
            " Layer (type)                Output Shape              Param #   \n",
            "=================================================================\n",
            " gru (GRU)                   (None, 512)               798720    \n",
            "                                                                 \n",
            " dropout (Dropout)           (None, 512)               0         \n",
            "                                                                 \n",
            " dense (Dense)               (None, 256)               131328    \n",
            "                                                                 \n",
            " flatten1 (Flatten)          (None, 256)               0         \n",
            "                                                                 \n",
            " dense_1 (Dense)             (None, 128)               32896     \n",
            "                                                                 \n",
            " dense_2 (Dense)             (None, 3)                 387       \n",
            "                                                                 \n",
            "=================================================================\n",
            "Total params: 963,331\n",
            "Trainable params: 963,331\n",
            "Non-trainable params: 0\n",
            "_________________________________________________________________\n"
          ]
        }
      ],
      "source": [
        "model.summary()"
      ]
    },
    {
      "cell_type": "code",
      "execution_count": null,
      "metadata": {
        "id": "qrF9PtcK15n7"
      },
      "outputs": [],
      "source": [
        "model1 = Sequential()\n",
        "model1.add(GRU(units=64, input_shape=(X_train1.shape[1],X_train1.shape[2]), return_sequences = True))\n",
        "model1.add(GRU(units=32, return_sequences = True))\n",
        "model1.add(Dropout(0.2))\n",
        "model1.add(Dense(32, activation = 'relu'))\n",
        "model1.add(GRU(units=16))\n",
        "model1.add(Dense(units=16, activation='relu'))\n",
        "model1.add(Dense(y_train1.shape[1], activation='softmax'))\n",
        "model1.compile(loss='categorical_crossentropy', optimizer=opt, metrics=['accuracy'])\n"
      ]
    },
    {
      "cell_type": "code",
      "execution_count": null,
      "metadata": {
        "colab": {
          "base_uri": "https://localhost:8080/"
        },
        "id": "YtyB3tJl3r3R",
        "outputId": "21438422-b655-4090-89df-879dc0c4afa8"
      },
      "outputs": [
        {
          "output_type": "stream",
          "name": "stdout",
          "text": [
            "Model: \"sequential_1\"\n",
            "_________________________________________________________________\n",
            " Layer (type)                Output Shape              Param #   \n",
            "=================================================================\n",
            " gru_3 (GRU)                 (None, 600, 64)           13824     \n",
            "                                                                 \n",
            " gru_4 (GRU)                 (None, 600, 32)           9408      \n",
            "                                                                 \n",
            " dropout_1 (Dropout)         (None, 600, 32)           0         \n",
            "                                                                 \n",
            " dense_3 (Dense)             (None, 600, 32)           1056      \n",
            "                                                                 \n",
            " gru_5 (GRU)                 (None, 16)                2400      \n",
            "                                                                 \n",
            " dense_4 (Dense)             (None, 16)                272       \n",
            "                                                                 \n",
            " dense_5 (Dense)             (None, 3)                 51        \n",
            "                                                                 \n",
            "=================================================================\n",
            "Total params: 27,011\n",
            "Trainable params: 27,011\n",
            "Non-trainable params: 0\n",
            "_________________________________________________________________\n"
          ]
        }
      ],
      "source": [
        "model1.summary()"
      ]
    },
    {
      "cell_type": "code",
      "execution_count": null,
      "metadata": {
        "id": "x6ixjwBRA6w2"
      },
      "outputs": [],
      "source": [
        "# prepare callbacks\n",
        "from keras.callbacks import ModelCheckpoint\n",
        "\n",
        "callbacks= [ModelCheckpoint('model.h5', save_weights_only=False, save_best_only=True, verbose=1)]"
      ]
    },
    {
      "cell_type": "code",
      "execution_count": null,
      "metadata": {
        "colab": {
          "base_uri": "https://localhost:8080/"
        },
        "id": "bmQMu5Ab3-GL",
        "outputId": "44eab562-6a01-4ef1-ac5b-fdc4dac447f4"
      },
      "outputs": [
        {
          "output_type": "stream",
          "name": "stdout",
          "text": [
            "Epoch 1/20\n",
            "240/240 [==============================] - ETA: 0s - loss: 1.0709 - accuracy: 0.4242\n",
            "Epoch 1: val_loss improved from inf to 1.03729, saving model to model.h5\n",
            "240/240 [==============================] - 141s 566ms/step - loss: 1.0709 - accuracy: 0.4242 - val_loss: 1.0373 - val_accuracy: 0.6722\n",
            "Epoch 2/20\n",
            "240/240 [==============================] - ETA: 0s - loss: 0.9793 - accuracy: 0.6495\n",
            "Epoch 2: val_loss improved from 1.03729 to 0.87668, saving model to model.h5\n",
            "240/240 [==============================] - 136s 566ms/step - loss: 0.9793 - accuracy: 0.6495 - val_loss: 0.8767 - val_accuracy: 0.8667\n",
            "Epoch 3/20\n",
            "240/240 [==============================] - ETA: 0s - loss: 0.7068 - accuracy: 0.8428\n",
            "Epoch 3: val_loss improved from 0.87668 to 0.60975, saving model to model.h5\n",
            "240/240 [==============================] - 134s 560ms/step - loss: 0.7068 - accuracy: 0.8428 - val_loss: 0.6098 - val_accuracy: 0.8556\n",
            "Epoch 4/20\n",
            "240/240 [==============================] - ETA: 0s - loss: 0.4484 - accuracy: 0.8748\n",
            "Epoch 4: val_loss improved from 0.60975 to 0.37451, saving model to model.h5\n",
            "240/240 [==============================] - 136s 566ms/step - loss: 0.4484 - accuracy: 0.8748 - val_loss: 0.3745 - val_accuracy: 0.8722\n",
            "Epoch 5/20\n",
            "240/240 [==============================] - ETA: 0s - loss: 0.3200 - accuracy: 0.8999\n",
            "Epoch 5: val_loss improved from 0.37451 to 0.28209, saving model to model.h5\n",
            "240/240 [==============================] - 134s 557ms/step - loss: 0.3200 - accuracy: 0.8999 - val_loss: 0.2821 - val_accuracy: 0.9167\n",
            "Epoch 6/20\n",
            "240/240 [==============================] - ETA: 0s - loss: 0.2317 - accuracy: 0.9235\n",
            "Epoch 6: val_loss improved from 0.28209 to 0.23104, saving model to model.h5\n",
            "240/240 [==============================] - 134s 559ms/step - loss: 0.2317 - accuracy: 0.9235 - val_loss: 0.2310 - val_accuracy: 0.9389\n",
            "Epoch 7/20\n",
            "240/240 [==============================] - ETA: 0s - loss: 0.2275 - accuracy: 0.9207\n",
            "Epoch 7: val_loss did not improve from 0.23104\n",
            "240/240 [==============================] - 136s 566ms/step - loss: 0.2275 - accuracy: 0.9207 - val_loss: 0.2652 - val_accuracy: 0.9056\n",
            "Epoch 8/20\n",
            "240/240 [==============================] - ETA: 0s - loss: 0.1656 - accuracy: 0.9458\n",
            "Epoch 8: val_loss improved from 0.23104 to 0.22302, saving model to model.h5\n",
            "240/240 [==============================] - 134s 557ms/step - loss: 0.1656 - accuracy: 0.9458 - val_loss: 0.2230 - val_accuracy: 0.9278\n",
            "Epoch 9/20\n",
            "240/240 [==============================] - ETA: 0s - loss: 0.1295 - accuracy: 0.9624\n",
            "Epoch 9: val_loss did not improve from 0.22302\n",
            "240/240 [==============================] - 136s 565ms/step - loss: 0.1295 - accuracy: 0.9624 - val_loss: 0.3629 - val_accuracy: 0.8889\n",
            "Epoch 10/20\n",
            "240/240 [==============================] - ETA: 0s - loss: 0.1304 - accuracy: 0.9485\n",
            "Epoch 10: val_loss improved from 0.22302 to 0.15459, saving model to model.h5\n",
            "240/240 [==============================] - 134s 558ms/step - loss: 0.1304 - accuracy: 0.9485 - val_loss: 0.1546 - val_accuracy: 0.9556\n",
            "Epoch 11/20\n",
            "240/240 [==============================] - ETA: 0s - loss: 0.1004 - accuracy: 0.9638\n",
            "Epoch 11: val_loss did not improve from 0.15459\n",
            "240/240 [==============================] - 135s 564ms/step - loss: 0.1004 - accuracy: 0.9638 - val_loss: 0.1941 - val_accuracy: 0.9500\n",
            "Epoch 12/20\n",
            "240/240 [==============================] - ETA: 0s - loss: 0.1056 - accuracy: 0.9680\n",
            "Epoch 12: val_loss did not improve from 0.15459\n",
            "240/240 [==============================] - 133s 553ms/step - loss: 0.1056 - accuracy: 0.9680 - val_loss: 0.1715 - val_accuracy: 0.9611\n",
            "Epoch 13/20\n",
            "240/240 [==============================] - ETA: 0s - loss: 0.0824 - accuracy: 0.9791\n",
            "Epoch 13: val_loss did not improve from 0.15459\n",
            "240/240 [==============================] - 133s 554ms/step - loss: 0.0824 - accuracy: 0.9791 - val_loss: 0.3743 - val_accuracy: 0.8778\n",
            "Epoch 14/20\n",
            "240/240 [==============================] - ETA: 0s - loss: 0.1091 - accuracy: 0.9638\n",
            "Epoch 14: val_loss improved from 0.15459 to 0.13541, saving model to model.h5\n",
            "240/240 [==============================] - 135s 561ms/step - loss: 0.1091 - accuracy: 0.9638 - val_loss: 0.1354 - val_accuracy: 0.9611\n",
            "Epoch 15/20\n",
            "240/240 [==============================] - ETA: 0s - loss: 0.0762 - accuracy: 0.9777\n",
            "Epoch 15: val_loss did not improve from 0.13541\n",
            "240/240 [==============================] - 133s 555ms/step - loss: 0.0762 - accuracy: 0.9777 - val_loss: 0.1442 - val_accuracy: 0.9444\n",
            "Epoch 16/20\n",
            "240/240 [==============================] - ETA: 0s - loss: 0.0574 - accuracy: 0.9805\n",
            "Epoch 16: val_loss did not improve from 0.13541\n",
            "240/240 [==============================] - 134s 560ms/step - loss: 0.0574 - accuracy: 0.9805 - val_loss: 0.1816 - val_accuracy: 0.9556\n",
            "Epoch 17/20\n",
            "240/240 [==============================] - ETA: 0s - loss: 0.0925 - accuracy: 0.9750\n",
            "Epoch 17: val_loss improved from 0.13541 to 0.11318, saving model to model.h5\n",
            "240/240 [==============================] - 133s 553ms/step - loss: 0.0925 - accuracy: 0.9750 - val_loss: 0.1132 - val_accuracy: 0.9556\n",
            "Epoch 18/20\n",
            "240/240 [==============================] - ETA: 0s - loss: 0.0644 - accuracy: 0.9791\n",
            "Epoch 18: val_loss did not improve from 0.11318\n",
            "240/240 [==============================] - 134s 559ms/step - loss: 0.0644 - accuracy: 0.9791 - val_loss: 0.1208 - val_accuracy: 0.9611\n",
            "Epoch 19/20\n",
            "240/240 [==============================] - ETA: 0s - loss: 0.0815 - accuracy: 0.9750\n",
            "Epoch 19: val_loss improved from 0.11318 to 0.09563, saving model to model.h5\n",
            "240/240 [==============================] - 133s 553ms/step - loss: 0.0815 - accuracy: 0.9750 - val_loss: 0.0956 - val_accuracy: 0.9667\n",
            "Epoch 20/20\n",
            "240/240 [==============================] - ETA: 0s - loss: 0.0534 - accuracy: 0.9861\n",
            "Epoch 20: val_loss improved from 0.09563 to 0.08544, saving model to model.h5\n",
            "240/240 [==============================] - 132s 551ms/step - loss: 0.0534 - accuracy: 0.9861 - val_loss: 0.0854 - val_accuracy: 0.9667\n"
          ]
        }
      ],
      "source": [
        "#history = model1.fit_generator(train_gen, epochs=20, validation_data=test_gen, callbacks=callbacks)\n",
        "history = model1.fit(X_train1, y_train1, epochs=20, validation_data=(X_test1,y_test1), batch_size=3, verbose=1,callbacks=callbacks)"
      ]
    },
    {
      "cell_type": "code",
      "source": [
        "X_test123 = X_test1"
      ],
      "metadata": {
        "id": "_hD74_d8FI5u"
      },
      "execution_count": null,
      "outputs": []
    },
    {
      "cell_type": "code",
      "source": [],
      "metadata": {
        "id": "5nDMcbdTrFPj"
      },
      "execution_count": null,
      "outputs": []
    },
    {
      "cell_type": "code",
      "source": [
        "X_test1234 = np.split(X_test123,18,axis=0)"
      ],
      "metadata": {
        "id": "S2aTYgJRFI8q"
      },
      "execution_count": null,
      "outputs": []
    },
    {
      "cell_type": "code",
      "source": [
        "X_test1234.append(X_test1234)"
      ],
      "metadata": {
        "id": "DHK3zClFq1M5"
      },
      "execution_count": null,
      "outputs": []
    },
    {
      "cell_type": "code",
      "source": [
        "elon_array = np.array(X_test1234)"
      ],
      "metadata": {
        "id": "vcKcOxSvHT8T"
      },
      "execution_count": null,
      "outputs": []
    },
    {
      "cell_type": "code",
      "source": [
        "elon_array.shape"
      ],
      "metadata": {
        "colab": {
          "base_uri": "https://localhost:8080/"
        },
        "id": "vqhCA1XBHy1A",
        "outputId": "22f6e129-df87-4ea9-b7e1-9ea8d8e660d7"
      },
      "execution_count": null,
      "outputs": [
        {
          "output_type": "execute_result",
          "data": {
            "text/plain": [
              "(18, 20, 300, 6)"
            ]
          },
          "metadata": {},
          "execution_count": 148
        }
      ]
    },
    {
      "cell_type": "code",
      "source": [
        "print(type(elon_array))"
      ],
      "metadata": {
        "colab": {
          "base_uri": "https://localhost:8080/"
        },
        "id": "pwM8AjlXiduv",
        "outputId": "ad56af1d-fdff-41e9-821b-858fafc9416e"
      },
      "execution_count": null,
      "outputs": [
        {
          "output_type": "stream",
          "name": "stdout",
          "text": [
            "<class 'numpy.ndarray'>\n"
          ]
        }
      ]
    },
    {
      "cell_type": "code",
      "source": [
        "reshaped = reshaped_segments"
      ],
      "metadata": {
        "id": "N13pZqTtf2Bl"
      },
      "execution_count": null,
      "outputs": []
    },
    {
      "cell_type": "code",
      "source": [
        "print(reshaped)"
      ],
      "metadata": {
        "colab": {
          "base_uri": "https://localhost:8080/"
        },
        "id": "STc05R-lgsM9",
        "outputId": "c9c5d0a4-f0bb-451c-858a-3e275095fb08"
      },
      "execution_count": null,
      "outputs": [
        {
          "output_type": "stream",
          "name": "stdout",
          "text": [
            "[[[ 4.5901e+00  3.7320e+00  5.4481e-02 -6.5650e+00 -2.0294e+00\n",
            "    2.6287e+00]\n",
            "  [ 5.1349e+00  5.9930e+00  2.7241e-02 -1.9477e+00 -7.0826e-01\n",
            "    2.5742e+00]\n",
            "  [ 2.1793e+00  2.3155e-01 -6.9464e-01 -4.4947e-01  1.9341e+00\n",
            "    1.4982e+00]\n",
            "  ...\n",
            "  [ 2.6573e-01  2.3488e-01  2.5229e-01 -8.3078e-02 -2.9627e-02\n",
            "    1.9334e-01]\n",
            "  [-1.8815e-01 -7.2815e-01 -1.7685e-01 -6.0934e-01 -9.1477e-01\n",
            "   -6.3072e-01]\n",
            "  [ 3.9370e-01  5.0671e-01  5.9773e-01 -1.4355e-01 -9.4318e-01\n",
            "   -3.9706e-01]]\n",
            "\n",
            " [[-1.0896e+00  1.1577e+00  2.1248e+00  1.3620e+00  1.0079e+00\n",
            "    2.8603e-01]\n",
            "  [-5.9930e-01  1.2803e+00  2.7786e+00 -4.7671e-01 -1.2122e+00\n",
            "   -7.8998e-01]\n",
            "  [ 4.0861e-01  7.0826e-01  1.5800e+00  3.1054e+00  6.4833e+00\n",
            "    6.3198e+00]\n",
            "  ...\n",
            "  [-6.6340e-01 -4.4440e-01 -3.0207e-01 -7.0769e-01 -8.5399e-01\n",
            "   -2.8405e-01]\n",
            "  [ 2.7764e-01  5.5070e-01  1.0996e-02 -8.5094e-01 -2.7794e-01\n",
            "   -6.8722e-02]\n",
            "  [-8.2467e-02 -2.4771e-01 -4.4074e-01 -5.6841e-01 -6.2736e-01\n",
            "   -6.0659e-01]]\n",
            "\n",
            " [[ 1.3076e+00  2.5470e+00  1.0488e+00 -1.3893e+00 -1.3484e+00\n",
            "    9.5342e-01]\n",
            "  [ 1.4165e+00  6.6740e-01  1.4846e+00  3.1327e+00  5.7069e+00\n",
            "    6.0066e+00]\n",
            "  [ 6.4560e+00  6.1292e+00  5.6388e+00  1.6344e+00  5.4481e-02\n",
            "   -7.3550e-01]\n",
            "  ...\n",
            "  [-9.1783e-01 -7.9596e-01  2.1411e-01  5.4123e-01  3.4361e-01\n",
            "   -1.9700e-01]\n",
            "  [-9.2546e-01 -3.8423e-01 -2.2297e-02 -7.3304e-03 -2.3213e-01\n",
            "   -4.5601e-01]\n",
            "  [-6.7592e-01 -7.1135e-01 -6.4599e-01 -5.1954e-01 -4.7220e-01\n",
            "   -2.7214e-01]]\n",
            "\n",
            " ...\n",
            "\n",
            " [[-2.3155e+00 -2.2882e+00 -2.3155e+00 -2.2610e+00 -2.3155e+00\n",
            "   -2.2882e+00]\n",
            "  [-2.2474e+00 -2.2337e+00 -2.2882e+00 -2.3427e+00 -2.3018e+00\n",
            "   -2.2882e+00]\n",
            "  [-2.3427e+00 -2.3427e+00 -2.3155e+00 -2.2882e+00 -2.2610e+00\n",
            "   -2.2474e+00]\n",
            "  ...\n",
            "  [-1.8326e-03 -6.1100e-04 -5.4978e-03 -4.5815e-03  9.1600e-04\n",
            "    3.0543e-03]\n",
            "  [-3.0500e-04  4.2761e-03  1.8326e-03 -3.0500e-04  3.0543e-03\n",
            "    6.1100e-04]\n",
            "  [-3.0500e-04  1.2217e-03  6.1100e-04  4.8869e-03  2.1380e-03\n",
            "   -2.1380e-03]]\n",
            "\n",
            " [[-2.2474e+00 -2.2882e+00 -2.1929e+00 -2.1929e+00 -2.1520e+00\n",
            "   -2.2201e+00]\n",
            "  [-2.2474e+00 -2.2610e+00 -2.2474e+00 -2.1656e+00 -2.2201e+00\n",
            "   -2.2201e+00]\n",
            "  [-2.1929e+00 -2.1929e+00 -2.2201e+00 -2.1793e+00 -2.1929e+00\n",
            "   -2.1656e+00]\n",
            "  ...\n",
            "  [ 5.1924e-03  4.2761e-03  2.1380e-03  7.6358e-03  2.1380e-03\n",
            "    9.1600e-04]\n",
            "  [ 1.8326e-03  6.7195e-03  3.0543e-03  2.1380e-03  3.3598e-03\n",
            "    3.0543e-03]\n",
            "  [ 9.1600e-04  3.6652e-03 -3.0500e-04 -6.1100e-04  2.7489e-03\n",
            "    3.3598e-03]]\n",
            "\n",
            " [[-2.1656e+00 -2.1520e+00 -2.1520e+00 -2.1656e+00 -2.2201e+00\n",
            "   -2.1929e+00]\n",
            "  [-2.2474e+00 -2.1520e+00 -2.2201e+00 -2.2065e+00 -2.1520e+00\n",
            "   -2.1656e+00]\n",
            "  [-2.1793e+00 -2.1656e+00 -2.1793e+00 -2.1520e+00 -2.1929e+00\n",
            "   -2.1929e+00]\n",
            "  ...\n",
            "  [ 2.4435e-03 -2.1380e-03 -2.1380e-03  4.2761e-03 -4.2761e-03\n",
            "    3.0500e-04]\n",
            "  [ 3.3598e-03  7.0250e-03  4.2761e-03  3.6652e-03 -6.1100e-04\n",
            "    9.1600e-04]\n",
            "  [ 3.9706e-03  4.5815e-03  4.8869e-03  1.5272e-03  5.4978e-03\n",
            "    4.2761e-03]]]\n"
          ]
        }
      ]
    },
    {
      "cell_type": "code",
      "source": [
        "r1 = reshaped[0]"
      ],
      "metadata": {
        "id": "Wv-cPPrwg86J"
      },
      "execution_count": null,
      "outputs": []
    },
    {
      "cell_type": "code",
      "source": [
        "reshaped3 = np.array(reshaped)"
      ],
      "metadata": {
        "id": "BlR9W9jYhQ3z"
      },
      "execution_count": null,
      "outputs": []
    },
    {
      "cell_type": "code",
      "source": [
        "r1 = reshaped3[0]\n",
        "reshaped3.append(r1)"
      ],
      "metadata": {
        "colab": {
          "base_uri": "https://localhost:8080/",
          "height": 182
        },
        "id": "6QxpFBcihoeO",
        "outputId": "f2c3350d-13a9-4789-e4d1-3c7a8cd92725"
      },
      "execution_count": null,
      "outputs": [
        {
          "output_type": "error",
          "ename": "AttributeError",
          "evalue": "ignored",
          "traceback": [
            "\u001b[0;31m---------------------------------------------------------------------------\u001b[0m",
            "\u001b[0;31mAttributeError\u001b[0m                            Traceback (most recent call last)",
            "\u001b[0;32m<ipython-input-118-d03453ede130>\u001b[0m in \u001b[0;36m<module>\u001b[0;34m()\u001b[0m\n\u001b[1;32m      1\u001b[0m \u001b[0mr1\u001b[0m \u001b[0;34m=\u001b[0m \u001b[0mreshaped3\u001b[0m\u001b[0;34m[\u001b[0m\u001b[0;36m0\u001b[0m\u001b[0;34m]\u001b[0m\u001b[0;34m\u001b[0m\u001b[0;34m\u001b[0m\u001b[0m\n\u001b[0;32m----> 2\u001b[0;31m \u001b[0mreshaped3\u001b[0m\u001b[0;34m.\u001b[0m\u001b[0mappend\u001b[0m\u001b[0;34m(\u001b[0m\u001b[0mr1\u001b[0m\u001b[0;34m)\u001b[0m\u001b[0;34m\u001b[0m\u001b[0;34m\u001b[0m\u001b[0m\n\u001b[0m",
            "\u001b[0;31mAttributeError\u001b[0m: 'numpy.ndarray' object has no attribute 'append'"
          ]
        }
      ]
    },
    {
      "cell_type": "code",
      "source": [
        "print(type(reshaped3))"
      ],
      "metadata": {
        "colab": {
          "base_uri": "https://localhost:8080/"
        },
        "id": "ZtOuRrjbh-Se",
        "outputId": "af0247f6-1ab6-41ce-a711-3dc01bbe3a5d"
      },
      "execution_count": null,
      "outputs": [
        {
          "output_type": "stream",
          "name": "stdout",
          "text": [
            "<class 'numpy.ndarray'>\n"
          ]
        }
      ]
    },
    {
      "cell_type": "code",
      "source": [
        "reshaped1 = np.split(reshaped,18,axis=0)\n",
        "elon2 = np.array(reshaped1)\n",
        " "
      ],
      "metadata": {
        "colab": {
          "base_uri": "https://localhost:8080/",
          "height": 356
        },
        "id": "E3JOZ3tNgEHA",
        "outputId": "f6e4f426-372f-4fb7-85fd-f42876427c85"
      },
      "execution_count": null,
      "outputs": [
        {
          "output_type": "error",
          "ename": "ValueError",
          "evalue": "ignored",
          "traceback": [
            "\u001b[0;31m---------------------------------------------------------------------------\u001b[0m",
            "\u001b[0;31mValueError\u001b[0m                                Traceback (most recent call last)",
            "\u001b[0;32m<ipython-input-114-4233840c373e>\u001b[0m in \u001b[0;36m<module>\u001b[0;34m()\u001b[0m\n\u001b[0;32m----> 1\u001b[0;31m \u001b[0mreshaped1\u001b[0m \u001b[0;34m=\u001b[0m \u001b[0mnp\u001b[0m\u001b[0;34m.\u001b[0m\u001b[0msplit\u001b[0m\u001b[0;34m(\u001b[0m\u001b[0mreshaped\u001b[0m\u001b[0;34m,\u001b[0m\u001b[0;36m18\u001b[0m\u001b[0;34m,\u001b[0m\u001b[0maxis\u001b[0m\u001b[0;34m=\u001b[0m\u001b[0;36m0\u001b[0m\u001b[0;34m)\u001b[0m\u001b[0;34m\u001b[0m\u001b[0;34m\u001b[0m\u001b[0m\n\u001b[0m\u001b[1;32m      2\u001b[0m \u001b[0melon2\u001b[0m \u001b[0;34m=\u001b[0m \u001b[0mnp\u001b[0m\u001b[0;34m.\u001b[0m\u001b[0marray\u001b[0m\u001b[0;34m(\u001b[0m\u001b[0mreshaped1\u001b[0m\u001b[0;34m)\u001b[0m\u001b[0;34m\u001b[0m\u001b[0;34m\u001b[0m\u001b[0m\n\u001b[1;32m      3\u001b[0m \u001b[0;34m\u001b[0m\u001b[0m\n",
            "\u001b[0;32m<__array_function__ internals>\u001b[0m in \u001b[0;36msplit\u001b[0;34m(*args, **kwargs)\u001b[0m\n",
            "\u001b[0;32m/usr/local/lib/python3.7/dist-packages/numpy/lib/shape_base.py\u001b[0m in \u001b[0;36msplit\u001b[0;34m(ary, indices_or_sections, axis)\u001b[0m\n\u001b[1;32m    871\u001b[0m         \u001b[0;32mif\u001b[0m \u001b[0mN\u001b[0m \u001b[0;34m%\u001b[0m \u001b[0msections\u001b[0m\u001b[0;34m:\u001b[0m\u001b[0;34m\u001b[0m\u001b[0;34m\u001b[0m\u001b[0m\n\u001b[1;32m    872\u001b[0m             raise ValueError(\n\u001b[0;32m--> 873\u001b[0;31m                 'array split does not result in an equal division') from None\n\u001b[0m\u001b[1;32m    874\u001b[0m     \u001b[0;32mreturn\u001b[0m \u001b[0marray_split\u001b[0m\u001b[0;34m(\u001b[0m\u001b[0mary\u001b[0m\u001b[0;34m,\u001b[0m \u001b[0mindices_or_sections\u001b[0m\u001b[0;34m,\u001b[0m \u001b[0maxis\u001b[0m\u001b[0;34m)\u001b[0m\u001b[0;34m\u001b[0m\u001b[0;34m\u001b[0m\u001b[0m\n\u001b[1;32m    875\u001b[0m \u001b[0;34m\u001b[0m\u001b[0m\n",
            "\u001b[0;31mValueError\u001b[0m: array split does not result in an equal division"
          ]
        }
      ]
    },
    {
      "cell_type": "code",
      "source": [
        "elon2.shape"
      ],
      "metadata": {
        "id": "l2sAl4rkgXaN"
      },
      "execution_count": null,
      "outputs": []
    },
    {
      "cell_type": "code",
      "source": [
        "elon_array"
      ],
      "metadata": {
        "colab": {
          "base_uri": "https://localhost:8080/"
        },
        "id": "3ea3KeQIJit-",
        "outputId": "ebe8ee23-c869-44e3-f7f9-0a88128c39b6"
      },
      "execution_count": null,
      "outputs": [
        {
          "output_type": "execute_result",
          "data": {
            "text/plain": [
              "array([[[[ 5.9930e+00,  1.8387e+00, -9.1256e-01, -9.1256e-01,\n",
              "          -7.3822e+00, -7.7091e+00],\n",
              "         [-5.7205e-01, -2.2474e+00, -5.7069e+00, -4.2904e+00,\n",
              "           2.9965e-01, -1.7706e-01],\n",
              "         [-1.9341e+00, -4.3994e+00, -3.5822e+00, -2.2882e+00,\n",
              "          -2.0839e+00, -1.7162e+00],\n",
              "         ...,\n",
              "         [ 1.2394e+00,  1.4997e+00,  9.8074e-01,  4.2302e-01,\n",
              "          -2.2602e-01, -7.7152e-01],\n",
              "         [-1.0684e+00, -1.3534e+00, -2.2196e+00, -3.2617e+00,\n",
              "          -3.4083e+00, -2.1622e+00],\n",
              "         [-1.1790e+00, -1.5708e+00, -1.7929e+00, -9.0103e-01,\n",
              "          -3.9859e-01,  3.0299e-01]],\n",
              "\n",
              "        [[-1.4655e+01,  7.8317e+00, -1.3484e+01, -1.2708e+01,\n",
              "           6.6740e+00,  7.8317e+00],\n",
              "         [-1.9205e+00, -1.8101e+01, -1.9259e+01, -1.8319e+01,\n",
              "          -1.1605e+01, -1.2858e+01],\n",
              "         [-1.0120e+01, -8.0224e+00, -6.7966e+00, -5.6116e+00,\n",
              "          -4.5356e+00, -4.4675e+00],\n",
              "         ...,\n",
              "         [ 5.1893e-01,  2.0217e+00,  3.1062e-01, -1.9303e-01,\n",
              "           6.7501e-02, -1.0489e+00],\n",
              "         [-2.8335e+00, -3.6166e+00, -2.9092e+00, -1.1985e+00,\n",
              "          -1.7562e+00, -1.9157e+00],\n",
              "         [-1.6524e+00, -1.5180e+00, -1.1866e+00, -6.9272e-01,\n",
              "           2.2663e-01,  1.0531e+00]],\n",
              "\n",
              "        [[-1.2531e+00, -1.5704e+01, -1.7189e+01, -9.5070e+00,\n",
              "           1.3866e+01,  1.2994e+01],\n",
              "         [ 6.9055e+00,  9.9429e-01, -3.5413e-01, -5.2847e+00,\n",
              "          -5.2847e+00, -3.2144e+00],\n",
              "         [-2.4653e+00, -2.7377e+00, -4.6718e+00, -5.2847e+00,\n",
              "          -2.3155e+00,  1.9613e+00],\n",
              "         ...,\n",
              "         [ 1.3002e+00,  1.5040e+00,  2.4648e+00,  3.3026e+00,\n",
              "           1.5571e+00, -1.1115e+00],\n",
              "         [-1.0458e+00,  1.6218e-01,  2.4038e-01,  5.7085e-01,\n",
              "           9.7494e-01,  4.2272e-01],\n",
              "         [-1.6310e-01, -5.7024e-01, -4.4929e-01,  1.0415e-01,\n",
              "          -2.7489e-02, -4.2608e-01]],\n",
              "\n",
              "        ...,\n",
              "\n",
              "        [[-1.4710e+00, -1.4710e+00, -1.4710e+00, -1.5391e+00,\n",
              "          -1.5391e+00, -1.4982e+00],\n",
              "         [-1.5119e+00, -1.5255e+00, -1.5391e+00, -1.4982e+00,\n",
              "          -1.5119e+00, -1.5527e+00],\n",
              "         [-1.5800e+00, -1.5391e+00, -1.4846e+00, -1.4710e+00,\n",
              "          -1.5119e+00, -1.4982e+00],\n",
              "         ...,\n",
              "         [ 3.0500e-04,  1.5272e-03, -1.8326e-03,  2.4435e-03,\n",
              "           9.1600e-04, -9.1600e-04],\n",
              "         [ 2.7489e-03,  9.1600e-04, -2.4435e-03,  5.4978e-03,\n",
              "           1.2217e-03,  3.0543e-03],\n",
              "         [-3.0500e-04,  1.2217e-03, -2.4435e-03,  6.1100e-04,\n",
              "          -2.4435e-03, -1.2217e-03]],\n",
              "\n",
              "        [[ 7.0145e+00,  6.9600e+00,  6.9464e+00,  6.9872e+00,\n",
              "           7.0281e+00,  7.0145e+00],\n",
              "         [ 6.9872e+00,  6.9872e+00,  6.9055e+00,  6.9328e+00,\n",
              "           6.9464e+00,  7.0009e+00],\n",
              "         [ 6.9600e+00,  6.9600e+00,  6.9328e+00,  6.9736e+00,\n",
              "           6.9736e+00,  6.9464e+00],\n",
              "         ...,\n",
              "         [ 1.2217e-03,  2.7489e-03,  5.8032e-03,  2.4435e-03,\n",
              "           3.0543e-03, -3.9706e-03],\n",
              "         [-4.2761e-03, -4.5815e-03,  1.5272e-03,  9.1600e-04,\n",
              "           2.4435e-03,  7.0250e-03],\n",
              "         [-1.5272e-03, -4.5815e-03,  3.9706e-03,  3.0500e-04,\n",
              "           1.1606e-02,  1.4050e-02]],\n",
              "\n",
              "        [[ 3.3778e+00,  3.3915e+00,  3.3778e+00,  3.4051e+00,\n",
              "           3.4187e+00,  3.4459e+00],\n",
              "         [ 3.4187e+00,  3.4323e+00,  3.4051e+00,  3.3778e+00,\n",
              "           3.3778e+00,  3.4187e+00],\n",
              "         [ 3.4187e+00,  3.3778e+00,  3.3778e+00,  3.3915e+00,\n",
              "           3.4187e+00,  3.4459e+00],\n",
              "         ...,\n",
              "         [ 7.6358e-03,  7.0250e-03,  1.1912e-02,  9.7738e-03,\n",
              "           4.8869e-03,  3.0500e-04],\n",
              "         [-3.6652e-03,  6.1100e-04, -2.1380e-03,  3.3598e-03,\n",
              "           5.1924e-03,  9.4684e-03],\n",
              "         [ 1.3439e-02,  9.7738e-03,  9.4684e-03,  1.2828e-02,\n",
              "           4.8869e-03,  5.4978e-03]]],\n",
              "\n",
              "\n",
              "       [[[ 3.8273e+00,  6.7966e+00,  7.0962e+00,  8.4991e+00,\n",
              "           4.3858e+00,  1.0896e+00],\n",
              "         [ 3.5413e-01, -4.5901e+00, -5.5843e+00, -4.7263e+00,\n",
              "          -2.8194e+00, -1.7434e+00],\n",
              "         [-3.6775e+00, -3.5958e+00, -1.7434e+00, -1.8932e+00,\n",
              "          -3.2144e+00, -3.8273e+00],\n",
              "         ...,\n",
              "         [ 4.3005e-01, -3.0910e-01, -1.7721e+00, -1.2190e+00,\n",
              "          -1.3326e+00, -1.3439e+00],\n",
              "         [-1.7205e+00, -1.7544e+00, -1.6188e+00, -1.4624e+00,\n",
              "          -7.8741e-01,  5.1465e-01],\n",
              "         [ 3.3228e+00,  4.4288e+00, -4.0623e-01, -2.0687e+00,\n",
              "          -6.3163e-01,  1.2950e-01]],\n",
              "\n",
              "        [[-3.6775e-01,  2.1793e+00,  3.6366e+00,  2.5879e-01,\n",
              "          -1.6344e+00, -2.7377e+00],\n",
              "         [ 1.4029e+00,  3.6503e+00,  4.2359e+00,  9.9429e-01,\n",
              "           1.1169e+00,  2.7513e+00],\n",
              "         [ 2.1520e+00,  1.8932e+00,  3.2144e+00,  5.1757e+00,\n",
              "           5.4618e+00,  7.6955e+00],\n",
              "         ...,\n",
              "         [ 1.4985e+00,  1.0308e+00, -2.8527e-01, -5.7666e-01,\n",
              "          -7.0860e-02,  1.1203e+00],\n",
              "         [ 1.7055e+00,  7.0311e-01, -1.5180e-01,  6.7684e-01,\n",
              "           1.6163e+00,  1.9963e+00],\n",
              "         [ 1.7055e+00,  1.5229e+00,  1.3479e+00,  6.6248e-01,\n",
              "           8.3811e-01,  9.5784e-01]],\n",
              "\n",
              "        [[-6.9600e+00, -6.7829e+00, -5.6116e+00, -4.3177e+00,\n",
              "          -7.2596e+00, -9.4798e+00],\n",
              "         [-9.8611e+00, -9.6296e+00, -1.0351e+01, -9.1529e+00,\n",
              "          -5.2575e+00, -3.0237e+00],\n",
              "         [-2.6423e+00, -3.8409e+00, -6.6467e+00, -7.7908e+00,\n",
              "          -5.6661e+00, -4.4947e+00],\n",
              "         ...,\n",
              "         [-4.5418e-01, -3.8179e-01, -3.5949e-01, -3.2406e-01,\n",
              "          -1.5211e-01,  5.3756e-02],\n",
              "         [ 2.8466e-01,  8.5368e-01,  1.2007e+00,  1.4096e+00,\n",
              "           1.4838e+00,  1.2889e+00],\n",
              "         [ 1.1356e+00,  1.1512e+00,  1.1396e+00,  1.1383e+00,\n",
              "           1.1845e+00,  1.3412e+00]],\n",
              "\n",
              "        ...,\n",
              "\n",
              "        [[-9.6704e-01,  8.1722e-02,  5.4481e-02, -3.2689e-01,\n",
              "          -5.7205e-01, -1.9068e-01],\n",
              "         [ 6.4016e-01,  5.9930e-01,  6.9464e-01,  3.1327e-01,\n",
              "          -5.4481e-01,  1.2531e+00],\n",
              "         [ 3.2280e+00,  5.9249e+00,  2.9284e+00,  9.2618e-01,\n",
              "           7.0826e-01, -1.6617e+00],\n",
              "         ...,\n",
              "         [-3.2895e-01, -4.1966e-01, -2.3366e-01, -1.3011e-01,\n",
              "          -6.4446e-02, -1.2065e-01],\n",
              "         [-4.1233e-02, -4.3066e-02, -8.8270e-02, -1.1057e-01,\n",
              "          -8.3994e-02, -9.4684e-03],\n",
              "         [ 8.7048e-02,  1.0110e-01,  1.3806e-01,  1.6554e-01,\n",
              "           2.0586e-01,  2.8008e-01]],\n",
              "\n",
              "        [[-2.6015e+00,  3.8682e+00,  8.1177e+00,  9.4661e+00,\n",
              "           1.2395e+00, -7.0826e-01],\n",
              "         [-3.9499e-01,  4.2087e+00,  6.6604e+00, -2.7104e+00,\n",
              "           1.5255e+00,  5.7069e+00],\n",
              "         [ 4.5901e+00,  2.1929e+00,  3.3506e+00,  4.7535e+00,\n",
              "           3.7047e+00,  3.0646e+00],\n",
              "         ...,\n",
              "         [ 2.1597e+00,  2.1454e+00,  2.0308e+00, -4.9480e-02,\n",
              "          -1.7672e+00, -5.8399e-01],\n",
              "         [-5.6810e-02, -7.5136e-02,  5.4336e-01,  1.1038e+00,\n",
              "           1.1805e+00,  7.8252e-01],\n",
              "         [-2.0556e-01, -2.6176e-01,  2.2449e-01,  2.7122e-01,\n",
              "          -2.8161e-01, -8.9522e-01]],\n",
              "\n",
              "        [[-9.1256e-01, -8.5808e-01, -8.8532e-01, -9.1256e-01,\n",
              "          -9.5342e-01, -9.6704e-01],\n",
              "         [-9.1256e-01, -9.5342e-01, -9.6704e-01, -9.3980e-01,\n",
              "          -9.2618e-01, -9.9429e-01],\n",
              "         [-9.6704e-01, -9.9429e-01, -1.0215e+00, -9.6704e-01,\n",
              "          -9.1256e-01, -9.3980e-01],\n",
              "         ...,\n",
              "         [-6.1087e-03,  5.1924e-03,  3.0500e-04,  8.8575e-03,\n",
              "           4.5815e-03,  3.9706e-03],\n",
              "         [ 2.4435e-03, -2.7489e-03, -2.7489e-03,  9.1600e-04,\n",
              "          -1.2217e-03,  6.7195e-03],\n",
              "         [ 3.0543e-03, -1.2217e-03,  5.4978e-03,  2.1380e-03,\n",
              "           6.1087e-03,  1.5272e-03]]],\n",
              "\n",
              "\n",
              "       [[[-2.3155e+00, -1.7434e+00,  2.0567e+00,  5.1757e-01,\n",
              "           3.4051e-01,  2.4517e-01],\n",
              "         [-5.7205e-01, -1.4574e+00, -2.3155e+00, -2.8194e+00,\n",
              "          -2.7377e+00, -1.0488e+00],\n",
              "         [ 1.6344e+00,  7.6546e+00,  7.2460e+00,  4.1133e+00,\n",
              "           2.3155e+00,  3.2689e-01],\n",
              "         ...,\n",
              "         [-1.1820e-01, -5.5894e-02,  4.1325e-01,  6.1423e-01,\n",
              "           7.4923e-01,  7.1074e-01],\n",
              "         [ 1.0232e+00,  1.0424e+00,  1.0993e+00,  1.1277e+00,\n",
              "           1.2153e+00,  1.4355e+00],\n",
              "         [ 1.3036e+00,  8.4574e-01,  7.3334e-01,  5.8246e-01,\n",
              "           3.7080e-01,  3.5369e-01]],\n",
              "\n",
              "        [[-7.2460e+00, -5.5707e+00, -4.5628e+00,  1.8524e+00,\n",
              "           3.1599e+00, -4.6445e+00],\n",
              "         [-5.9521e+00, -6.9872e+00, -6.4833e+00, -6.1700e+00,\n",
              "          -5.9657e+00, -5.8023e+00],\n",
              "         [-5.5707e+00, -6.6876e+00, -7.0009e+00, -9.7249e+00,\n",
              "          -1.0052e+01, -8.8805e+00],\n",
              "         ...,\n",
              "         [ 2.8091e+00,  3.0488e+00,  2.1570e+00,  2.0198e+00,\n",
              "           1.9297e+00,  1.4154e+00],\n",
              "         [ 1.0611e+00,  9.1233e-01,  2.0464e-02, -8.0879e-01,\n",
              "          -1.1771e+00, -2.1283e+00],\n",
              "         [-2.4004e+00, -1.2462e+00,  6.1361e-01,  1.6961e+00,\n",
              "           9.6364e-01, -6.4691e-01]],\n",
              "\n",
              "        [[ 4.6990e+00,  4.8625e+00,  4.6718e+00, -1.7298e+00,\n",
              "          -2.0022e+00, -2.3291e+00],\n",
              "         [ 3.6775e-01,  5.5026e+00,  6.1836e+00,  8.1586e+00,\n",
              "          -3.7865e+00, -3.6911e+00],\n",
              "         [ 3.5413e+00,  9.2210e+00,  6.0611e+00,  2.5742e+00,\n",
              "           1.2258e+00, -8.7170e-01],\n",
              "         ...,\n",
              "         [ 2.6267e-02, -5.7574e-01, -8.7598e-01, -4.9358e-01,\n",
              "           3.2009e-01,  4.3310e-01],\n",
              "         [-1.1912e-02, -6.1484e-01, -9.0042e-01, -8.1001e-01,\n",
              "          -5.7360e-01, -7.7274e-02],\n",
              "         [ 2.4618e-01, -1.1790e-01, -6.5240e-01, -9.7983e-01,\n",
              "          -8.2070e-01, -6.7012e-01]],\n",
              "\n",
              "        ...,\n",
              "\n",
              "        [[ 3.3097e+00, -7.2188e-01, -1.7706e+00, -1.7162e+00,\n",
              "           6.6740e-01,  1.6208e+00],\n",
              "         [ 1.8796e+00,  9.5342e-02, -1.2531e+00, -1.3620e+00,\n",
              "          -8.9894e-01, -1.0488e+00],\n",
              "         [-1.7298e+00, -1.1986e+00,  6.2654e-01,  3.4596e+00,\n",
              "           3.9635e+00,  3.2144e+00],\n",
              "         ...,\n",
              "         [-1.6078e+00, -1.9477e+00, -1.8839e+00, -1.7779e+00,\n",
              "          -1.5116e+00, -1.5925e+00],\n",
              "         [-1.7898e+00, -1.9352e+00, -2.1362e+00, -1.9138e+00,\n",
              "          -1.6493e+00, -1.5592e+00],\n",
              "         [-1.5388e+00, -1.4276e+00, -1.0076e+00, -3.2040e-01,\n",
              "           3.7324e-01,  1.1863e+00]],\n",
              "\n",
              "        [[ 1.0488e+00, -2.0975e+00, -2.0839e+00, -7.6274e-01,\n",
              "           3.1735e+00,  3.1735e+00],\n",
              "         [ 3.6911e+00,  3.4459e+00,  1.9613e+00, -1.9886e+00,\n",
              "          -2.2882e+00, -2.0567e+00],\n",
              "         [-1.5800e+00, -1.4710e+00, -9.6704e-01,  5.3119e-01,\n",
              "           4.5901e+00,  1.0420e+01],\n",
              "         ...,\n",
              "         [ 1.2239e+00,  1.1942e+00,  1.0006e+00,  9.3951e-01,\n",
              "           1.0770e+00,  1.1945e+00],\n",
              "         [ 1.1829e+00,  1.0192e+00,  7.7672e-01,  4.7678e-01,\n",
              "           4.0103e-01,  1.4142e-01],\n",
              "         [-1.4386e-01, -9.1080e-01, -1.2153e+00, -2.2440e+00,\n",
              "          -2.7804e+00, -2.9978e+00]],\n",
              "\n",
              "        [[-7.0826e-01, -7.3550e-01, -8.1722e-01, -8.0360e-01,\n",
              "          -7.6274e-01, -7.7636e-01],\n",
              "         [-7.7636e-01, -8.1722e-01, -8.4446e-01, -8.3084e-01,\n",
              "          -8.1722e-01, -7.6274e-01],\n",
              "         [-7.7636e-01, -8.1722e-01, -8.1722e-01, -8.1722e-01,\n",
              "          -8.4446e-01, -8.0360e-01],\n",
              "         ...,\n",
              "         [-3.6652e-03, -1.2217e-03,  2.1380e-03, -6.1100e-04,\n",
              "           3.3598e-03, -9.1600e-04],\n",
              "         [ 3.6652e-03,  1.5272e-03,  9.1600e-04,  1.5272e-03,\n",
              "           2.4435e-03, -9.1600e-04],\n",
              "         [-4.2761e-03,  3.3598e-03,  2.1380e-03,  1.8326e-03,\n",
              "           4.5815e-03, -1.2217e-03]]],\n",
              "\n",
              "\n",
              "       ...,\n",
              "\n",
              "\n",
              "       [[[-6.6059e+00, -6.6195e+00, -6.6195e+00, -6.6195e+00,\n",
              "          -6.6195e+00, -6.6331e+00],\n",
              "         [-6.6467e+00, -6.6331e+00, -6.6331e+00, -6.5922e+00,\n",
              "          -6.6331e+00, -6.5786e+00],\n",
              "         [-6.6467e+00, -6.6331e+00, -6.6059e+00, -6.6604e+00,\n",
              "          -6.5786e+00, -6.6331e+00],\n",
              "         ...,\n",
              "         [-5.8032e-03,  1.8326e-03,  6.1100e-04,  3.3598e-03,\n",
              "           2.1380e-03, -3.0500e-04],\n",
              "         [ 9.1600e-04, -9.7738e-03, -1.8021e-02, -2.2297e-02,\n",
              "          -2.5045e-02, -1.3134e-02],\n",
              "         [-9.1630e-03, -9.1600e-04,  5.8032e-03,  7.9412e-03,\n",
              "          -2.1380e-03,  2.4435e-03]],\n",
              "\n",
              "        [[ 4.3177e+00,  8.4719e+00, -1.1427e+01, -5.8704e+00,\n",
              "           1.4846e+00,  1.3103e+01],\n",
              "         [ 9.7658e+00, -8.9894e-01, -5.7342e+00, -7.3686e+00,\n",
              "          -7.5457e+00, -7.3822e+00],\n",
              "         [-7.9815e+00, -8.9077e+00, -2.7241e-02,  3.5549e+00,\n",
              "           8.9349e+00,  1.5119e+00],\n",
              "         ...,\n",
              "         [-2.0876e+00, -8.2284e-01,  6.6829e-01,  9.8288e-01,\n",
              "           1.2196e+00,  9.3676e-01],\n",
              "         [ 3.6988e-01,  6.1911e-01, -6.9364e-01, -1.8934e+00,\n",
              "          -3.2529e+00, -1.4163e+00],\n",
              "         [ 2.5314e+00, -1.1777e+00,  1.4478e-01,  2.8457e+00,\n",
              "           3.7843e+00,  3.9508e+00]],\n",
              "\n",
              "        [[-1.2258e-01, -1.2258e-01, -1.0896e-01, -1.0896e-01,\n",
              "          -1.4982e-01, -1.2258e-01],\n",
              "         [-1.7706e-01, -9.5342e-02, -1.2258e-01, -9.5342e-02,\n",
              "          -9.5342e-02, -1.4982e-01],\n",
              "         [-1.4982e-01, -1.3620e-01, -1.3620e-01, -1.0896e-01,\n",
              "          -1.3620e-01, -1.6344e-01],\n",
              "         ...,\n",
              "         [ 5.4978e-03,  2.4435e-03,  7.3304e-03,  7.0250e-03,\n",
              "           8.2467e-03,  3.3598e-03],\n",
              "         [ 3.3598e-03,  6.1087e-03,  6.1087e-03,  5.4978e-03,\n",
              "           3.6652e-03,  3.0543e-03],\n",
              "         [ 9.1630e-03,  5.4978e-03,  6.4141e-03,  4.2761e-03,\n",
              "           5.1924e-03,  3.9706e-03]],\n",
              "\n",
              "        ...,\n",
              "\n",
              "        [[ 2.6015e+00,  2.2882e+00,  2.0022e+00,  1.7298e+00,\n",
              "           1.3620e+00, -6.6740e-01],\n",
              "         [-2.5742e+00, -3.7728e+00, -5.1485e+00, -2.6968e+00,\n",
              "          -2.3836e+00, -1.4710e+00],\n",
              "         [-4.7671e-01,  2.3155e-01, -2.1793e-01, -2.1520e+00,\n",
              "          -2.3291e+00, -2.1520e+00],\n",
              "         ...,\n",
              "         [-1.6725e+00, -1.2862e+00, -1.2932e+00, -1.5006e+00,\n",
              "          -1.8164e+00, -1.9923e+00],\n",
              "         [-1.9129e+00, -1.6069e+00, -1.5110e+00, -1.4911e+00,\n",
              "          -1.2773e+00, -8.6376e-01],\n",
              "         [-2.9108e-01,  2.3793e-01,  7.4587e-01,  1.6490e+00,\n",
              "           1.7895e+00,  4.4624e-01]],\n",
              "\n",
              "        [[ 1.8387e+00,  8.0496e+00,  4.0589e+00,  2.7241e-01,\n",
              "          -1.0896e-01,  4.9578e+00],\n",
              "         [ 6.0202e+00,  1.1713e+00,  4.4947e-01,  4.3858e+00,\n",
              "           6.6740e-01, -7.8998e-01],\n",
              "         [ 8.4174e+00,  9.4117e+00,  7.3822e+00,  1.7979e+00,\n",
              "          -1.2531e+00, -2.6423e+00],\n",
              "         ...,\n",
              "         [-5.8246e-01, -1.0440e+00, -6.6584e-01, -6.4568e-01,\n",
              "          -8.7751e-01, -1.5449e+00],\n",
              "         [-1.8769e+00, -7.4678e-01, -3.1307e-01,  1.9700e-01,\n",
              "           2.1319e-01, -2.8711e-02],\n",
              "         [-6.5057e-02, -2.4282e-01, -3.4606e-01, -3.6469e-01,\n",
              "          -5.4367e-02,  4.9450e-01]],\n",
              "\n",
              "        [[-9.9429e-01,  2.1793e-01,  2.6423e+00,  2.4517e+00,\n",
              "           1.9613e+00,  2.6560e+00],\n",
              "         [ 4.7399e+00,  5.0940e+00,  5.0395e+00,  5.1213e+00,\n",
              "           5.6933e+00,  5.7478e+00],\n",
              "         [ 2.0703e+00, -5.8567e-01, -5.2983e+00, -1.0896e+00,\n",
              "           1.4301e+00,  4.3177e+00],\n",
              "         ...,\n",
              "         [-8.6010e-01,  1.0996e-02,  3.6896e-01,  3.4728e-01,\n",
              "          -5.8429e-01, -1.1426e+00],\n",
              "         [-6.7226e-01,  2.5809e-01,  6.9547e-01,  4.9511e-01,\n",
              "          -4.0317e-01, -8.6132e-01],\n",
              "         [-7.6419e-01, -6.7378e-01, -6.2033e-01, -2.9322e-01,\n",
              "          -2.6634e-01, -5.5833e-01]]],\n",
              "\n",
              "\n",
              "       [[[-7.6683e+00, -4.1542e+00,  4.7671e-01,  1.2395e+00,\n",
              "          -4.4811e+00, -4.0452e+00],\n",
              "         [ 4.6309e-01, -6.5378e-01, -2.5606e+00, -5.2302e+00,\n",
              "          -7.0826e+00, -5.6661e+00],\n",
              "         [-4.0997e+00, -3.5277e+00, -2.8603e+00, -4.3858e+00,\n",
              "          -4.3177e+00, -4.5356e+00],\n",
              "         ...,\n",
              "         [ 1.4090e+00,  1.0418e+00,  8.4422e-01,  6.5424e-01,\n",
              "           6.2583e-01,  5.4489e-01],\n",
              "         [ 3.2865e-01, -1.0079e-01, -4.7586e-01, -5.7757e-01,\n",
              "          -4.2089e-01,  7.9077e-01],\n",
              "         [ 8.5827e-01,  1.0537e-01,  9.3462e-02,  3.3475e-01,\n",
              "          -2.9596e-01, -7.1166e-01]],\n",
              "\n",
              "        [[-2.2474e+00, -2.2065e+00, -2.1929e+00, -2.2065e+00,\n",
              "          -2.2474e+00, -2.2474e+00],\n",
              "         [-2.2882e+00, -2.2474e+00, -2.2065e+00, -2.2337e+00,\n",
              "          -2.2746e+00, -2.2746e+00],\n",
              "         [-2.2201e+00, -2.2474e+00, -2.2201e+00, -2.2474e+00,\n",
              "          -2.2065e+00, -2.2474e+00],\n",
              "         ...,\n",
              "         [-1.8326e-03, -4.2761e-03,  5.1924e-03,  3.9706e-03,\n",
              "          -1.5272e-03, -6.1087e-03],\n",
              "         [-4.2761e-03,  3.3598e-03,  2.1380e-03,  3.3598e-03,\n",
              "           3.3598e-03, -3.0500e-04],\n",
              "         [-4.5815e-03, -3.9706e-03,  2.1380e-03, -4.8869e-03,\n",
              "           1.5272e-03,  3.6652e-03]],\n",
              "\n",
              "        [[-2.7513e+00, -2.8330e+00, -2.7786e+00, -2.7786e+00,\n",
              "          -2.8058e+00, -2.7377e+00],\n",
              "         [-2.7377e+00, -2.7922e+00, -2.7649e+00, -2.8603e+00,\n",
              "          -2.8603e+00, -2.8330e+00],\n",
              "         [-2.7377e+00, -2.7513e+00, -2.7786e+00, -2.8058e+00,\n",
              "          -2.7922e+00, -2.8058e+00],\n",
              "         ...,\n",
              "         [ 2.4740e-02,  1.8937e-02,  2.2297e-02,  1.0385e-02,\n",
              "          -1.1606e-02, -3.3598e-02],\n",
              "         [-2.1991e-02, -4.5815e-03, -2.7794e-02, -3.7874e-02,\n",
              "          -2.4435e-02, -2.8405e-02],\n",
              "         [-4.3066e-02, -2.8405e-02, -1.8326e-02, -1.1912e-02,\n",
              "          -1.4355e-02, -1.7104e-02]],\n",
              "\n",
              "        ...,\n",
              "\n",
              "        [[ 1.3620e+00,  1.5527e+00,  1.6072e+00,  2.6151e+00,\n",
              "           2.5061e+00, -1.2122e+00],\n",
              "         [-3.1872e+00, -6.6876e+00, -5.0940e+00, -3.0237e+00,\n",
              "           2.6151e+00,  4.2904e+00],\n",
              "         [ 3.2008e+00,  3.6775e-01,  1.9068e-01, -6.5378e-01,\n",
              "          -1.2939e+00, -2.0294e+00],\n",
              "         ...,\n",
              "         [-1.6084e+00, -1.8573e+00, -1.4007e+00, -1.2465e+00,\n",
              "          -1.2013e+00, -1.1887e+00],\n",
              "         [-1.0440e+00, -7.9290e-01, -4.8075e-01, -3.7904e-01,\n",
              "          -2.2144e-01,  7.3915e-02],\n",
              "         [ 4.5143e-01,  9.9266e-01,  1.4694e+00,  1.6011e+00,\n",
              "          -1.7043e-01, -1.3210e+00]],\n",
              "\n",
              "        [[-3.9635e+00, -3.9499e+00, -3.9635e+00, -3.9908e+00,\n",
              "          -3.9771e+00, -4.0044e+00],\n",
              "         [-3.9363e+00, -3.9363e+00, -3.9908e+00, -3.9771e+00,\n",
              "          -3.9908e+00, -3.9908e+00],\n",
              "         [-3.9363e+00, -3.9908e+00, -3.9771e+00, -3.9908e+00,\n",
              "          -3.9635e+00, -3.9771e+00],\n",
              "         ...,\n",
              "         [ 3.0500e-04,  1.2217e-03, -2.1380e-03, -2.1380e-03,\n",
              "           6.1100e-04,  3.0500e-04],\n",
              "         [-3.0543e-03, -1.2217e-03, -9.1600e-04,  3.0543e-03,\n",
              "          -2.7489e-03,  2.4435e-03],\n",
              "         [-2.7489e-03, -3.0500e-04,  2.4435e-03,  3.3598e-03,\n",
              "          -3.9706e-03, -2.4435e-03]],\n",
              "\n",
              "        [[ 8.2948e+00,  8.2812e+00,  8.3084e+00,  8.3220e+00,\n",
              "           8.2812e+00,  8.2812e+00],\n",
              "         [ 8.2676e+00,  8.2812e+00,  8.2812e+00,  8.3493e+00,\n",
              "           8.3357e+00,  8.4310e+00],\n",
              "         [ 8.3493e+00,  8.3220e+00,  8.2812e+00,  8.2676e+00,\n",
              "           8.2812e+00,  8.2812e+00],\n",
              "         ...,\n",
              "         [ 3.3598e-03,  4.5815e-03,  5.1924e-03,  6.1100e-04,\n",
              "           6.7195e-03,  5.1924e-03],\n",
              "         [ 1.2217e-03, -2.4435e-03,  7.3304e-03,  3.9706e-03,\n",
              "           3.0500e-04,  2.1380e-03],\n",
              "         [ 5.4978e-03,  5.4978e-03,  1.5272e-03,  4.5815e-03,\n",
              "           5.1924e-03,  9.7738e-03]]],\n",
              "\n",
              "\n",
              "       [[[-5.4481e-01, -7.6274e-01, -7.6274e-01, -5.9930e-01,\n",
              "          -5.1757e-01, -4.7671e-01],\n",
              "         [-5.8567e-01, -7.6274e-01, -8.8532e-01, -9.6704e-01,\n",
              "          -1.1032e+00, -1.0079e+00],\n",
              "         [-8.8532e-01, -7.8998e-01, -8.0360e-01, -9.9429e-01,\n",
              "          -9.8067e-01, -9.3980e-01],\n",
              "         ...,\n",
              "         [-1.8631e-02, -1.8326e-02, -6.7195e-03, -1.8326e-03,\n",
              "           6.7195e-03,  1.4355e-02],\n",
              "         [ 7.6358e-03,  2.1380e-03, -3.3598e-03, -3.3598e-03,\n",
              "          -3.6652e-03, -3.6652e-03],\n",
              "         [-6.1087e-03, -7.9412e-03, -5.1924e-03, -2.1380e-03,\n",
              "          -4.8869e-03, -1.5272e-03]],\n",
              "\n",
              "        [[-1.0896e+00, -3.0237e+00, -3.5277e+00, -3.8682e+00,\n",
              "          -5.0395e+00, -3.8273e+00],\n",
              "         [-3.5685e+00, -3.8001e+00,  6.2654e-01,  2.6968e+00,\n",
              "           6.8102e-02, -4.6309e+00],\n",
              "         [ 5.8567e+00,  9.1256e-01, -8.7034e+00,  1.9886e+00,\n",
              "           4.4266e+00,  4.2904e+00],\n",
              "         ...,\n",
              "         [-1.5684e+00, -1.3754e+00, -1.1961e+00, -6.7409e-01,\n",
              "           2.4435e-01,  3.5583e-01],\n",
              "         [ 1.5516e-01,  4.1783e-01, -3.3995e-01, -9.6853e-01,\n",
              "          -1.2663e+00, -2.1289e-01],\n",
              "         [-1.2810e+00,  1.3900e+00,  1.6936e+00,  2.1267e+00,\n",
              "           1.7181e+00,  2.0012e+00]],\n",
              "\n",
              "        [[-2.4244e+00,  1.0624e+00,  3.5685e+00,  4.3585e-01,\n",
              "          -6.4016e+00, -8.0905e+00],\n",
              "         [-2.8739e+00, -7.4912e-01, -5.9793e+00, -1.2572e+01,\n",
              "          -1.2054e+01, -1.5936e+00],\n",
              "         [ 6.4697e+00,  6.2654e+00,  1.7706e+00, -8.9894e-01,\n",
              "          -3.6230e+00, -3.5958e+00],\n",
              "         ...,\n",
              "         [-3.7874e+00, -3.7333e+00, -2.6554e+00, -2.7611e+00,\n",
              "          -2.4309e+00, -9.4073e-01],\n",
              "         [-3.9554e-01, -1.2675e-01,  3.9309e-01,  1.2425e+00,\n",
              "           2.0424e+00,  2.4493e+00],\n",
              "         [ 8.0543e-01, -1.2660e+00, -1.2498e+00, -2.0540e+00,\n",
              "          -1.4251e+00,  2.4068e-01]],\n",
              "\n",
              "        ...,\n",
              "\n",
              "        [[-7.0826e-01, -1.1850e+00, -1.3212e+00, -2.7786e+00,\n",
              "          -3.5413e-01,  1.2122e+00],\n",
              "         [-7.1371e+00, -8.7034e+00, -7.0281e+00,  4.4130e+00,\n",
              "           8.9486e+00, -2.4653e+00],\n",
              "         [-2.0839e+00, -1.0624e+00, -1.0215e+00,  1.4982e-01,\n",
              "           3.5413e-01, -1.1305e+00],\n",
              "         ...,\n",
              "         [ 3.4972e-01,  6.0048e-01,  2.2144e-01, -3.3292e-02,\n",
              "          -3.5461e-01, -1.0146e+00],\n",
              "         [-1.5153e+00, -1.3326e+00, -8.1306e-01, -5.0824e-01,\n",
              "          -3.1765e-01, -2.4312e-01],\n",
              "         [-3.0971e-01, -3.0360e-01, -4.4899e-01, -6.2003e-01,\n",
              "          -8.4666e-01, -8.8514e-01]],\n",
              "\n",
              "        [[-1.1686e+01, -3.5413e-01, -1.3076e+00, -9.9429e-01,\n",
              "           5.4481e-02, -3.4868e+00],\n",
              "         [-9.7658e+00, -2.9284e+00,  4.4130e+00,  1.8633e+01,\n",
              "           6.1564e+00, -4.4947e+00],\n",
              "         [-4.5764e+00, -1.5936e+00, -9.6704e-01,  6.2654e-01,\n",
              "          -7.6274e-01, -1.2395e+00],\n",
              "         ...,\n",
              "         [ 1.7715e-01,  3.7263e-01,  1.4691e-01, -1.2031e+00,\n",
              "          -1.6924e+00, -2.0363e+00],\n",
              "         [-2.5937e+00, -5.5433e+00, -3.6182e+00, -1.2504e+00,\n",
              "          -8.4880e-01, -6.8539e-01],\n",
              "         [-6.8783e-01, -2.6725e-01,  7.0585e-01,  1.1521e+00,\n",
              "           2.0779e+00,  2.6802e+00]],\n",
              "\n",
              "        [[ 4.0861e+00,  4.7399e+00,  3.1599e+00,  2.7104e+00,\n",
              "           2.2746e+00, -9.2618e-01],\n",
              "         [-1.3484e+00,  5.4481e-02, -4.6309e-01, -9.5342e-01,\n",
              "          -2.6287e+00, -6.0338e+00],\n",
              "         [-9.2346e+00, -1.0215e+01, -6.0066e+00, -4.6309e+00,\n",
              "           3.1327e-01,  1.5663e+00],\n",
              "         ...,\n",
              "         [-4.1142e-01, -9.4379e-01, -1.1063e+00, -1.5290e+00,\n",
              "          -1.6716e+00, -7.5350e-01],\n",
              "         [ 6.2339e-01,  8.7568e-01,  4.9327e-01, -2.4282e-01,\n",
              "          -6.8478e-01, -6.0720e-01],\n",
              "         [ 1.8876e-01,  2.7153e-01,  7.7580e-02, -9.2241e-02,\n",
              "          -1.3073e-01, -1.9456e-01]]]], dtype=float32)"
            ]
          },
          "metadata": {},
          "execution_count": 93
        }
      ]
    },
    {
      "cell_type": "code",
      "source": [
        "X_test1.shape"
      ],
      "metadata": {
        "colab": {
          "base_uri": "https://localhost:8080/"
        },
        "id": "08bGCWRUD3eV",
        "outputId": "a5421236-1ac8-4ba3-bcd3-705984bc97f1"
      },
      "execution_count": null,
      "outputs": [
        {
          "output_type": "execute_result",
          "data": {
            "text/plain": [
              "(360, 300, 6)"
            ]
          },
          "metadata": {},
          "execution_count": 71
        }
      ]
    },
    {
      "cell_type": "code",
      "source": [],
      "metadata": {
        "colab": {
          "base_uri": "https://localhost:8080/"
        },
        "id": "1dua6YRHD7f5",
        "outputId": "1a3884a2-d34c-448f-f769-7cb10b3b21de"
      },
      "execution_count": null,
      "outputs": [
        {
          "output_type": "execute_result",
          "data": {
            "text/plain": [
              "(300, 6)"
            ]
          },
          "metadata": {},
          "execution_count": 74
        }
      ]
    },
    {
      "cell_type": "code",
      "source": [
        "BATCH_SIZE = 20\n",
        "STEPS = 50*12\n",
        "INPUT_SIZE = 6\n",
        "run_model = tf.function(lambda x: model1(x))\n",
        "concrete_func = run_model.get_concrete_function(\n",
        "    tf.TensorSpec([BATCH_SIZE, STEPS, INPUT_SIZE], model1.inputs[0].dtype))"
      ],
      "metadata": {
        "id": "AmrEnyr3PJfk"
      },
      "execution_count": null,
      "outputs": []
    },
    {
      "cell_type": "code",
      "source": [
        "# model directory.\n",
        "MODEL_DIR = \"keras_lstm\"\n",
        "model1.save(MODEL_DIR, save_format=\"tf\", signatures=concrete_func)"
      ],
      "metadata": {
        "colab": {
          "base_uri": "https://localhost:8080/"
        },
        "id": "SArniyE8PTde",
        "outputId": "9c0c803e-8273-40a9-b262-9b824b63399c"
      },
      "execution_count": null,
      "outputs": [
        {
          "output_type": "stream",
          "name": "stderr",
          "text": [
            "WARNING:absl:Found untraced functions such as gru_cell_3_layer_call_fn, gru_cell_3_layer_call_and_return_conditional_losses, gru_cell_4_layer_call_fn, gru_cell_4_layer_call_and_return_conditional_losses, gru_cell_5_layer_call_fn while saving (showing 5 of 6). These functions will not be directly callable after loading.\n"
          ]
        },
        {
          "output_type": "stream",
          "name": "stdout",
          "text": [
            "INFO:tensorflow:Assets written to: keras_lstm/assets\n"
          ]
        },
        {
          "output_type": "stream",
          "name": "stderr",
          "text": [
            "INFO:tensorflow:Assets written to: keras_lstm/assets\n",
            "WARNING:absl:<keras.layers.recurrent.GRUCell object at 0x7f26633c7110> has the same name 'GRUCell' as a built-in Keras object. Consider renaming <class 'keras.layers.recurrent.GRUCell'> to avoid naming conflicts when loading with `tf.keras.models.load_model`. If renaming is not possible, pass the object in the `custom_objects` parameter of the load function.\n",
            "WARNING:absl:<keras.layers.recurrent.GRUCell object at 0x7f266335eb90> has the same name 'GRUCell' as a built-in Keras object. Consider renaming <class 'keras.layers.recurrent.GRUCell'> to avoid naming conflicts when loading with `tf.keras.models.load_model`. If renaming is not possible, pass the object in the `custom_objects` parameter of the load function.\n",
            "WARNING:absl:<keras.layers.recurrent.GRUCell object at 0x7f266326a510> has the same name 'GRUCell' as a built-in Keras object. Consider renaming <class 'keras.layers.recurrent.GRUCell'> to avoid naming conflicts when loading with `tf.keras.models.load_model`. If renaming is not possible, pass the object in the `custom_objects` parameter of the load function.\n"
          ]
        }
      ]
    },
    {
      "cell_type": "code",
      "source": [
        "converter = tf.lite.TFLiteConverter.from_saved_model(MODEL_DIR)\n",
        "tflite_model = converter.convert()"
      ],
      "metadata": {
        "colab": {
          "base_uri": "https://localhost:8080/"
        },
        "id": "xYiv8NqsPZ83",
        "outputId": "19f79077-ead0-4d63-cb91-3b9638296a37"
      },
      "execution_count": null,
      "outputs": [
        {
          "output_type": "stream",
          "name": "stderr",
          "text": [
            "WARNING:absl:Buffer deduplication procedure will be skipped when flatbuffer library is not properly loaded\n"
          ]
        }
      ]
    },
    {
      "cell_type": "code",
      "source": [
        "import tensorflow as tf\n",
        "\n",
        "# Convert the model\n",
        "converter = tf.lite.TFLiteConverter.from_saved_model('keras_lstm') # path to the SavedModel directory\n",
        "tflite_model = converter.convert()\n",
        "\n",
        "# Save the model.\n",
        "with open('model.tflite', 'wb') as f:\n",
        "  \n",
        "  f.write(tflite_model)"
      ],
      "metadata": {
        "colab": {
          "base_uri": "https://localhost:8080/"
        },
        "id": "6Uo7KcSOPd12",
        "outputId": "085b9c63-0bc2-43c7-ba22-f28125885a33"
      },
      "execution_count": null,
      "outputs": [
        {
          "output_type": "stream",
          "name": "stderr",
          "text": [
            "WARNING:absl:Buffer deduplication procedure will be skipped when flatbuffer library is not properly loaded\n"
          ]
        }
      ]
    },
    {
      "cell_type": "code",
      "source": [
        "interpreter = tf.lite.Interpreter(model_path=\"lstm.tflite\")\n",
        "interpreter.allocate_tensors()"
      ],
      "metadata": {
        "id": "rEcN39426ONN"
      },
      "execution_count": null,
      "outputs": []
    },
    {
      "cell_type": "code",
      "source": [
        "input_details = interpreter.get_input_details()\n",
        "output_details = interpreter.get_output_details()"
      ],
      "metadata": {
        "id": "pY1tZKXu6R5z"
      },
      "execution_count": null,
      "outputs": []
    },
    {
      "cell_type": "code",
      "source": [
        "print(input_details)\n",
        "print(output_details)"
      ],
      "metadata": {
        "colab": {
          "base_uri": "https://localhost:8080/"
        },
        "id": "Hgv4D-076R7v",
        "outputId": "c5dadb2c-12ad-4c17-b465-9b7a936f1a20"
      },
      "execution_count": null,
      "outputs": [
        {
          "output_type": "stream",
          "name": "stdout",
          "text": [
            "[{'name': 'serving_default_x:0', 'index': 0, 'shape': array([ 20, 300,   6], dtype=int32), 'shape_signature': array([ 20, 300,   6], dtype=int32), 'dtype': <class 'numpy.float32'>, 'quantization': (0.0, 0), 'quantization_parameters': {'scales': array([], dtype=float32), 'zero_points': array([], dtype=int32), 'quantized_dimension': 0}, 'sparsity_parameters': {}}]\n",
            "[{'name': 'StatefulPartitionedCall:0', 'index': 24, 'shape': array([20,  3], dtype=int32), 'shape_signature': array([20,  3], dtype=int32), 'dtype': <class 'numpy.float32'>, 'quantization': (0.0, 0), 'quantization_parameters': {'scales': array([], dtype=float32), 'zero_points': array([], dtype=int32), 'quantized_dimension': 0}, 'sparsity_parameters': {}}]\n"
          ]
        }
      ]
    },
    {
      "cell_type": "code",
      "source": [
        "input_shape = input_details[0]['shape']\n",
        "input_data = np.array(np.random.random_sample(input_shape), dtype=np.float32)\n",
        "interpreter.set_tensor(input_details[0]['index'], input_data)\n",
        "interpreter.invoke()\n",
        "\n",
        "output_data = interpreter.get_tensor(output_details[0]['index'])\n",
        "print(output_data)"
      ],
      "metadata": {
        "colab": {
          "base_uri": "https://localhost:8080/"
        },
        "id": "jP1-ii0w6R-6",
        "outputId": "0ba4d495-837b-4bfa-843e-14571ec39130"
      },
      "execution_count": null,
      "outputs": [
        {
          "output_type": "stream",
          "name": "stdout",
          "text": [
            "[[8.3898951e-04 1.7619802e-02 9.8154128e-01]\n",
            " [6.9071009e-04 2.4458671e-02 9.7485059e-01]\n",
            " [9.5726951e-04 2.4106288e-02 9.7493637e-01]\n",
            " [7.9092116e-04 3.1018974e-02 9.6819007e-01]\n",
            " [8.9216372e-04 2.7345052e-02 9.7176290e-01]\n",
            " [1.2438236e-03 2.9007606e-02 9.6974868e-01]\n",
            " [6.3008611e-04 2.3735311e-02 9.7563452e-01]\n",
            " [8.3551364e-04 2.8973658e-02 9.7019088e-01]\n",
            " [8.1995095e-04 2.7918108e-02 9.7126198e-01]\n",
            " [1.0172051e-03 2.4747534e-02 9.7423530e-01]\n",
            " [8.2072080e-04 2.7411763e-02 9.7176749e-01]\n",
            " [6.5215293e-04 2.4431681e-02 9.7491622e-01]\n",
            " [8.0813747e-04 2.1624478e-02 9.7756732e-01]\n",
            " [9.2641119e-04 2.0802397e-02 9.7827119e-01]\n",
            " [1.1719592e-03 3.4670345e-02 9.6415764e-01]\n",
            " [7.8267098e-04 2.7305754e-02 9.7191161e-01]\n",
            " [8.4334170e-04 2.2977244e-02 9.7617948e-01]\n",
            " [7.0209091e-04 1.8373424e-02 9.8092449e-01]\n",
            " [6.6601561e-04 2.2779230e-02 9.7655475e-01]\n",
            " [5.3505553e-04 2.1594992e-02 9.7786987e-01]]\n"
          ]
        }
      ]
    },
    {
      "cell_type": "code",
      "source": [
        "input_shape = ''\n",
        "output_shape = ''\n",
        "interpreter = ''\n"
      ],
      "metadata": {
        "id": "3tjmAkgw6SQd"
      },
      "execution_count": null,
      "outputs": []
    },
    {
      "cell_type": "code",
      "source": [],
      "metadata": {
        "id": "BxGghzx5AHZ0"
      },
      "execution_count": null,
      "outputs": []
    },
    {
      "cell_type": "code",
      "source": [
        "def predict(x):\n",
        "  interpreter.set_tensor(input_shape[0]['index'], x)\n",
        "  interpreter.invoke()\n",
        "  output_data = interpreter.get_tensor(output_shape[0]['index'])\n",
        "  Predicted_class = output_data\n",
        "  return Predicted_class"
      ],
      "metadata": {
        "id": "-n9Rck6g8sFY"
      },
      "execution_count": null,
      "outputs": []
    },
    {
      "cell_type": "code",
      "source": [
        "def Load_Model():\n",
        "  global input_shape\n",
        "  global output_shape\n",
        "  global interpreter\n",
        "  interpreter = tf.lite.Interpreter(model_path=\"lstm.tflite\")\n",
        "  interpreter.allocate_tensors()\n",
        "  input_shape = interpreter.get_input_details()\n",
        "  output_shape = interpreter.get_output_details()\n"
      ],
      "metadata": {
        "id": "MJmtO4v_-rwl"
      },
      "execution_count": null,
      "outputs": []
    },
    {
      "cell_type": "code",
      "source": [
        "Load_Model()"
      ],
      "metadata": {
        "id": "mbA26EgRBWyW"
      },
      "execution_count": null,
      "outputs": []
    },
    {
      "cell_type": "code",
      "source": [
        "for i in range(0,19):\n",
        "  j = y[i]\n",
        "  \n",
        "\n"
      ],
      "metadata": {
        "id": "v_QPBAnlMPjG"
      },
      "execution_count": null,
      "outputs": []
    },
    {
      "cell_type": "code",
      "source": [
        "y = []\n",
        "for i in range(0,17):\n",
        "  x = elon_array[i]\n",
        "  y = predict(x)\n",
        "  for i in range(0,19):\n",
        "    r = y[i]\n",
        "    a = \"jogging\"\n",
        "    b = \"sitting\"\n",
        "    c = \"walking\"\n",
        "\n",
        "    if r[0] > r[1]:\n",
        "      if r[0] > r[2]:\n",
        "        print(a) \n",
        "      else:\n",
        "        print(c)\n",
        "    else:\n",
        "      if r[1] > r[2]:\n",
        "        print(b)\n",
        "      else:\n",
        "        print(c)"
      ],
      "metadata": {
        "colab": {
          "base_uri": "https://localhost:8080/"
        },
        "id": "Ro-ZdtwmKBRM",
        "outputId": "6f55a46a-8d86-46f8-fcd2-73bb1782d70c"
      },
      "execution_count": null,
      "outputs": [
        {
          "output_type": "stream",
          "name": "stdout",
          "text": [
            "jogging\n",
            "jogging\n",
            "jogging\n",
            "sitting\n",
            "sitting\n",
            "sitting\n",
            "sitting\n",
            "jogging\n",
            "walking\n",
            "walking\n",
            "jogging\n",
            "jogging\n",
            "jogging\n",
            "walking\n",
            "walking\n",
            "jogging\n",
            "sitting\n",
            "sitting\n",
            "sitting\n",
            "jogging\n",
            "walking\n",
            "walking\n",
            "jogging\n",
            "jogging\n",
            "jogging\n",
            "sitting\n",
            "sitting\n",
            "jogging\n",
            "walking\n",
            "walking\n",
            "jogging\n",
            "walking\n",
            "walking\n",
            "sitting\n",
            "sitting\n",
            "walking\n",
            "walking\n",
            "jogging\n",
            "walking\n",
            "jogging\n",
            "walking\n",
            "walking\n",
            "walking\n",
            "walking\n",
            "jogging\n",
            "sitting\n",
            "sitting\n",
            "sitting\n",
            "sitting\n",
            "jogging\n",
            "jogging\n",
            "walking\n",
            "sitting\n",
            "jogging\n",
            "walking\n",
            "walking\n",
            "walking\n",
            "walking\n",
            "walking\n",
            "jogging\n",
            "jogging\n",
            "sitting\n",
            "walking\n",
            "jogging\n",
            "sitting\n",
            "walking\n",
            "sitting\n",
            "sitting\n",
            "jogging\n",
            "walking\n",
            "sitting\n",
            "jogging\n",
            "walking\n",
            "sitting\n",
            "jogging\n",
            "sitting\n",
            "sitting\n",
            "jogging\n",
            "jogging\n",
            "walking\n",
            "sitting\n",
            "walking\n",
            "walking\n",
            "walking\n",
            "walking\n",
            "sitting\n",
            "jogging\n",
            "jogging\n",
            "walking\n",
            "jogging\n",
            "sitting\n",
            "jogging\n",
            "jogging\n",
            "sitting\n",
            "walking\n",
            "jogging\n",
            "walking\n",
            "jogging\n",
            "jogging\n",
            "jogging\n",
            "walking\n",
            "jogging\n",
            "jogging\n",
            "jogging\n",
            "jogging\n",
            "walking\n",
            "sitting\n",
            "walking\n",
            "jogging\n",
            "walking\n",
            "sitting\n",
            "walking\n",
            "sitting\n",
            "jogging\n",
            "walking\n",
            "sitting\n",
            "walking\n",
            "jogging\n",
            "sitting\n",
            "walking\n",
            "walking\n",
            "sitting\n",
            "jogging\n",
            "walking\n",
            "sitting\n",
            "jogging\n",
            "sitting\n",
            "jogging\n",
            "walking\n",
            "jogging\n",
            "walking\n",
            "jogging\n",
            "walking\n",
            "jogging\n",
            "sitting\n",
            "walking\n",
            "walking\n",
            "sitting\n",
            "walking\n",
            "jogging\n",
            "sitting\n",
            "sitting\n",
            "jogging\n",
            "walking\n",
            "jogging\n",
            "jogging\n",
            "sitting\n",
            "sitting\n",
            "sitting\n",
            "jogging\n",
            "sitting\n",
            "jogging\n",
            "walking\n",
            "sitting\n",
            "sitting\n",
            "jogging\n",
            "jogging\n",
            "sitting\n",
            "sitting\n",
            "walking\n",
            "walking\n",
            "walking\n",
            "sitting\n",
            "sitting\n",
            "sitting\n",
            "jogging\n",
            "sitting\n",
            "sitting\n",
            "sitting\n",
            "walking\n",
            "walking\n",
            "jogging\n",
            "jogging\n",
            "jogging\n",
            "jogging\n",
            "sitting\n",
            "jogging\n",
            "walking\n",
            "walking\n",
            "sitting\n",
            "sitting\n",
            "jogging\n",
            "walking\n",
            "walking\n",
            "walking\n",
            "sitting\n",
            "walking\n",
            "sitting\n",
            "jogging\n",
            "walking\n",
            "jogging\n",
            "jogging\n",
            "jogging\n",
            "sitting\n",
            "walking\n",
            "walking\n",
            "sitting\n",
            "walking\n",
            "sitting\n",
            "jogging\n",
            "jogging\n",
            "jogging\n",
            "jogging\n",
            "jogging\n",
            "jogging\n",
            "walking\n",
            "sitting\n",
            "walking\n",
            "walking\n",
            "sitting\n",
            "jogging\n",
            "sitting\n",
            "jogging\n",
            "jogging\n",
            "jogging\n",
            "walking\n",
            "walking\n",
            "walking\n",
            "jogging\n",
            "jogging\n",
            "jogging\n",
            "sitting\n",
            "jogging\n",
            "jogging\n",
            "sitting\n",
            "jogging\n",
            "sitting\n",
            "walking\n",
            "jogging\n",
            "sitting\n",
            "jogging\n",
            "jogging\n",
            "jogging\n",
            "sitting\n",
            "walking\n",
            "walking\n",
            "walking\n",
            "jogging\n",
            "walking\n",
            "jogging\n",
            "jogging\n",
            "walking\n",
            "jogging\n",
            "walking\n",
            "jogging\n",
            "walking\n",
            "walking\n",
            "sitting\n",
            "walking\n",
            "walking\n",
            "jogging\n",
            "jogging\n",
            "walking\n",
            "walking\n",
            "sitting\n",
            "walking\n",
            "jogging\n",
            "walking\n",
            "walking\n",
            "walking\n",
            "sitting\n",
            "sitting\n",
            "jogging\n",
            "sitting\n",
            "walking\n",
            "jogging\n",
            "jogging\n",
            "sitting\n",
            "walking\n",
            "sitting\n",
            "jogging\n",
            "walking\n",
            "jogging\n",
            "walking\n",
            "walking\n",
            "sitting\n",
            "sitting\n",
            "jogging\n",
            "sitting\n",
            "jogging\n",
            "jogging\n",
            "jogging\n",
            "sitting\n",
            "jogging\n",
            "walking\n",
            "sitting\n",
            "jogging\n",
            "sitting\n",
            "sitting\n",
            "walking\n",
            "walking\n",
            "jogging\n",
            "walking\n",
            "sitting\n",
            "sitting\n",
            "walking\n",
            "jogging\n",
            "jogging\n",
            "walking\n",
            "sitting\n",
            "sitting\n",
            "walking\n",
            "walking\n",
            "jogging\n",
            "walking\n",
            "sitting\n",
            "sitting\n",
            "jogging\n",
            "sitting\n",
            "sitting\n",
            "sitting\n",
            "sitting\n",
            "jogging\n",
            "walking\n",
            "walking\n",
            "sitting\n",
            "jogging\n",
            "sitting\n",
            "jogging\n",
            "walking\n",
            "sitting\n",
            "walking\n",
            "sitting\n"
          ]
        }
      ]
    },
    {
      "cell_type": "code",
      "source": [
        "print(y)"
      ],
      "metadata": {
        "colab": {
          "base_uri": "https://localhost:8080/"
        },
        "id": "sqwgVuAkVLmr",
        "outputId": "5bd56441-7722-40b4-a959-180304c6a151"
      },
      "execution_count": null,
      "outputs": [
        {
          "output_type": "stream",
          "name": "stdout",
          "text": [
            "[[5.2556084e-07 3.6291010e-09 9.9999952e-01]\n",
            " [3.5508529e-10 1.0000000e+00 5.4796161e-14]\n",
            " [7.4221525e-11 1.0000000e+00 1.8720709e-14]\n",
            " [9.9999988e-01 7.2797324e-11 1.6357477e-07]\n",
            " [2.6750038e-09 1.0000000e+00 1.3695481e-13]\n",
            " [7.1869705e-10 1.0000000e+00 3.1831788e-12]\n",
            " [2.6198566e-11 1.0000000e+00 6.6672864e-15]\n",
            " [1.1611616e-09 1.0000000e+00 3.5045453e-11]\n",
            " [9.9999988e-01 1.7881048e-10 1.6992708e-07]\n",
            " [6.9580456e-05 1.3325486e-05 9.9991703e-01]\n",
            " [1.0271690e-05 3.9885242e-09 9.9998975e-01]\n",
            " [7.7782331e-10 1.0000000e+00 2.4093891e-12]\n",
            " [9.9999952e-01 4.3915788e-10 5.2761430e-07]\n",
            " [1.8571934e-11 1.0000000e+00 8.7766962e-15]\n",
            " [9.9999988e-01 4.9066246e-10 1.3289430e-07]\n",
            " [7.9610618e-06 2.1998601e-09 9.9999201e-01]\n",
            " [1.8425280e-09 1.0000000e+00 6.9156434e-12]\n",
            " [4.2245225e-07 3.2819711e-10 9.9999952e-01]\n",
            " [2.7552335e-11 1.0000000e+00 6.8101042e-15]\n",
            " [3.3602721e-09 1.0000000e+00 9.6857994e-14]]\n"
          ]
        }
      ]
    },
    {
      "cell_type": "code",
      "source": [
        "r = y[0]\n",
        "a = \"jogging\"\n",
        "b = \"sitting\"\n",
        "c = \"walking\"\n",
        "\n",
        "if r[0] > r[1]:\n",
        "  if r[0] > r[2]:\n",
        "    print(a) \n",
        "  else:\n",
        "    print(c)\n",
        "else:\n",
        "  if r[1] > r[2]:\n",
        "    print(b)\n",
        "  else:\n",
        "    print(c)"
      ],
      "metadata": {
        "colab": {
          "base_uri": "https://localhost:8080/"
        },
        "id": "BNJUAcxWVngP",
        "outputId": "b67f2a76-09fd-461f-ae79-96af347934e4"
      },
      "execution_count": null,
      "outputs": [
        {
          "output_type": "stream",
          "name": "stdout",
          "text": [
            "walking\n"
          ]
        }
      ]
    },
    {
      "cell_type": "code",
      "source": [
        "for i in range(0,19):\n",
        "  r = y[i]\n",
        "  a = \"jogging\"\n",
        "  b = \"sitting\"\n",
        "  c = \"walking\"\n",
        "\n",
        "  if r[0] > r[1]:\n",
        "    if r[0] > r[2]:\n",
        "      print(a) \n",
        "    else:\n",
        "      print(c)\n",
        "  else:\n",
        "    if r[1] > r[2]:\n",
        "      print(b)\n",
        "    else:\n",
        "      print(c)"
      ],
      "metadata": {
        "colab": {
          "base_uri": "https://localhost:8080/"
        },
        "id": "VLjF-UZwbsXZ",
        "outputId": "5beb0102-5f1a-4246-9643-5556cf0659c8"
      },
      "execution_count": null,
      "outputs": [
        {
          "output_type": "stream",
          "name": "stdout",
          "text": [
            "walking\n",
            "sitting\n",
            "sitting\n",
            "jogging\n",
            "sitting\n",
            "sitting\n",
            "sitting\n",
            "sitting\n",
            "jogging\n",
            "walking\n",
            "walking\n",
            "sitting\n",
            "jogging\n",
            "sitting\n",
            "jogging\n",
            "walking\n",
            "sitting\n",
            "walking\n",
            "sitting\n"
          ]
        }
      ]
    },
    {
      "cell_type": "code",
      "source": [
        "for i in range(0,20):\n",
        "  print(i)"
      ],
      "metadata": {
        "colab": {
          "base_uri": "https://localhost:8080/"
        },
        "id": "ACiy96y1Ba5Q",
        "outputId": "c65bd863-aa22-4ae9-9907-7832ed51a8da"
      },
      "execution_count": null,
      "outputs": [
        {
          "output_type": "stream",
          "name": "stdout",
          "text": [
            "0\n",
            "1\n",
            "2\n",
            "3\n",
            "4\n",
            "5\n",
            "6\n",
            "7\n",
            "8\n",
            "9\n",
            "10\n",
            "11\n",
            "12\n",
            "13\n",
            "14\n",
            "15\n",
            "16\n",
            "17\n",
            "18\n",
            "19\n"
          ]
        }
      ]
    },
    {
      "cell_type": "code",
      "source": [
        "print(x)"
      ],
      "metadata": {
        "id": "W65KTEsJBkEY"
      },
      "execution_count": null,
      "outputs": []
    },
    {
      "cell_type": "code",
      "execution_count": null,
      "metadata": {
        "id": "He0eVHfGspJb"
      },
      "outputs": [],
      "source": [
        "#Load partly trained model\n",
        "from keras.models import load_model\n",
        "model3 = load_model('model.h5')\n"
      ]
    },
    {
      "cell_type": "code",
      "execution_count": null,
      "metadata": {
        "id": "xMDuM7brs9Tm"
      },
      "outputs": [],
      "source": [
        "# prepare callbacks\n",
        "from keras.callbacks import ModelCheckpoint\n",
        "\n",
        "callbacks= [ModelCheckpoint('model1.h5', save_weights_only=False, save_best_only=True, verbose=1)]"
      ]
    },
    {
      "cell_type": "code",
      "execution_count": null,
      "metadata": {
        "colab": {
          "base_uri": "https://localhost:8080/"
        },
        "id": "5LMZDW5HtEki",
        "outputId": "dcea3829-17a0-4afa-f62c-038798dee420"
      },
      "outputs": [
        {
          "name": "stdout",
          "output_type": "stream",
          "text": [
            "Epoch 1/20\n",
            "287/287 [==============================] - ETA: 0s - loss: 0.4680 - accuracy: 0.6690\n",
            "Epoch 1: val_loss improved from inf to 0.39452, saving model to model1.h5\n",
            "287/287 [==============================] - 282s 975ms/step - loss: 0.4680 - accuracy: 0.6690 - val_loss: 0.3945 - val_accuracy: 0.7778\n",
            "Epoch 2/20\n",
            "287/287 [==============================] - ETA: 0s - loss: 0.4697 - accuracy: 0.6655\n",
            "Epoch 2: val_loss did not improve from 0.39452\n",
            "287/287 [==============================] - 270s 940ms/step - loss: 0.4697 - accuracy: 0.6655 - val_loss: 0.4001 - val_accuracy: 0.7917\n",
            "Epoch 3/20\n",
            "287/287 [==============================] - ETA: 0s - loss: 0.4650 - accuracy: 0.6829\n",
            "Epoch 3: val_loss improved from 0.39452 to 0.39052, saving model to model1.h5\n",
            "287/287 [==============================] - 266s 929ms/step - loss: 0.4650 - accuracy: 0.6829 - val_loss: 0.3905 - val_accuracy: 0.7778\n",
            "Epoch 4/20\n",
            "287/287 [==============================] - ETA: 0s - loss: 0.4647 - accuracy: 0.6934\n",
            "Epoch 4: val_loss did not improve from 0.39052\n",
            "287/287 [==============================] - 269s 937ms/step - loss: 0.4647 - accuracy: 0.6934 - val_loss: 0.3910 - val_accuracy: 0.7917\n",
            "Epoch 5/20\n",
            "287/287 [==============================] - ETA: 0s - loss: 0.4668 - accuracy: 0.6446\n",
            "Epoch 5: val_loss did not improve from 0.39052\n",
            "287/287 [==============================] - 268s 935ms/step - loss: 0.4668 - accuracy: 0.6446 - val_loss: 0.3988 - val_accuracy: 0.6528\n",
            "Epoch 6/20\n",
            "287/287 [==============================] - ETA: 0s - loss: 0.4569 - accuracy: 0.7073\n",
            "Epoch 6: val_loss improved from 0.39052 to 0.38930, saving model to model1.h5\n",
            "287/287 [==============================] - 272s 948ms/step - loss: 0.4569 - accuracy: 0.7073 - val_loss: 0.3893 - val_accuracy: 0.7778\n",
            "Epoch 7/20\n",
            "287/287 [==============================] - ETA: 0s - loss: 0.4638 - accuracy: 0.6969\n",
            "Epoch 7: val_loss did not improve from 0.38930\n",
            "287/287 [==============================] - 271s 945ms/step - loss: 0.4638 - accuracy: 0.6969 - val_loss: 0.4399 - val_accuracy: 0.6528\n",
            "Epoch 8/20\n",
            "287/287 [==============================] - ETA: 0s - loss: 0.4635 - accuracy: 0.6516\n",
            "Epoch 8: val_loss did not improve from 0.38930\n",
            "287/287 [==============================] - 273s 951ms/step - loss: 0.4635 - accuracy: 0.6516 - val_loss: 0.3933 - val_accuracy: 0.7917\n",
            "Epoch 9/20\n",
            "287/287 [==============================] - ETA: 0s - loss: 0.4643 - accuracy: 0.6899\n",
            "Epoch 9: val_loss did not improve from 0.38930\n",
            "287/287 [==============================] - 271s 946ms/step - loss: 0.4643 - accuracy: 0.6899 - val_loss: 0.4108 - val_accuracy: 0.6528\n",
            "Epoch 10/20\n",
            "287/287 [==============================] - ETA: 0s - loss: 0.4611 - accuracy: 0.6864\n",
            "Epoch 10: val_loss improved from 0.38930 to 0.38731, saving model to model1.h5\n",
            "287/287 [==============================] - 267s 932ms/step - loss: 0.4611 - accuracy: 0.6864 - val_loss: 0.3873 - val_accuracy: 0.7778\n",
            "Epoch 11/20\n",
            "287/287 [==============================] - ETA: 0s - loss: 0.4712 - accuracy: 0.6655\n",
            "Epoch 11: val_loss did not improve from 0.38731\n",
            "287/287 [==============================] - 268s 934ms/step - loss: 0.4712 - accuracy: 0.6655 - val_loss: 0.4012 - val_accuracy: 0.6528\n",
            "Epoch 12/20\n",
            "287/287 [==============================] - ETA: 0s - loss: 0.4594 - accuracy: 0.7143\n",
            "Epoch 12: val_loss did not improve from 0.38731\n",
            "287/287 [==============================] - 270s 940ms/step - loss: 0.4594 - accuracy: 0.7143 - val_loss: 0.4858 - val_accuracy: 0.6528\n",
            "Epoch 13/20\n",
            "287/287 [==============================] - ETA: 0s - loss: 0.4695 - accuracy: 0.6794\n",
            "Epoch 13: val_loss did not improve from 0.38731\n",
            "287/287 [==============================] - 269s 938ms/step - loss: 0.4695 - accuracy: 0.6794 - val_loss: 0.3905 - val_accuracy: 0.8056\n",
            "Epoch 14/20\n",
            "287/287 [==============================] - ETA: 0s - loss: 0.4646 - accuracy: 0.6655\n",
            "Epoch 14: val_loss did not improve from 0.38731\n",
            "287/287 [==============================] - 271s 944ms/step - loss: 0.4646 - accuracy: 0.6655 - val_loss: 0.3905 - val_accuracy: 0.7778\n",
            "Epoch 15/20\n",
            "287/287 [==============================] - ETA: 0s - loss: 0.4653 - accuracy: 0.6655\n",
            "Epoch 15: val_loss did not improve from 0.38731\n",
            "287/287 [==============================] - 270s 941ms/step - loss: 0.4653 - accuracy: 0.6655 - val_loss: 0.4684 - val_accuracy: 0.6528\n",
            "Epoch 16/20\n",
            "287/287 [==============================] - ETA: 0s - loss: 0.4657 - accuracy: 0.6655\n",
            "Epoch 16: val_loss did not improve from 0.38731\n",
            "287/287 [==============================] - 267s 931ms/step - loss: 0.4657 - accuracy: 0.6655 - val_loss: 0.4035 - val_accuracy: 0.6528\n",
            "Epoch 17/20\n",
            "287/287 [==============================] - ETA: 0s - loss: 0.4628 - accuracy: 0.6969\n",
            "Epoch 17: val_loss did not improve from 0.38731\n",
            "287/287 [==============================] - 267s 930ms/step - loss: 0.4628 - accuracy: 0.6969 - val_loss: 0.4188 - val_accuracy: 0.6528\n",
            "Epoch 18/20\n",
            "287/287 [==============================] - ETA: 0s - loss: 0.4640 - accuracy: 0.6551\n",
            "Epoch 18: val_loss did not improve from 0.38731\n",
            "287/287 [==============================] - 269s 938ms/step - loss: 0.4640 - accuracy: 0.6551 - val_loss: 0.4115 - val_accuracy: 0.6528\n",
            "Epoch 19/20\n",
            "287/287 [==============================] - ETA: 0s - loss: 0.4583 - accuracy: 0.7213\n",
            "Epoch 19: val_loss improved from 0.38731 to 0.38317, saving model to model1.h5\n",
            "287/287 [==============================] - 269s 939ms/step - loss: 0.4583 - accuracy: 0.7213 - val_loss: 0.3832 - val_accuracy: 0.7778\n",
            "Epoch 20/20\n",
            "287/287 [==============================] - ETA: 0s - loss: 0.4705 - accuracy: 0.6760\n",
            "Epoch 20: val_loss did not improve from 0.38317\n",
            "287/287 [==============================] - 270s 940ms/step - loss: 0.4705 - accuracy: 0.6760 - val_loss: 0.3970 - val_accuracy: 0.8056\n"
          ]
        }
      ],
      "source": [
        "history = model3.fit(X_train1, y_train1, epochs=20, validation_data=(X_test1,y_test1), batch_size=1, verbose=1,callbacks=callbacks)"
      ]
    },
    {
      "cell_type": "code",
      "execution_count": null,
      "metadata": {
        "colab": {
          "base_uri": "https://localhost:8080/"
        },
        "id": "uU-mm3CMbR8G",
        "outputId": "4ea4d7ef-897a-4b0d-aa83-355cf5ddf9c1"
      },
      "outputs": [
        {
          "name": "stdout",
          "output_type": "stream",
          "text": [
            "Epoch 1/5\n",
            "6/6 [==============================] - 78s 13s/step - loss: 1.2621 - accuracy: 0.3380 - val_loss: 1.2842 - val_accuracy: 0.2500\n",
            "Epoch 2/5\n",
            "6/6 [==============================] - 74s 12s/step - loss: 1.1638 - accuracy: 0.3589 - val_loss: 1.1823 - val_accuracy: 0.2500\n",
            "Epoch 3/5\n",
            "6/6 [==============================] - 73s 12s/step - loss: 1.1202 - accuracy: 0.3275 - val_loss: 1.1433 - val_accuracy: 0.2500\n",
            "Epoch 4/5\n",
            "6/6 [==============================] - 72s 12s/step - loss: 1.1049 - accuracy: 0.3310 - val_loss: 1.1281 - val_accuracy: 0.2500\n",
            "Epoch 5/5\n",
            "6/6 [==============================] - 73s 12s/step - loss: 1.0994 - accuracy: 0.3554 - val_loss: 1.1176 - val_accuracy: 0.2500\n"
          ]
        }
      ],
      "source": [
        "history = model.fit(X_train1, y_train1, epochs=5, validation_data=(X_test1,y_test1), batch_size=50, verbose=1)"
      ]
    },
    {
      "cell_type": "code",
      "execution_count": null,
      "metadata": {
        "id": "EgGdsonZXRWd"
      },
      "outputs": [],
      "source": [
        "X_train = df3[df3.columns[:6]]\n",
        "y_train = df3[df3.columns[6:7]]"
      ]
    },
    {
      "cell_type": "code",
      "execution_count": null,
      "metadata": {
        "colab": {
          "base_uri": "https://localhost:8080/",
          "height": 424
        },
        "id": "UYVi0jasXRYR",
        "outputId": "6a43de22-87f2-4250-bcc6-bf4e01cdb7cb"
      },
      "outputs": [
        {
          "data": {
            "text/html": [
              "\n",
              "  <div id=\"df-9fcb40ad-cff7-4396-8f75-ceba03c9d4b8\">\n",
              "    <div class=\"colab-df-container\">\n",
              "      <div>\n",
              "<style scoped>\n",
              "    .dataframe tbody tr th:only-of-type {\n",
              "        vertical-align: middle;\n",
              "    }\n",
              "\n",
              "    .dataframe tbody tr th {\n",
              "        vertical-align: top;\n",
              "    }\n",
              "\n",
              "    .dataframe thead th {\n",
              "        text-align: right;\n",
              "    }\n",
              "</style>\n",
              "<table border=\"1\" class=\"dataframe\">\n",
              "  <thead>\n",
              "    <tr style=\"text-align: right;\">\n",
              "      <th></th>\n",
              "      <th>Ax</th>\n",
              "      <th>Ay</th>\n",
              "      <th>Az</th>\n",
              "      <th>Gx</th>\n",
              "      <th>Gy</th>\n",
              "      <th>Gz</th>\n",
              "    </tr>\n",
              "  </thead>\n",
              "  <tbody>\n",
              "    <tr>\n",
              "      <th>0</th>\n",
              "      <td>4.590100</td>\n",
              "      <td>-2.04310</td>\n",
              "      <td>2.65600</td>\n",
              "      <td>0.474950</td>\n",
              "      <td>-1.232700</td>\n",
              "      <td>-0.118810</td>\n",
              "    </tr>\n",
              "    <tr>\n",
              "      <th>1</th>\n",
              "      <td>3.732000</td>\n",
              "      <td>-2.45170</td>\n",
              "      <td>1.93410</td>\n",
              "      <td>1.841800</td>\n",
              "      <td>-0.697000</td>\n",
              "      <td>-0.845740</td>\n",
              "    </tr>\n",
              "    <tr>\n",
              "      <th>2</th>\n",
              "      <td>0.054481</td>\n",
              "      <td>-8.96220</td>\n",
              "      <td>4.15420</td>\n",
              "      <td>2.296500</td>\n",
              "      <td>-2.211000</td>\n",
              "      <td>-0.991430</td>\n",
              "    </tr>\n",
              "    <tr>\n",
              "      <th>3</th>\n",
              "      <td>-6.565000</td>\n",
              "      <td>-18.67300</td>\n",
              "      <td>7.54570</td>\n",
              "      <td>3.266300</td>\n",
              "      <td>-4.126700</td>\n",
              "      <td>0.054978</td>\n",
              "    </tr>\n",
              "    <tr>\n",
              "      <th>4</th>\n",
              "      <td>-2.029400</td>\n",
              "      <td>-11.19600</td>\n",
              "      <td>-0.84446</td>\n",
              "      <td>3.288900</td>\n",
              "      <td>-3.472500</td>\n",
              "      <td>0.760220</td>\n",
              "    </tr>\n",
              "    <tr>\n",
              "      <th>...</th>\n",
              "      <td>...</td>\n",
              "      <td>...</td>\n",
              "      <td>...</td>\n",
              "      <td>...</td>\n",
              "      <td>...</td>\n",
              "      <td>...</td>\n",
              "    </tr>\n",
              "    <tr>\n",
              "      <th>539995</th>\n",
              "      <td>-2.220100</td>\n",
              "      <td>-0.96704</td>\n",
              "      <td>-9.47980</td>\n",
              "      <td>0.013744</td>\n",
              "      <td>0.019242</td>\n",
              "      <td>0.003665</td>\n",
              "    </tr>\n",
              "    <tr>\n",
              "      <th>539996</th>\n",
              "      <td>-2.192900</td>\n",
              "      <td>-1.00790</td>\n",
              "      <td>-9.49340</td>\n",
              "      <td>0.016493</td>\n",
              "      <td>0.025351</td>\n",
              "      <td>0.004276</td>\n",
              "    </tr>\n",
              "    <tr>\n",
              "      <th>539997</th>\n",
              "      <td>-2.220100</td>\n",
              "      <td>-1.00790</td>\n",
              "      <td>-9.47980</td>\n",
              "      <td>0.015882</td>\n",
              "      <td>0.021686</td>\n",
              "      <td>0.004276</td>\n",
              "    </tr>\n",
              "    <tr>\n",
              "      <th>539998</th>\n",
              "      <td>-2.220100</td>\n",
              "      <td>-0.95342</td>\n",
              "      <td>-9.54790</td>\n",
              "      <td>0.010996</td>\n",
              "      <td>0.023518</td>\n",
              "      <td>0.004276</td>\n",
              "    </tr>\n",
              "    <tr>\n",
              "      <th>539999</th>\n",
              "      <td>-2.247400</td>\n",
              "      <td>-0.99429</td>\n",
              "      <td>-9.57510</td>\n",
              "      <td>0.013439</td>\n",
              "      <td>0.028100</td>\n",
              "      <td>-0.000916</td>\n",
              "    </tr>\n",
              "  </tbody>\n",
              "</table>\n",
              "<p>540000 rows × 6 columns</p>\n",
              "</div>\n",
              "      <button class=\"colab-df-convert\" onclick=\"convertToInteractive('df-9fcb40ad-cff7-4396-8f75-ceba03c9d4b8')\"\n",
              "              title=\"Convert this dataframe to an interactive table.\"\n",
              "              style=\"display:none;\">\n",
              "        \n",
              "  <svg xmlns=\"http://www.w3.org/2000/svg\" height=\"24px\"viewBox=\"0 0 24 24\"\n",
              "       width=\"24px\">\n",
              "    <path d=\"M0 0h24v24H0V0z\" fill=\"none\"/>\n",
              "    <path d=\"M18.56 5.44l.94 2.06.94-2.06 2.06-.94-2.06-.94-.94-2.06-.94 2.06-2.06.94zm-11 1L8.5 8.5l.94-2.06 2.06-.94-2.06-.94L8.5 2.5l-.94 2.06-2.06.94zm10 10l.94 2.06.94-2.06 2.06-.94-2.06-.94-.94-2.06-.94 2.06-2.06.94z\"/><path d=\"M17.41 7.96l-1.37-1.37c-.4-.4-.92-.59-1.43-.59-.52 0-1.04.2-1.43.59L10.3 9.45l-7.72 7.72c-.78.78-.78 2.05 0 2.83L4 21.41c.39.39.9.59 1.41.59.51 0 1.02-.2 1.41-.59l7.78-7.78 2.81-2.81c.8-.78.8-2.07 0-2.86zM5.41 20L4 18.59l7.72-7.72 1.47 1.35L5.41 20z\"/>\n",
              "  </svg>\n",
              "      </button>\n",
              "      \n",
              "  <style>\n",
              "    .colab-df-container {\n",
              "      display:flex;\n",
              "      flex-wrap:wrap;\n",
              "      gap: 12px;\n",
              "    }\n",
              "\n",
              "    .colab-df-convert {\n",
              "      background-color: #E8F0FE;\n",
              "      border: none;\n",
              "      border-radius: 50%;\n",
              "      cursor: pointer;\n",
              "      display: none;\n",
              "      fill: #1967D2;\n",
              "      height: 32px;\n",
              "      padding: 0 0 0 0;\n",
              "      width: 32px;\n",
              "    }\n",
              "\n",
              "    .colab-df-convert:hover {\n",
              "      background-color: #E2EBFA;\n",
              "      box-shadow: 0px 1px 2px rgba(60, 64, 67, 0.3), 0px 1px 3px 1px rgba(60, 64, 67, 0.15);\n",
              "      fill: #174EA6;\n",
              "    }\n",
              "\n",
              "    [theme=dark] .colab-df-convert {\n",
              "      background-color: #3B4455;\n",
              "      fill: #D2E3FC;\n",
              "    }\n",
              "\n",
              "    [theme=dark] .colab-df-convert:hover {\n",
              "      background-color: #434B5C;\n",
              "      box-shadow: 0px 1px 3px 1px rgba(0, 0, 0, 0.15);\n",
              "      filter: drop-shadow(0px 1px 2px rgba(0, 0, 0, 0.3));\n",
              "      fill: #FFFFFF;\n",
              "    }\n",
              "  </style>\n",
              "\n",
              "      <script>\n",
              "        const buttonEl =\n",
              "          document.querySelector('#df-9fcb40ad-cff7-4396-8f75-ceba03c9d4b8 button.colab-df-convert');\n",
              "        buttonEl.style.display =\n",
              "          google.colab.kernel.accessAllowed ? 'block' : 'none';\n",
              "\n",
              "        async function convertToInteractive(key) {\n",
              "          const element = document.querySelector('#df-9fcb40ad-cff7-4396-8f75-ceba03c9d4b8');\n",
              "          const dataTable =\n",
              "            await google.colab.kernel.invokeFunction('convertToInteractive',\n",
              "                                                     [key], {});\n",
              "          if (!dataTable) return;\n",
              "\n",
              "          const docLinkHtml = 'Like what you see? Visit the ' +\n",
              "            '<a target=\"_blank\" href=https://colab.research.google.com/notebooks/data_table.ipynb>data table notebook</a>'\n",
              "            + ' to learn more about interactive tables.';\n",
              "          element.innerHTML = '';\n",
              "          dataTable['output_type'] = 'display_data';\n",
              "          await google.colab.output.renderOutput(dataTable, element);\n",
              "          const docLink = document.createElement('div');\n",
              "          docLink.innerHTML = docLinkHtml;\n",
              "          element.appendChild(docLink);\n",
              "        }\n",
              "      </script>\n",
              "    </div>\n",
              "  </div>\n",
              "  "
            ],
            "text/plain": [
              "              Ax        Ay       Az        Gx        Gy        Gz\n",
              "0       4.590100  -2.04310  2.65600  0.474950 -1.232700 -0.118810\n",
              "1       3.732000  -2.45170  1.93410  1.841800 -0.697000 -0.845740\n",
              "2       0.054481  -8.96220  4.15420  2.296500 -2.211000 -0.991430\n",
              "3      -6.565000 -18.67300  7.54570  3.266300 -4.126700  0.054978\n",
              "4      -2.029400 -11.19600 -0.84446  3.288900 -3.472500  0.760220\n",
              "...          ...       ...      ...       ...       ...       ...\n",
              "539995 -2.220100  -0.96704 -9.47980  0.013744  0.019242  0.003665\n",
              "539996 -2.192900  -1.00790 -9.49340  0.016493  0.025351  0.004276\n",
              "539997 -2.220100  -1.00790 -9.47980  0.015882  0.021686  0.004276\n",
              "539998 -2.220100  -0.95342 -9.54790  0.010996  0.023518  0.004276\n",
              "539999 -2.247400  -0.99429 -9.57510  0.013439  0.028100 -0.000916\n",
              "\n",
              "[540000 rows x 6 columns]"
            ]
          },
          "execution_count": 36,
          "metadata": {},
          "output_type": "execute_result"
        }
      ],
      "source": [
        "X_train"
      ]
    },
    {
      "cell_type": "code",
      "execution_count": null,
      "metadata": {
        "colab": {
          "base_uri": "https://localhost:8080/",
          "height": 424
        },
        "id": "Xj9ErGryXRaG",
        "outputId": "824ef820-6c13-47fd-fffa-28717dd116d7"
      },
      "outputs": [
        {
          "data": {
            "text/html": [
              "\n",
              "  <div id=\"df-74985363-9ee1-4297-9379-8debf5446c1e\">\n",
              "    <div class=\"colab-df-container\">\n",
              "      <div>\n",
              "<style scoped>\n",
              "    .dataframe tbody tr th:only-of-type {\n",
              "        vertical-align: middle;\n",
              "    }\n",
              "\n",
              "    .dataframe tbody tr th {\n",
              "        vertical-align: top;\n",
              "    }\n",
              "\n",
              "    .dataframe thead th {\n",
              "        text-align: right;\n",
              "    }\n",
              "</style>\n",
              "<table border=\"1\" class=\"dataframe\">\n",
              "  <thead>\n",
              "    <tr style=\"text-align: right;\">\n",
              "      <th></th>\n",
              "      <th>Activity</th>\n",
              "    </tr>\n",
              "  </thead>\n",
              "  <tbody>\n",
              "    <tr>\n",
              "      <th>0</th>\n",
              "      <td>walking</td>\n",
              "    </tr>\n",
              "    <tr>\n",
              "      <th>1</th>\n",
              "      <td>walking</td>\n",
              "    </tr>\n",
              "    <tr>\n",
              "      <th>2</th>\n",
              "      <td>walking</td>\n",
              "    </tr>\n",
              "    <tr>\n",
              "      <th>3</th>\n",
              "      <td>walking</td>\n",
              "    </tr>\n",
              "    <tr>\n",
              "      <th>4</th>\n",
              "      <td>walking</td>\n",
              "    </tr>\n",
              "    <tr>\n",
              "      <th>...</th>\n",
              "      <td>...</td>\n",
              "    </tr>\n",
              "    <tr>\n",
              "      <th>539995</th>\n",
              "      <td>sitting</td>\n",
              "    </tr>\n",
              "    <tr>\n",
              "      <th>539996</th>\n",
              "      <td>sitting</td>\n",
              "    </tr>\n",
              "    <tr>\n",
              "      <th>539997</th>\n",
              "      <td>sitting</td>\n",
              "    </tr>\n",
              "    <tr>\n",
              "      <th>539998</th>\n",
              "      <td>sitting</td>\n",
              "    </tr>\n",
              "    <tr>\n",
              "      <th>539999</th>\n",
              "      <td>sitting</td>\n",
              "    </tr>\n",
              "  </tbody>\n",
              "</table>\n",
              "<p>540000 rows × 1 columns</p>\n",
              "</div>\n",
              "      <button class=\"colab-df-convert\" onclick=\"convertToInteractive('df-74985363-9ee1-4297-9379-8debf5446c1e')\"\n",
              "              title=\"Convert this dataframe to an interactive table.\"\n",
              "              style=\"display:none;\">\n",
              "        \n",
              "  <svg xmlns=\"http://www.w3.org/2000/svg\" height=\"24px\"viewBox=\"0 0 24 24\"\n",
              "       width=\"24px\">\n",
              "    <path d=\"M0 0h24v24H0V0z\" fill=\"none\"/>\n",
              "    <path d=\"M18.56 5.44l.94 2.06.94-2.06 2.06-.94-2.06-.94-.94-2.06-.94 2.06-2.06.94zm-11 1L8.5 8.5l.94-2.06 2.06-.94-2.06-.94L8.5 2.5l-.94 2.06-2.06.94zm10 10l.94 2.06.94-2.06 2.06-.94-2.06-.94-.94-2.06-.94 2.06-2.06.94z\"/><path d=\"M17.41 7.96l-1.37-1.37c-.4-.4-.92-.59-1.43-.59-.52 0-1.04.2-1.43.59L10.3 9.45l-7.72 7.72c-.78.78-.78 2.05 0 2.83L4 21.41c.39.39.9.59 1.41.59.51 0 1.02-.2 1.41-.59l7.78-7.78 2.81-2.81c.8-.78.8-2.07 0-2.86zM5.41 20L4 18.59l7.72-7.72 1.47 1.35L5.41 20z\"/>\n",
              "  </svg>\n",
              "      </button>\n",
              "      \n",
              "  <style>\n",
              "    .colab-df-container {\n",
              "      display:flex;\n",
              "      flex-wrap:wrap;\n",
              "      gap: 12px;\n",
              "    }\n",
              "\n",
              "    .colab-df-convert {\n",
              "      background-color: #E8F0FE;\n",
              "      border: none;\n",
              "      border-radius: 50%;\n",
              "      cursor: pointer;\n",
              "      display: none;\n",
              "      fill: #1967D2;\n",
              "      height: 32px;\n",
              "      padding: 0 0 0 0;\n",
              "      width: 32px;\n",
              "    }\n",
              "\n",
              "    .colab-df-convert:hover {\n",
              "      background-color: #E2EBFA;\n",
              "      box-shadow: 0px 1px 2px rgba(60, 64, 67, 0.3), 0px 1px 3px 1px rgba(60, 64, 67, 0.15);\n",
              "      fill: #174EA6;\n",
              "    }\n",
              "\n",
              "    [theme=dark] .colab-df-convert {\n",
              "      background-color: #3B4455;\n",
              "      fill: #D2E3FC;\n",
              "    }\n",
              "\n",
              "    [theme=dark] .colab-df-convert:hover {\n",
              "      background-color: #434B5C;\n",
              "      box-shadow: 0px 1px 3px 1px rgba(0, 0, 0, 0.15);\n",
              "      filter: drop-shadow(0px 1px 2px rgba(0, 0, 0, 0.3));\n",
              "      fill: #FFFFFF;\n",
              "    }\n",
              "  </style>\n",
              "\n",
              "      <script>\n",
              "        const buttonEl =\n",
              "          document.querySelector('#df-74985363-9ee1-4297-9379-8debf5446c1e button.colab-df-convert');\n",
              "        buttonEl.style.display =\n",
              "          google.colab.kernel.accessAllowed ? 'block' : 'none';\n",
              "\n",
              "        async function convertToInteractive(key) {\n",
              "          const element = document.querySelector('#df-74985363-9ee1-4297-9379-8debf5446c1e');\n",
              "          const dataTable =\n",
              "            await google.colab.kernel.invokeFunction('convertToInteractive',\n",
              "                                                     [key], {});\n",
              "          if (!dataTable) return;\n",
              "\n",
              "          const docLinkHtml = 'Like what you see? Visit the ' +\n",
              "            '<a target=\"_blank\" href=https://colab.research.google.com/notebooks/data_table.ipynb>data table notebook</a>'\n",
              "            + ' to learn more about interactive tables.';\n",
              "          element.innerHTML = '';\n",
              "          dataTable['output_type'] = 'display_data';\n",
              "          await google.colab.output.renderOutput(dataTable, element);\n",
              "          const docLink = document.createElement('div');\n",
              "          docLink.innerHTML = docLinkHtml;\n",
              "          element.appendChild(docLink);\n",
              "        }\n",
              "      </script>\n",
              "    </div>\n",
              "  </div>\n",
              "  "
            ],
            "text/plain": [
              "       Activity\n",
              "0       walking\n",
              "1       walking\n",
              "2       walking\n",
              "3       walking\n",
              "4       walking\n",
              "...         ...\n",
              "539995  sitting\n",
              "539996  sitting\n",
              "539997  sitting\n",
              "539998  sitting\n",
              "539999  sitting\n",
              "\n",
              "[540000 rows x 1 columns]"
            ]
          },
          "execution_count": 37,
          "metadata": {},
          "output_type": "execute_result"
        }
      ],
      "source": [
        "y_train"
      ]
    },
    {
      "cell_type": "code",
      "execution_count": null,
      "metadata": {
        "colab": {
          "base_uri": "https://localhost:8080/"
        },
        "id": "iMklwJT1XRd7",
        "outputId": "9a0e79ce-b3e0-4ec9-fc3a-b44f2a64f285"
      },
      "outputs": [
        {
          "data": {
            "text/plain": [
              "array(['walking', 'standing', 'sitting'], dtype=object)"
            ]
          },
          "execution_count": 38,
          "metadata": {},
          "output_type": "execute_result"
        }
      ],
      "source": [
        "y_train.Activity.unique()"
      ]
    },
    {
      "cell_type": "code",
      "execution_count": null,
      "metadata": {
        "id": "4E9kVC-1XRg9"
      },
      "outputs": [],
      "source": [
        "Cust_rating = {'sitting':0, 'walking': 1, 'standing': 3}\n"
      ]
    },
    {
      "cell_type": "code",
      "execution_count": null,
      "metadata": {
        "id": "ogVm4COxcaxo"
      },
      "outputs": [],
      "source": [
        "y_train = y_train.Activity.map(Cust_rating)\n"
      ]
    },
    {
      "cell_type": "code",
      "execution_count": null,
      "metadata": {
        "colab": {
          "base_uri": "https://localhost:8080/"
        },
        "id": "Lv11qD5Zca0q",
        "outputId": "2f1a98ef-2261-4907-e763-7a443c9b3c70"
      },
      "outputs": [
        {
          "data": {
            "text/plain": [
              "0         1\n",
              "1         1\n",
              "2         1\n",
              "3         1\n",
              "4         1\n",
              "         ..\n",
              "539995    0\n",
              "539996    0\n",
              "539997    0\n",
              "539998    0\n",
              "539999    0\n",
              "Name: Activity, Length: 540000, dtype: int64"
            ]
          },
          "execution_count": 41,
          "metadata": {},
          "output_type": "execute_result"
        }
      ],
      "source": [
        "y_train"
      ]
    },
    {
      "cell_type": "code",
      "execution_count": null,
      "metadata": {
        "colab": {
          "base_uri": "https://localhost:8080/"
        },
        "id": "YFl9OBUpF-f5",
        "outputId": "39fa6abe-e066-44bb-a02d-84f658c134f7"
      },
      "outputs": [
        {
          "name": "stdout",
          "output_type": "stream",
          "text": [
            "0         1\n",
            "1         1\n",
            "2         1\n",
            "3         1\n",
            "4         1\n",
            "         ..\n",
            "539995    0\n",
            "539996    0\n",
            "539997    0\n",
            "539998    0\n",
            "539999    0\n",
            "Name: Activity, Length: 540000, dtype: int64\n"
          ]
        }
      ],
      "source": [
        "print(y_train)"
      ]
    },
    {
      "cell_type": "code",
      "execution_count": null,
      "metadata": {
        "id": "9Eh6f-Gwca_E"
      },
      "outputs": [],
      "source": [
        "y_train.to_csv('/content/df.csv')"
      ]
    },
    {
      "cell_type": "code",
      "execution_count": null,
      "metadata": {
        "id": "r2TjpvXQqLom"
      },
      "outputs": [],
      "source": [
        "import scipy.stats as stats"
      ]
    },
    {
      "cell_type": "code",
      "execution_count": null,
      "metadata": {
        "id": "HU3oJUubqbkZ"
      },
      "outputs": [],
      "source": [
        "Fs = 50\n",
        "frame_size = Fs*30 # 80\n",
        "hop_size = Fs*30 # 40"
      ]
    },
    {
      "cell_type": "code",
      "execution_count": null,
      "metadata": {
        "id": "2GOXKpf4qOJ8"
      },
      "outputs": [],
      "source": [
        "def get_frames(df, frame_size, hop_size):\n",
        "\n",
        "    N_FEATURES = 6\n",
        "\n",
        "    frames = []\n",
        "    labels = []\n",
        "    for i in range(0, len(df) - frame_size, hop_size):\n",
        "        x = df['Ax'].values[i: i + frame_size]\n",
        "        y = df['Ay'].values[i: i + frame_size]\n",
        "        z = df['Az'].values[i: i + frame_size]\n",
        "        a = df['Gx'].values[i: i + frame_size]\n",
        "        b = df['Gy'].values[i: i + frame_size]\n",
        "        c = df['Gz'].values[i: i + frame_size]\n",
        "         \n",
        "        \n",
        "        # Retrieve the most often used label in this segment\n",
        "        global label\n",
        "        label = stats.mode(df['Activity'][i: i + frame_size])[0][0]\n",
        "        frames.append([x, y, z, a, b, c])\n",
        "        labels.append(label)\n",
        "\n",
        "    # Bring the segments into a better shape\n",
        "    frames = np.asarray(frames).reshape(-1, frame_size, N_FEATURES)\n",
        "    labels = np.asarray(labels)\n",
        "\n",
        "    return frames, labels"
      ]
    },
    {
      "cell_type": "code",
      "execution_count": null,
      "metadata": {
        "id": "HeacIXDjqOTX"
      },
      "outputs": [],
      "source": [
        "X, y = get_frames(df3, frame_size, hop_size)"
      ]
    },
    {
      "cell_type": "code",
      "execution_count": null,
      "metadata": {
        "colab": {
          "base_uri": "https://localhost:8080/"
        },
        "id": "Mhh_o-2nYyly",
        "outputId": "5a6c06e9-1b09-4f30-eb16-2a7e0397a5ce"
      },
      "outputs": [
        {
          "name": "stdout",
          "output_type": "stream",
          "text": [
            "['walking' 'walking' 'walking' 'walking' 'walking' 'walking' 'standing'\n",
            " 'standing' 'standing' 'standing' 'standing' 'standing' 'sitting'\n",
            " 'sitting' 'sitting' 'sitting' 'sitting' 'sitting' 'walking' 'walking'\n",
            " 'walking' 'walking' 'walking' 'walking' 'standing' 'standing' 'standing'\n",
            " 'standing' 'standing' 'standing' 'sitting' 'sitting' 'sitting' 'sitting'\n",
            " 'sitting' 'sitting' 'walking' 'walking' 'walking' 'walking' 'walking'\n",
            " 'walking' 'standing' 'standing' 'standing' 'standing' 'standing'\n",
            " 'standing' 'sitting' 'sitting' 'sitting' 'sitting' 'sitting' 'sitting'\n",
            " 'walking' 'walking' 'walking' 'walking' 'walking' 'walking' 'standing'\n",
            " 'standing' 'standing' 'standing' 'standing' 'standing' 'sitting'\n",
            " 'sitting' 'sitting' 'sitting' 'sitting' 'sitting' 'walking' 'walking'\n",
            " 'walking' 'walking' 'walking' 'walking' 'standing' 'standing' 'standing'\n",
            " 'standing' 'standing' 'standing' 'sitting' 'sitting' 'sitting' 'sitting'\n",
            " 'sitting' 'sitting' 'walking' 'walking' 'walking' 'walking' 'walking'\n",
            " 'walking' 'standing' 'standing' 'standing' 'standing' 'standing'\n",
            " 'standing' 'sitting' 'sitting' 'sitting' 'sitting' 'sitting' 'sitting'\n",
            " 'walking' 'walking' 'walking' 'walking' 'walking' 'walking' 'standing'\n",
            " 'standing' 'standing' 'standing' 'standing' 'standing' 'sitting'\n",
            " 'sitting' 'sitting' 'sitting' 'sitting' 'sitting' 'walking' 'walking'\n",
            " 'walking' 'walking' 'walking' 'walking' 'standing' 'standing' 'standing'\n",
            " 'standing' 'standing' 'standing' 'sitting' 'sitting' 'sitting' 'sitting'\n",
            " 'sitting' 'sitting' 'walking' 'walking' 'walking' 'walking' 'walking'\n",
            " 'walking' 'standing' 'standing' 'standing' 'standing' 'standing'\n",
            " 'standing' 'sitting' 'sitting' 'sitting' 'sitting' 'sitting' 'sitting'\n",
            " 'walking' 'walking' 'walking' 'walking' 'walking' 'walking' 'standing'\n",
            " 'standing' 'standing' 'standing' 'standing' 'standing' 'sitting'\n",
            " 'sitting' 'sitting' 'sitting' 'sitting' 'sitting' 'walking' 'walking'\n",
            " 'walking' 'walking' 'walking' 'walking' 'standing' 'standing' 'standing'\n",
            " 'standing' 'standing' 'standing' 'sitting' 'sitting' 'sitting' 'sitting'\n",
            " 'sitting' 'sitting' 'walking' 'walking' 'walking' 'walking' 'walking'\n",
            " 'walking' 'standing' 'standing' 'standing' 'standing' 'standing'\n",
            " 'standing' 'sitting' 'sitting' 'sitting' 'sitting' 'sitting' 'sitting'\n",
            " 'walking' 'walking' 'walking' 'walking' 'walking' 'walking' 'standing'\n",
            " 'standing' 'standing' 'standing' 'standing' 'standing' 'sitting'\n",
            " 'sitting' 'sitting' 'sitting' 'sitting' 'sitting' 'walking' 'walking'\n",
            " 'walking' 'walking' 'walking' 'walking' 'standing' 'standing' 'standing'\n",
            " 'standing' 'standing' 'standing' 'sitting' 'sitting' 'sitting' 'sitting'\n",
            " 'sitting' 'sitting' 'walking' 'walking' 'walking' 'walking' 'walking'\n",
            " 'walking' 'standing' 'standing' 'standing' 'standing' 'standing'\n",
            " 'standing' 'sitting' 'sitting' 'sitting' 'sitting' 'sitting' 'sitting'\n",
            " 'walking' 'walking' 'walking' 'walking' 'walking' 'walking' 'standing'\n",
            " 'standing' 'standing' 'standing' 'standing' 'standing' 'sitting'\n",
            " 'sitting' 'sitting' 'sitting' 'sitting' 'sitting' 'walking' 'walking'\n",
            " 'walking' 'walking' 'walking' 'walking' 'standing' 'standing' 'standing'\n",
            " 'standing' 'standing' 'standing' 'sitting' 'sitting' 'sitting' 'sitting'\n",
            " 'sitting' 'sitting' 'walking' 'walking' 'walking' 'walking' 'walking'\n",
            " 'walking' 'standing' 'standing' 'standing' 'standing' 'standing'\n",
            " 'standing' 'sitting' 'sitting' 'sitting' 'sitting' 'sitting' 'sitting'\n",
            " 'walking' 'walking' 'walking' 'walking' 'walking' 'walking' 'standing'\n",
            " 'standing' 'standing' 'standing' 'standing' 'standing' 'sitting'\n",
            " 'sitting' 'sitting' 'sitting' 'sitting' 'sitting' 'walking' 'walking'\n",
            " 'walking' 'walking' 'walking' 'walking' 'standing' 'standing' 'standing'\n",
            " 'standing' 'standing' 'standing' 'sitting' 'sitting' 'sitting' 'sitting'\n",
            " 'sitting']\n"
          ]
        }
      ],
      "source": [
        "print(y)"
      ]
    },
    {
      "cell_type": "code",
      "execution_count": null,
      "metadata": {
        "id": "4H61J7Oftl_R"
      },
      "outputs": [],
      "source": [
        "from pandas.core.frame import DataFrame\n",
        "df4 = X[0]\n",
        "df5  = DataFrame(df4)"
      ]
    },
    {
      "cell_type": "code",
      "execution_count": null,
      "metadata": {
        "colab": {
          "base_uri": "https://localhost:8080/"
        },
        "id": "u2k0aOmZufBs",
        "outputId": "a3fc5e12-7b53-49a7-c973-e045a93a1900"
      },
      "outputs": [
        {
          "name": "stdout",
          "output_type": "stream",
          "text": [
            "             0        1         2         3        4         5\n",
            "0     4.590100  3.73200  0.054481 -6.565000 -2.02940  2.628700\n",
            "1     5.134900  5.99300  0.027241 -1.947700 -0.70826  2.574200\n",
            "2     2.179300  0.23155 -0.694640 -0.449470  1.93410  1.498200\n",
            "3    -0.830840 -0.87170  0.027241  0.408610 -0.38137  1.130500\n",
            "4     5.815900  6.08830  5.393700  5.311900  5.06680  4.467500\n",
            "...        ...      ...       ...       ...      ...       ...\n",
            "1495 -1.008800 -0.68661  0.282220  0.442270  0.63194 -0.039095\n",
            "1496 -0.872010 -0.28100 -0.086743 -0.036346 -0.25962 -0.513130\n",
            "1497 -0.777020 -0.88575 -0.714100 -0.576960 -0.50641 -0.362850\n",
            "1498 -0.083994  0.15027  0.280390  0.348190  0.53665  0.722040\n",
            "1499  0.624920  0.50335  0.546420  0.420580  0.38118  0.631630\n",
            "\n",
            "[1500 rows x 6 columns]\n"
          ]
        }
      ],
      "source": [
        "print(df5)"
      ]
    },
    {
      "cell_type": "code",
      "execution_count": null,
      "metadata": {
        "colab": {
          "base_uri": "https://localhost:8080/"
        },
        "id": "IYFqSQjOqOWP",
        "outputId": "13ef64a6-4ea1-427a-ce08-326f3e345d60"
      },
      "outputs": [
        {
          "name": "stdout",
          "output_type": "stream",
          "text": [
            "[2 2 2 2 2 2 1 1 1 1 1 1 0 0 0 0 0 0 2 2 2 2 2 2 1 1 1 1 1 1 0 0 0 0 0 0 2\n",
            " 2 2 2 2 2 1 1 1 1 1 1 0 0 0 0 0 0 2 2 2 2 2 2 1 1 1 1 1 1 0 0 0 0 0 0 2 2\n",
            " 2 2 2 2 1 1 1 1 1 1 0 0 0 0 0 0 2 2 2 2 2 2 1 1 1 1 1 1 0 0 0 0 0 0 2 2 2\n",
            " 2 2 2 1 1 1 1 1 1 0 0 0 0 0 0 2 2 2 2 2 2 1 1 1 1 1 1 0 0 0 0 0 0 2 2 2 2\n",
            " 2 2 1 1 1 1 1 1 0 0 0 0 0 0 2 2 2 2 2 2 1 1 1 1 1 1 0 0 0 0 0 0 2 2 2 2 2\n",
            " 2 1 1 1 1 1 1 0 0 0 0 0 0 2 2 2 2 2 2 1 1 1 1 1 1 0 0 0 0 0 0 2 2 2 2 2 2\n",
            " 1 1 1 1 1 1 0 0 0 0 0 0 2 2 2 2 2 2 1 1 1 1 1 1 0 0 0 0 0 0 2 2 2 2 2 2 1\n",
            " 1 1 1 1 1 0 0 0 0 0 0 2 2 2 2 2 2 1 1 1 1 1 1 0 0 0 0 0 0 2 2 2 2 2 2 1 1\n",
            " 1 1 1 1 0 0 0 0 0 0 2 2 2 2 2 2 1 1 1 1 1 1 0 0 0 0 0 0 2 2 2 2 2 2 1 1 1\n",
            " 1 1 1 0 0 0 0 0 0 2 2 2 2 2 2 1 1 1 1 1 1 0 0 0 0 0]\n"
          ]
        }
      ],
      "source": [
        "print(y)"
      ]
    },
    {
      "cell_type": "code",
      "execution_count": null,
      "metadata": {
        "id": "015of4KUvDyN"
      },
      "outputs": [],
      "source": [
        "from pandas.core.frame import DataFrame\n",
        "df4 = y\n",
        "df5  = DataFrame(df4)"
      ]
    },
    {
      "cell_type": "code",
      "execution_count": null,
      "metadata": {
        "colab": {
          "base_uri": "https://localhost:8080/"
        },
        "id": "mojcX0QUwXXq",
        "outputId": "f28963cd-389e-450f-8a72-07f5adfd8fce"
      },
      "outputs": [
        {
          "name": "stdout",
          "output_type": "stream",
          "text": [
            "0      2\n",
            "1      2\n",
            "2      2\n",
            "3      2\n",
            "4      2\n",
            "      ..\n",
            "354    0\n",
            "355    0\n",
            "356    0\n",
            "357    0\n",
            "358    0\n",
            "Name: 0, Length: 359, dtype: int64\n"
          ]
        }
      ],
      "source": [
        "print(df5[0])"
      ]
    },
    {
      "cell_type": "code",
      "execution_count": null,
      "metadata": {
        "colab": {
          "base_uri": "https://localhost:8080/"
        },
        "id": "DRAWUzuuixlw",
        "outputId": "e96c9e55-8d0d-43cf-e71c-a45ebbcade8d"
      },
      "outputs": [
        {
          "name": "stdout",
          "output_type": "stream",
          "text": [
            "[[0. 0. 1.]\n",
            " [0. 0. 1.]\n",
            " [0. 0. 1.]\n",
            " ...\n",
            " [1. 0. 0.]\n",
            " [1. 0. 0.]\n",
            " [1. 0. 0.]]\n"
          ]
        }
      ],
      "source": [
        "from sklearn.preprocessing import OneHotEncoder\n",
        "ohe = OneHotEncoder()\n",
        "transformed = ohe.fit_transform(df5)\n",
        "print(transformed.toarray())"
      ]
    },
    {
      "cell_type": "code",
      "execution_count": null,
      "metadata": {
        "id": "7zon8Q-Xbw2l"
      },
      "outputs": [],
      "source": [
        "trasformed1 = transformed.toarray()"
      ]
    },
    {
      "cell_type": "code",
      "execution_count": null,
      "metadata": {
        "colab": {
          "base_uri": "https://localhost:8080/"
        },
        "id": "2o3TsxUvcExM",
        "outputId": "fa8e0853-0d5c-49a5-9be7-41c6ea54f81c"
      },
      "outputs": [
        {
          "data": {
            "text/plain": [
              "(359, 3)"
            ]
          },
          "execution_count": 55,
          "metadata": {},
          "output_type": "execute_result"
        }
      ],
      "source": [
        "trasformed1.shape"
      ]
    },
    {
      "cell_type": "code",
      "execution_count": null,
      "metadata": {
        "id": "p57Ld-28cbJv"
      },
      "outputs": [],
      "source": [
        "transformed2 = np.asarray(trasformed1, dtype = np.float32)"
      ]
    },
    {
      "cell_type": "code",
      "execution_count": null,
      "metadata": {
        "colab": {
          "base_uri": "https://localhost:8080/"
        },
        "id": "vgbOXxcgcsOF",
        "outputId": "3ac832f3-7122-480e-8eb8-7a55374a5508"
      },
      "outputs": [
        {
          "data": {
            "text/plain": [
              "array([[0., 0., 1.],\n",
              "       [0., 0., 1.],\n",
              "       [0., 0., 1.],\n",
              "       ...,\n",
              "       [1., 0., 0.],\n",
              "       [1., 0., 0.],\n",
              "       [1., 0., 0.]], dtype=float32)"
            ]
          },
          "execution_count": 57,
          "metadata": {},
          "output_type": "execute_result"
        }
      ],
      "source": [
        "transformed2"
      ]
    },
    {
      "cell_type": "code",
      "execution_count": null,
      "metadata": {
        "id": "Ia7NWeZLDUqR"
      },
      "outputs": [],
      "source": [
        "random_seed = 42\n",
        "n_time_steps = 30\n",
        "n_features = 6\n",
        "step = 12\n",
        "n_classes = 6\n",
        "n_epochs = 50\n",
        "batch_size = 5\n",
        "learning_rate = 0.0025\n",
        "l2_loss = 0.0015"
      ]
    },
    {
      "cell_type": "code",
      "execution_count": null,
      "metadata": {
        "id": "dFU9GkI2C-7B"
      },
      "outputs": [],
      "source": [
        "from  sklearn.model_selection import train_test_split\n",
        "X_train, X_test, y_train, y_test = train_test_split(X, transformed2, test_size=0.2, random_state=random_seed)"
      ]
    },
    {
      "cell_type": "code",
      "execution_count": null,
      "metadata": {
        "colab": {
          "base_uri": "https://localhost:8080/"
        },
        "id": "Q1PX6bzFOe1D",
        "outputId": "1877eb7f-ecc3-4a66-bd62-7e6c1026577a"
      },
      "outputs": [
        {
          "data": {
            "text/plain": [
              "array([[0., 1., 0.],\n",
              "       [0., 1., 0.],\n",
              "       [1., 0., 0.],\n",
              "       [1., 0., 0.],\n",
              "       [0., 0., 1.],\n",
              "       [0., 0., 1.],\n",
              "       [1., 0., 0.],\n",
              "       [0., 0., 1.],\n",
              "       [1., 0., 0.],\n",
              "       [1., 0., 0.],\n",
              "       [0., 1., 0.],\n",
              "       [0., 1., 0.],\n",
              "       [1., 0., 0.],\n",
              "       [1., 0., 0.],\n",
              "       [0., 1., 0.],\n",
              "       [0., 0., 1.],\n",
              "       [0., 0., 1.],\n",
              "       [1., 0., 0.],\n",
              "       [1., 0., 0.],\n",
              "       [1., 0., 0.],\n",
              "       [1., 0., 0.],\n",
              "       [0., 1., 0.],\n",
              "       [1., 0., 0.],\n",
              "       [1., 0., 0.],\n",
              "       [0., 1., 0.],\n",
              "       [0., 0., 1.],\n",
              "       [0., 0., 1.],\n",
              "       [0., 0., 1.],\n",
              "       [0., 1., 0.],\n",
              "       [0., 0., 1.],\n",
              "       [1., 0., 0.],\n",
              "       [0., 1., 0.],\n",
              "       [0., 0., 1.],\n",
              "       [0., 0., 1.],\n",
              "       [0., 0., 1.],\n",
              "       [0., 0., 1.],\n",
              "       [0., 0., 1.],\n",
              "       [0., 1., 0.],\n",
              "       [0., 0., 1.],\n",
              "       [0., 0., 1.],\n",
              "       [0., 0., 1.],\n",
              "       [1., 0., 0.],\n",
              "       [1., 0., 0.],\n",
              "       [0., 0., 1.],\n",
              "       [1., 0., 0.],\n",
              "       [1., 0., 0.],\n",
              "       [0., 0., 1.],\n",
              "       [0., 0., 1.],\n",
              "       [0., 1., 0.],\n",
              "       [1., 0., 0.],\n",
              "       [1., 0., 0.],\n",
              "       [0., 0., 1.],\n",
              "       [0., 1., 0.],\n",
              "       [0., 1., 0.],\n",
              "       [0., 1., 0.],\n",
              "       [1., 0., 0.],\n",
              "       [0., 0., 1.],\n",
              "       [0., 1., 0.],\n",
              "       [0., 0., 1.],\n",
              "       [1., 0., 0.],\n",
              "       [0., 1., 0.],\n",
              "       [0., 1., 0.],\n",
              "       [1., 0., 0.],\n",
              "       [0., 0., 1.],\n",
              "       [0., 0., 1.],\n",
              "       [1., 0., 0.],\n",
              "       [0., 0., 1.],\n",
              "       [0., 0., 1.],\n",
              "       [0., 1., 0.],\n",
              "       [0., 0., 1.],\n",
              "       [0., 0., 1.],\n",
              "       [1., 0., 0.]], dtype=float32)"
            ]
          },
          "execution_count": 60,
          "metadata": {},
          "output_type": "execute_result"
        }
      ],
      "source": [
        "y_test"
      ]
    },
    {
      "cell_type": "code",
      "execution_count": null,
      "metadata": {
        "colab": {
          "base_uri": "https://localhost:8080/"
        },
        "id": "W6X6Uu21EYOf",
        "outputId": "80dabffd-b07a-46b3-d3ba-99c98cfe0b37"
      },
      "outputs": [
        {
          "data": {
            "text/plain": [
              "((287, 1500, 6), (72, 1500, 6), (287, 3), (72, 3))"
            ]
          },
          "execution_count": 61,
          "metadata": {},
          "output_type": "execute_result"
        }
      ],
      "source": [
        "X_train.shape, X_test.shape, y_train.shape, y_test.shape"
      ]
    },
    {
      "cell_type": "code",
      "execution_count": null,
      "metadata": {
        "colab": {
          "base_uri": "https://localhost:8080/"
        },
        "id": "OhsnImolGkMs",
        "outputId": "65c51432-8389-4911-fac2-34769e0ada4d"
      },
      "outputs": [
        {
          "data": {
            "text/plain": [
              "array([[0., 0., 1.],\n",
              "       [0., 1., 0.],\n",
              "       [1., 0., 0.],\n",
              "       [0., 0., 1.],\n",
              "       [1., 0., 0.],\n",
              "       [0., 1., 0.],\n",
              "       [1., 0., 0.],\n",
              "       [1., 0., 0.],\n",
              "       [0., 1., 0.],\n",
              "       [0., 1., 0.],\n",
              "       [1., 0., 0.],\n",
              "       [0., 1., 0.],\n",
              "       [1., 0., 0.],\n",
              "       [0., 1., 0.],\n",
              "       [0., 1., 0.],\n",
              "       [1., 0., 0.],\n",
              "       [0., 0., 1.],\n",
              "       [0., 1., 0.],\n",
              "       [0., 1., 0.],\n",
              "       [0., 1., 0.],\n",
              "       [0., 1., 0.],\n",
              "       [0., 0., 1.],\n",
              "       [0., 0., 1.],\n",
              "       [1., 0., 0.],\n",
              "       [1., 0., 0.],\n",
              "       [0., 0., 1.],\n",
              "       [0., 1., 0.],\n",
              "       [0., 1., 0.],\n",
              "       [0., 1., 0.],\n",
              "       [0., 0., 1.],\n",
              "       [0., 1., 0.],\n",
              "       [0., 1., 0.],\n",
              "       [0., 1., 0.],\n",
              "       [0., 1., 0.],\n",
              "       [1., 0., 0.],\n",
              "       [0., 0., 1.],\n",
              "       [1., 0., 0.],\n",
              "       [1., 0., 0.],\n",
              "       [0., 0., 1.],\n",
              "       [1., 0., 0.],\n",
              "       [0., 0., 1.],\n",
              "       [0., 1., 0.],\n",
              "       [0., 1., 0.],\n",
              "       [0., 0., 1.],\n",
              "       [0., 0., 1.],\n",
              "       [1., 0., 0.],\n",
              "       [1., 0., 0.],\n",
              "       [0., 1., 0.],\n",
              "       [0., 1., 0.],\n",
              "       [1., 0., 0.],\n",
              "       [0., 0., 1.],\n",
              "       [0., 1., 0.],\n",
              "       [0., 0., 1.],\n",
              "       [0., 1., 0.],\n",
              "       [0., 1., 0.],\n",
              "       [1., 0., 0.],\n",
              "       [0., 1., 0.],\n",
              "       [0., 0., 1.],\n",
              "       [0., 0., 1.],\n",
              "       [0., 0., 1.],\n",
              "       [0., 1., 0.],\n",
              "       [0., 1., 0.],\n",
              "       [1., 0., 0.],\n",
              "       [0., 1., 0.],\n",
              "       [0., 0., 1.],\n",
              "       [1., 0., 0.],\n",
              "       [0., 1., 0.],\n",
              "       [1., 0., 0.],\n",
              "       [0., 0., 1.],\n",
              "       [0., 0., 1.],\n",
              "       [0., 0., 1.],\n",
              "       [0., 1., 0.],\n",
              "       [1., 0., 0.],\n",
              "       [0., 0., 1.],\n",
              "       [1., 0., 0.],\n",
              "       [0., 1., 0.],\n",
              "       [0., 1., 0.],\n",
              "       [1., 0., 0.],\n",
              "       [0., 0., 1.],\n",
              "       [0., 1., 0.],\n",
              "       [1., 0., 0.],\n",
              "       [1., 0., 0.],\n",
              "       [0., 0., 1.],\n",
              "       [0., 0., 1.],\n",
              "       [0., 0., 1.],\n",
              "       [1., 0., 0.],\n",
              "       [1., 0., 0.],\n",
              "       [1., 0., 0.],\n",
              "       [1., 0., 0.],\n",
              "       [1., 0., 0.],\n",
              "       [0., 1., 0.],\n",
              "       [1., 0., 0.],\n",
              "       [0., 0., 1.],\n",
              "       [0., 1., 0.],\n",
              "       [1., 0., 0.],\n",
              "       [1., 0., 0.],\n",
              "       [1., 0., 0.],\n",
              "       [1., 0., 0.],\n",
              "       [0., 1., 0.],\n",
              "       [0., 1., 0.],\n",
              "       [0., 0., 1.],\n",
              "       [0., 0., 1.],\n",
              "       [0., 0., 1.],\n",
              "       [0., 0., 1.],\n",
              "       [0., 0., 1.],\n",
              "       [0., 0., 1.],\n",
              "       [0., 1., 0.],\n",
              "       [0., 0., 1.],\n",
              "       [1., 0., 0.],\n",
              "       [0., 0., 1.],\n",
              "       [1., 0., 0.],\n",
              "       [1., 0., 0.],\n",
              "       [0., 1., 0.],\n",
              "       [0., 1., 0.],\n",
              "       [0., 1., 0.],\n",
              "       [0., 0., 1.],\n",
              "       [0., 0., 1.],\n",
              "       [0., 0., 1.],\n",
              "       [0., 0., 1.],\n",
              "       [0., 1., 0.],\n",
              "       [0., 1., 0.],\n",
              "       [0., 1., 0.],\n",
              "       [1., 0., 0.],\n",
              "       [0., 0., 1.],\n",
              "       [0., 1., 0.],\n",
              "       [1., 0., 0.],\n",
              "       [0., 0., 1.],\n",
              "       [1., 0., 0.],\n",
              "       [1., 0., 0.],\n",
              "       [0., 1., 0.],\n",
              "       [0., 1., 0.],\n",
              "       [0., 0., 1.],\n",
              "       [0., 0., 1.],\n",
              "       [0., 0., 1.],\n",
              "       [0., 0., 1.],\n",
              "       [0., 1., 0.],\n",
              "       [0., 1., 0.],\n",
              "       [0., 1., 0.],\n",
              "       [1., 0., 0.],\n",
              "       [0., 0., 1.],\n",
              "       [0., 0., 1.],\n",
              "       [0., 1., 0.],\n",
              "       [0., 0., 1.],\n",
              "       [0., 0., 1.],\n",
              "       [0., 1., 0.],\n",
              "       [1., 0., 0.],\n",
              "       [0., 1., 0.],\n",
              "       [1., 0., 0.],\n",
              "       [1., 0., 0.],\n",
              "       [0., 1., 0.],\n",
              "       [1., 0., 0.],\n",
              "       [1., 0., 0.],\n",
              "       [1., 0., 0.],\n",
              "       [1., 0., 0.],\n",
              "       [0., 1., 0.],\n",
              "       [0., 1., 0.],\n",
              "       [1., 0., 0.],\n",
              "       [0., 1., 0.],\n",
              "       [1., 0., 0.],\n",
              "       [0., 0., 1.],\n",
              "       [0., 0., 1.],\n",
              "       [0., 0., 1.],\n",
              "       [1., 0., 0.],\n",
              "       [0., 1., 0.],\n",
              "       [0., 0., 1.],\n",
              "       [0., 0., 1.],\n",
              "       [1., 0., 0.],\n",
              "       [0., 1., 0.],\n",
              "       [1., 0., 0.],\n",
              "       [0., 0., 1.],\n",
              "       [1., 0., 0.],\n",
              "       [0., 1., 0.],\n",
              "       [0., 1., 0.],\n",
              "       [0., 1., 0.],\n",
              "       [0., 1., 0.],\n",
              "       [0., 1., 0.],\n",
              "       [1., 0., 0.],\n",
              "       [1., 0., 0.],\n",
              "       [0., 1., 0.],\n",
              "       [0., 0., 1.],\n",
              "       [0., 0., 1.],\n",
              "       [1., 0., 0.],\n",
              "       [0., 0., 1.],\n",
              "       [0., 0., 1.],\n",
              "       [0., 1., 0.],\n",
              "       [0., 1., 0.],\n",
              "       [0., 0., 1.],\n",
              "       [1., 0., 0.],\n",
              "       [0., 1., 0.],\n",
              "       [0., 1., 0.],\n",
              "       [1., 0., 0.],\n",
              "       [0., 1., 0.],\n",
              "       [0., 1., 0.],\n",
              "       [1., 0., 0.],\n",
              "       [0., 0., 1.],\n",
              "       [1., 0., 0.],\n",
              "       [0., 1., 0.],\n",
              "       [1., 0., 0.],\n",
              "       [1., 0., 0.],\n",
              "       [0., 1., 0.],\n",
              "       [0., 0., 1.],\n",
              "       [1., 0., 0.],\n",
              "       [1., 0., 0.],\n",
              "       [0., 1., 0.],\n",
              "       [0., 1., 0.],\n",
              "       [0., 0., 1.],\n",
              "       [0., 1., 0.],\n",
              "       [0., 1., 0.],\n",
              "       [1., 0., 0.],\n",
              "       [1., 0., 0.],\n",
              "       [0., 0., 1.],\n",
              "       [0., 0., 1.],\n",
              "       [0., 0., 1.],\n",
              "       [0., 0., 1.],\n",
              "       [0., 1., 0.],\n",
              "       [0., 0., 1.],\n",
              "       [0., 0., 1.],\n",
              "       [0., 1., 0.],\n",
              "       [1., 0., 0.],\n",
              "       [0., 0., 1.],\n",
              "       [1., 0., 0.],\n",
              "       [0., 1., 0.],\n",
              "       [0., 0., 1.],\n",
              "       [1., 0., 0.],\n",
              "       [0., 0., 1.],\n",
              "       [1., 0., 0.],\n",
              "       [0., 1., 0.],\n",
              "       [0., 0., 1.],\n",
              "       [0., 1., 0.],\n",
              "       [0., 1., 0.],\n",
              "       [1., 0., 0.],\n",
              "       [1., 0., 0.],\n",
              "       [0., 0., 1.],\n",
              "       [1., 0., 0.],\n",
              "       [0., 1., 0.],\n",
              "       [0., 1., 0.],\n",
              "       [1., 0., 0.],\n",
              "       [0., 1., 0.],\n",
              "       [0., 0., 1.],\n",
              "       [1., 0., 0.],\n",
              "       [1., 0., 0.],\n",
              "       [0., 1., 0.],\n",
              "       [1., 0., 0.],\n",
              "       [1., 0., 0.],\n",
              "       [0., 0., 1.],\n",
              "       [0., 0., 1.],\n",
              "       [0., 1., 0.],\n",
              "       [0., 1., 0.],\n",
              "       [0., 0., 1.],\n",
              "       [0., 0., 1.],\n",
              "       [1., 0., 0.],\n",
              "       [0., 1., 0.],\n",
              "       [0., 0., 1.],\n",
              "       [1., 0., 0.],\n",
              "       [1., 0., 0.],\n",
              "       [0., 1., 0.],\n",
              "       [1., 0., 0.],\n",
              "       [0., 1., 0.],\n",
              "       [0., 1., 0.],\n",
              "       [0., 0., 1.],\n",
              "       [1., 0., 0.],\n",
              "       [0., 0., 1.],\n",
              "       [0., 0., 1.],\n",
              "       [0., 0., 1.],\n",
              "       [0., 1., 0.],\n",
              "       [1., 0., 0.],\n",
              "       [0., 1., 0.],\n",
              "       [0., 1., 0.],\n",
              "       [0., 0., 1.],\n",
              "       [0., 0., 1.],\n",
              "       [0., 0., 1.],\n",
              "       [0., 0., 1.],\n",
              "       [0., 0., 1.],\n",
              "       [0., 1., 0.],\n",
              "       [0., 1., 0.],\n",
              "       [1., 0., 0.],\n",
              "       [0., 1., 0.],\n",
              "       [1., 0., 0.],\n",
              "       [1., 0., 0.],\n",
              "       [1., 0., 0.],\n",
              "       [0., 0., 1.],\n",
              "       [0., 1., 0.],\n",
              "       [1., 0., 0.],\n",
              "       [1., 0., 0.],\n",
              "       [0., 0., 1.],\n",
              "       [0., 1., 0.],\n",
              "       [1., 0., 0.]], dtype=float32)"
            ]
          },
          "execution_count": 62,
          "metadata": {},
          "output_type": "execute_result"
        }
      ],
      "source": [
        "y_train"
      ]
    },
    {
      "cell_type": "code",
      "execution_count": null,
      "metadata": {
        "colab": {
          "base_uri": "https://localhost:8080/"
        },
        "id": "outekHCoRfBM",
        "outputId": "22ff4398-eb93-4364-fa5b-dece83c4024f"
      },
      "outputs": [
        {
          "data": {
            "text/plain": [
              "array([[[ 2.4380e+00,  2.2882e+00,  2.1656e+00,  2.1384e+00,\n",
              "          2.0567e+00,  2.0431e+00],\n",
              "        [ 2.1248e+00,  2.1520e+00,  2.1520e+00,  2.1384e+00,\n",
              "          2.2474e+00,  2.2201e+00],\n",
              "        [ 2.1929e+00,  2.2882e+00,  2.2746e+00,  2.2474e+00,\n",
              "          2.1520e+00,  2.0431e+00],\n",
              "        ...,\n",
              "        [ 9.7738e-03,  7.9412e-03, -2.1380e-03,  6.1100e-04,\n",
              "          1.0079e-02,  6.7195e-03],\n",
              "        [ 9.7738e-03,  7.6358e-03,  6.1087e-03,  3.3598e-03,\n",
              "         -4.8869e-03,  1.5272e-03],\n",
              "        [ 3.0543e-03,  1.8326e-03,  3.0543e-03,  2.4435e-03,\n",
              "          4.2761e-03,  4.8869e-03]],\n",
              "\n",
              "       [[-5.4073e+00, -5.4209e+00, -5.4618e+00, -5.3664e+00,\n",
              "         -5.3800e+00, -5.3800e+00],\n",
              "        [-5.3937e+00, -5.3800e+00, -5.3256e+00, -5.3664e+00,\n",
              "         -5.4345e+00, -5.4754e+00],\n",
              "        [-5.5707e+00, -5.5162e+00, -5.3800e+00, -5.2438e+00,\n",
              "         -5.0123e+00, -4.8625e+00],\n",
              "        ...,\n",
              "        [ 1.5272e-03,  4.2761e-03,  7.3304e-03,  3.0543e-03,\n",
              "          5.4978e-03,  6.7195e-03],\n",
              "        [ 1.5272e-03,  1.8326e-03,  2.4435e-03,  3.6652e-03,\n",
              "          1.2217e-03,  3.0543e-03],\n",
              "        [-3.0543e-03,  3.6652e-03,  3.9706e-03,  7.0250e-03,\n",
              "          5.8032e-03,  1.0996e-02]],\n",
              "\n",
              "       [[ 6.8783e+00,  6.8647e+00,  6.8919e+00,  6.8783e+00,\n",
              "          6.8647e+00,  6.8647e+00],\n",
              "        [ 6.8919e+00,  6.9191e+00,  6.8919e+00,  6.8647e+00,\n",
              "          6.8238e+00,  6.8647e+00],\n",
              "        [ 6.8919e+00,  6.8919e+00,  6.8647e+00,  6.8374e+00,\n",
              "          6.9328e+00,  6.9055e+00],\n",
              "        ...,\n",
              "        [ 7.0250e-03,  3.9706e-03,  1.5272e-03,  3.0543e-03,\n",
              "         -3.0500e-04,  9.1600e-04],\n",
              "        [ 2.7489e-03,  2.1380e-03,  2.7489e-03, -2.4435e-03,\n",
              "          9.1600e-04,  3.0500e-04],\n",
              "        [ 1.2217e-03,  1.2217e-03, -2.7489e-03, -3.9706e-03,\n",
              "         -2.1380e-03,  4.8869e-03]],\n",
              "\n",
              "       ...,\n",
              "\n",
              "       [[ 2.4517e+00,  2.4380e+00,  2.7922e+00,  1.9205e+00,\n",
              "          1.3620e+00,  3.1327e-01],\n",
              "        [ 5.5843e-01, -8.0360e-01, -7.4912e-01,  3.2689e-01,\n",
              "          1.2939e+00,  4.6037e+00],\n",
              "        [ 5.0123e+00,  3.1735e+00,  2.6287e+00,  2.6287e+00,\n",
              "          2.9556e+00, -7.0553e+00],\n",
              "        ...,\n",
              "        [ 1.4264e-01,  3.9859e-01,  1.0867e+00,  1.7709e+00,\n",
              "          1.0650e+00,  3.1826e-01],\n",
              "        [ 6.0476e-02,  1.6249e-01, -1.8754e-01, -4.6365e-01,\n",
              "         -4.2394e-01,  6.5149e-01],\n",
              "        [ 8.4513e-01,  5.0824e-01,  4.5998e-01, -9.3218e-01,\n",
              "         -1.0284e+00, -6.9639e-02]],\n",
              "\n",
              "       [[-2.4517e-01, -3.5140e+00, -2.1656e+00,  3.2416e+00,\n",
              "          2.9829e+00,  2.3018e+00],\n",
              "        [-3.2689e-01, -1.0488e+00, -3.8137e-01,  1.5663e+00,\n",
              "          1.7570e+00,  1.4029e+00],\n",
              "        [ 4.4947e-01, -1.9068e-01, -6.8102e-02, -6.8102e-02,\n",
              "          2.1793e-01,  1.1169e+00],\n",
              "        ...,\n",
              "        [ 4.5235e-01,  1.3714e-01, -8.2467e-02, -7.0219e-01,\n",
              "         -2.9047e-01,  4.8717e-01],\n",
              "        [ 1.2236e+00,  1.5840e+00,  1.2950e+00,  1.1206e+00,\n",
              "          5.4978e-01,  4.6090e-01],\n",
              "        [ 4.2852e-01,  2.2113e-01,  4.7342e-02,  3.9095e-02,\n",
              "          2.5320e-01,  6.5301e-01]],\n",
              "\n",
              "       [[ 7.1779e+00,  7.1643e+00,  7.1915e+00,  7.1915e+00,\n",
              "          7.1779e+00,  7.1507e+00],\n",
              "        [ 7.2052e+00,  7.2052e+00,  7.1507e+00,  7.1779e+00,\n",
              "          7.1779e+00,  7.1643e+00],\n",
              "        [ 7.1915e+00,  7.2188e+00,  7.1779e+00,  7.1507e+00,\n",
              "          7.1643e+00,  7.1779e+00],\n",
              "        ...,\n",
              "        [ 2.7489e-03,  2.1380e-03, -1.2217e-03,  4.8869e-03,\n",
              "         -3.9706e-03,  7.0250e-03],\n",
              "        [-1.2217e-03,  3.0500e-04,  3.0543e-03,  4.5815e-03,\n",
              "          3.6652e-03,  2.4435e-03],\n",
              "        [ 9.1600e-04,  4.2761e-03, -6.1100e-04,  9.1600e-04,\n",
              "         -9.1600e-04,  4.8869e-03]]])"
            ]
          },
          "execution_count": 72,
          "metadata": {},
          "output_type": "execute_result"
        }
      ],
      "source": [
        "X_test"
      ]
    },
    {
      "cell_type": "code",
      "execution_count": null,
      "metadata": {
        "colab": {
          "base_uri": "https://localhost:8080/"
        },
        "id": "mH3hhtofE3Vn",
        "outputId": "7f76b3c5-84e3-4e5a-e08b-c7334441d862"
      },
      "outputs": [
        {
          "data": {
            "text/plain": [
              "(1500, 6)"
            ]
          },
          "execution_count": 63,
          "metadata": {},
          "output_type": "execute_result"
        }
      ],
      "source": [
        "X_train.shape[1],X_train.shape[2]"
      ]
    },
    {
      "cell_type": "code",
      "execution_count": null,
      "metadata": {
        "id": "ULGu5tVkETQJ"
      },
      "outputs": [],
      "source": [
        "import pandas as pd\n",
        "import numpy as np\n",
        "import re\n",
        "import matplotlib.pyplot as plt\n",
        "from tensorflow import keras \n",
        "from keras.models import Sequential\n",
        "from keras.layers import LSTM, GRU, Dense, Flatten, Dropout\n",
        "from scipy import stats\n",
        "from sklearn.preprocessing import OneHotEncoder\n",
        "from sklearn.preprocessing import RobustScaler\n",
        "import seaborn as sns\n",
        "import warnings\n",
        "warnings.filterwarnings('ignore')\n",
        "from sklearn.model_selection import train_test_split\n",
        "import sklearn.metrics as metrics"
      ]
    },
    {
      "cell_type": "code",
      "execution_count": null,
      "metadata": {
        "id": "c7tax3bRC_G_"
      },
      "outputs": [],
      "source": [
        "# Building Model Architecture\n",
        "\n",
        "model = Sequential()\n",
        "\n",
        "# RNN layer\n",
        "\n",
        "#model.add(LSTM(units=128, input_shape=(X_train.shape[1],X_train.shape[2] )))\n",
        "\n",
        "model.add(GRU(units=128, input_shape=(X_train.shape[1],X_train.shape[2] )))\n",
        "\n",
        "# Dropout layer\n",
        "\n",
        "model.add(Dropout(0.5))\n",
        "\n",
        "# Dense layer with ReLu\n",
        "\n",
        "model.add(Dense(units=64, activation='relu'))\n",
        "\n",
        "# Softmax layer\n",
        "\n",
        "model.add(Dense(y_train.shape[1], activation='softmax'))\n",
        "\n",
        "# Compile model\n",
        "\n",
        "model.compile(loss='categorical_crossentropy', optimizer='adam', metrics=['accuracy'])"
      ]
    },
    {
      "cell_type": "code",
      "execution_count": null,
      "metadata": {
        "colab": {
          "base_uri": "https://localhost:8080/"
        },
        "id": "riGC0RBJEq1n",
        "outputId": "116bb9bc-90b1-49a3-831f-1d7e77821920"
      },
      "outputs": [
        {
          "name": "stdout",
          "output_type": "stream",
          "text": [
            "Model: \"sequential_1\"\n",
            "_________________________________________________________________\n",
            " Layer (type)                Output Shape              Param #   \n",
            "=================================================================\n",
            " gru_1 (GRU)                 (None, 128)               52224     \n",
            "                                                                 \n",
            " dropout_1 (Dropout)         (None, 128)               0         \n",
            "                                                                 \n",
            " dense_2 (Dense)             (None, 64)                8256      \n",
            "                                                                 \n",
            " dense_3 (Dense)             (None, 3)                 195       \n",
            "                                                                 \n",
            "=================================================================\n",
            "Total params: 60,675\n",
            "Trainable params: 60,675\n",
            "Non-trainable params: 0\n",
            "_________________________________________________________________\n"
          ]
        }
      ],
      "source": [
        "model.summary()"
      ]
    },
    {
      "cell_type": "code",
      "execution_count": null,
      "metadata": {
        "colab": {
          "base_uri": "https://localhost:8080/"
        },
        "id": "n7HzpQAxFevh",
        "outputId": "9f221bca-14f2-47c5-f772-48dd8a38399e"
      },
      "outputs": [
        {
          "name": "stdout",
          "output_type": "stream",
          "text": [
            "Epoch 1/50\n",
            "58/58 [==============================] - 42s 687ms/step - loss: 0.9685 - accuracy: 0.5679\n",
            "Epoch 2/50\n",
            "58/58 [==============================] - 36s 625ms/step - loss: 0.6067 - accuracy: 0.5923\n",
            "Epoch 3/50\n",
            "58/58 [==============================] - 38s 658ms/step - loss: 0.4914 - accuracy: 0.6585\n",
            "Epoch 4/50\n",
            "58/58 [==============================] - 37s 631ms/step - loss: 0.4970 - accuracy: 0.6551\n",
            "Epoch 5/50\n",
            "58/58 [==============================] - 36s 626ms/step - loss: 0.4859 - accuracy: 0.6446\n",
            "Epoch 6/50\n",
            "58/58 [==============================] - 37s 643ms/step - loss: 0.4881 - accuracy: 0.6132\n",
            "Epoch 7/50\n",
            "58/58 [==============================] - 36s 627ms/step - loss: 0.4798 - accuracy: 0.6516\n",
            "Epoch 8/50\n",
            "58/58 [==============================] - 36s 626ms/step - loss: 0.4784 - accuracy: 0.6516\n",
            "Epoch 9/50\n",
            "58/58 [==============================] - 36s 621ms/step - loss: 0.4888 - accuracy: 0.6411\n",
            "Epoch 10/50\n",
            "58/58 [==============================] - 38s 652ms/step - loss: 0.4814 - accuracy: 0.6690\n",
            "Epoch 11/50\n",
            "58/58 [==============================] - 36s 625ms/step - loss: 0.4820 - accuracy: 0.6516\n",
            "Epoch 12/50\n",
            "58/58 [==============================] - 36s 626ms/step - loss: 0.4794 - accuracy: 0.6516\n",
            "Epoch 13/50\n",
            "58/58 [==============================] - 36s 615ms/step - loss: 0.4728 - accuracy: 0.6794\n",
            "Epoch 14/50\n",
            "58/58 [==============================] - 36s 623ms/step - loss: 0.4725 - accuracy: 0.6620\n",
            "Epoch 15/50\n",
            "58/58 [==============================] - 36s 620ms/step - loss: 0.4684 - accuracy: 0.6760\n",
            "Epoch 16/50\n",
            "58/58 [==============================] - 36s 625ms/step - loss: 0.4745 - accuracy: 0.6620\n",
            "Epoch 17/50\n",
            "58/58 [==============================] - 36s 624ms/step - loss: 0.4735 - accuracy: 0.6690\n",
            "Epoch 18/50\n",
            "58/58 [==============================] - 38s 659ms/step - loss: 0.4723 - accuracy: 0.6760\n",
            "Epoch 19/50\n",
            "58/58 [==============================] - 36s 620ms/step - loss: 0.4709 - accuracy: 0.6794\n",
            "Epoch 20/50\n",
            "58/58 [==============================] - 37s 630ms/step - loss: 0.4690 - accuracy: 0.6690\n",
            "Epoch 21/50\n",
            "58/58 [==============================] - 36s 628ms/step - loss: 0.4695 - accuracy: 0.6760\n",
            "Epoch 22/50\n",
            "58/58 [==============================] - 36s 627ms/step - loss: 0.5165 - accuracy: 0.6620\n",
            "Epoch 23/50\n",
            "58/58 [==============================] - 36s 628ms/step - loss: 0.5186 - accuracy: 0.6760\n",
            "Epoch 24/50\n",
            "58/58 [==============================] - 36s 621ms/step - loss: 0.4855 - accuracy: 0.6969\n",
            "Epoch 25/50\n",
            "58/58 [==============================] - 38s 653ms/step - loss: 0.4755 - accuracy: 0.6725\n",
            "Epoch 26/50\n",
            "58/58 [==============================] - 36s 625ms/step - loss: 0.4679 - accuracy: 0.6864\n",
            "Epoch 27/50\n",
            "58/58 [==============================] - 36s 620ms/step - loss: 0.4734 - accuracy: 0.6551\n",
            "Epoch 28/50\n",
            "58/58 [==============================] - 36s 621ms/step - loss: 0.4722 - accuracy: 0.6620\n",
            "Epoch 29/50\n",
            "58/58 [==============================] - 36s 621ms/step - loss: 0.4665 - accuracy: 0.6864\n",
            "Epoch 30/50\n",
            "58/58 [==============================] - 37s 641ms/step - loss: 0.4683 - accuracy: 0.6725\n",
            "Epoch 31/50\n",
            "58/58 [==============================] - 37s 635ms/step - loss: 0.4650 - accuracy: 0.6899\n",
            "Epoch 32/50\n",
            "58/58 [==============================] - 37s 634ms/step - loss: 0.4644 - accuracy: 0.6725\n",
            "Epoch 33/50\n",
            "58/58 [==============================] - 38s 660ms/step - loss: 0.4717 - accuracy: 0.6760\n",
            "Epoch 34/50\n",
            "58/58 [==============================] - 37s 634ms/step - loss: 0.4692 - accuracy: 0.6341\n",
            "Epoch 35/50\n",
            "58/58 [==============================] - 37s 628ms/step - loss: 0.4666 - accuracy: 0.6829\n",
            "Epoch 36/50\n",
            "58/58 [==============================] - 37s 640ms/step - loss: 0.4666 - accuracy: 0.6899\n",
            "Epoch 37/50\n",
            "58/58 [==============================] - 36s 625ms/step - loss: 0.4662 - accuracy: 0.6760\n",
            "Epoch 38/50\n",
            "58/58 [==============================] - 37s 632ms/step - loss: 0.4673 - accuracy: 0.6760\n",
            "Epoch 39/50\n",
            "58/58 [==============================] - 37s 632ms/step - loss: 0.4626 - accuracy: 0.6794\n",
            "Epoch 40/50\n",
            "58/58 [==============================] - 38s 647ms/step - loss: 0.4674 - accuracy: 0.6725\n",
            "Epoch 41/50\n",
            "58/58 [==============================] - 37s 636ms/step - loss: 0.4623 - accuracy: 0.6760\n",
            "Epoch 42/50\n",
            "58/58 [==============================] - 37s 636ms/step - loss: 0.4572 - accuracy: 0.7073\n",
            "Epoch 43/50\n",
            "58/58 [==============================] - 36s 629ms/step - loss: 0.4629 - accuracy: 0.6725\n",
            "Epoch 44/50\n",
            "58/58 [==============================] - 37s 642ms/step - loss: 0.4623 - accuracy: 0.6690\n",
            "Epoch 45/50\n",
            "58/58 [==============================] - 36s 628ms/step - loss: 0.4626 - accuracy: 0.7003\n",
            "Epoch 46/50\n",
            "58/58 [==============================] - 37s 635ms/step - loss: 0.4552 - accuracy: 0.7038\n",
            "Epoch 47/50\n",
            "58/58 [==============================] - 37s 635ms/step - loss: 0.4606 - accuracy: 0.6829\n",
            "Epoch 48/50\n",
            "58/58 [==============================] - 38s 656ms/step - loss: 0.4667 - accuracy: 0.6655\n",
            "Epoch 49/50\n",
            "58/58 [==============================] - 37s 632ms/step - loss: 0.4559 - accuracy: 0.6934\n",
            "Epoch 50/50\n",
            "58/58 [==============================] - 37s 631ms/step - loss: 0.4601 - accuracy: 0.6620\n"
          ]
        }
      ],
      "source": [
        "history = model.fit(X_train, y_train, epochs=n_epochs, batch_size=batch_size, verbose=1)"
      ]
    },
    {
      "cell_type": "code",
      "execution_count": null,
      "metadata": {
        "id": "9GsMZl4kpJVf"
      },
      "outputs": [],
      "source": [
        "from keras.layers import TimeDistributed, LSTM, Dense, GRU, Dropout, BatchNormalization, Flatten"
      ]
    },
    {
      "cell_type": "code",
      "execution_count": null,
      "metadata": {
        "id": "iKxGMiM-pB8q"
      },
      "outputs": [],
      "source": [
        "model1 = Sequential()\n",
        "model1.add(GRU(256, dropout=0.2, recurrent_dropout=0.2, input_shape=(X_train.shape[1],X_train.shape[2])))\n",
        "#model1.add(GRU(512,  dropout=0.3, recurrent_dropout=0.3)) \n",
        "model1.add(Dense(128, activation = 'relu'))\n",
        "model1.add(Dropout(0.2))\n",
        "model1.add(Dense(64, activation = 'relu'))\n",
        "#model1.add(BatchNormalization())\n",
        "# model.add(Dropout(0.2))\n",
        "# model.add(Dense(64, activation = 'relu'))\n",
        "model1.add(Dense(y_train.shape[1], activation='softmax', \n",
        "                name='output1'))\n",
        "\n",
        "model1.compile(optimizer='adam', loss='categorical_crossentropy', metrics = ['accuracy'])"
      ]
    },
    {
      "cell_type": "code",
      "execution_count": null,
      "metadata": {
        "colab": {
          "base_uri": "https://localhost:8080/"
        },
        "id": "Th8dqOuopOMf",
        "outputId": "705cd6c9-a0eb-424e-bdb6-d7e8769386d5"
      },
      "outputs": [
        {
          "name": "stdout",
          "output_type": "stream",
          "text": [
            "Model: \"sequential_7\"\n",
            "_________________________________________________________________\n",
            " Layer (type)                Output Shape              Param #   \n",
            "=================================================================\n",
            " gru_10 (GRU)                (None, 256)               202752    \n",
            "                                                                 \n",
            " dense_10 (Dense)            (None, 128)               32896     \n",
            "                                                                 \n",
            " dropout_5 (Dropout)         (None, 128)               0         \n",
            "                                                                 \n",
            " dense_11 (Dense)            (None, 64)                8256      \n",
            "                                                                 \n",
            " output1 (Dense)             (None, 3)                 195       \n",
            "                                                                 \n",
            "=================================================================\n",
            "Total params: 244,099\n",
            "Trainable params: 244,099\n",
            "Non-trainable params: 0\n",
            "_________________________________________________________________\n"
          ]
        }
      ],
      "source": [
        "model1.summary()"
      ]
    },
    {
      "cell_type": "code",
      "execution_count": null,
      "metadata": {
        "id": "KUpa6aL8d7WW"
      },
      "outputs": [],
      "source": [
        "# prepare callbacks\n",
        "from keras.callbacks import ModelCheckpoint\n",
        "\n",
        "callbacks= [ModelCheckpoint('model.h5', save_weights_only=False, save_best_only=True, verbose=1)]"
      ]
    },
    {
      "cell_type": "code",
      "execution_count": null,
      "metadata": {
        "colab": {
          "base_uri": "https://localhost:8080/",
          "height": 692
        },
        "id": "OKU3OAMjpOPh",
        "outputId": "acc1eb22-ad73-45e6-e800-4c13fef5075e"
      },
      "outputs": [
        {
          "name": "stdout",
          "output_type": "stream",
          "text": [
            "Epoch 1/10\n",
            "9/9 [==============================] - ETA: 0s - loss: 0.8176 - accuracy: 0.6446\n",
            "Epoch 1: val_loss improved from inf to 0.63131, saving model to model.h5\n",
            "9/9 [==============================] - 64s 7s/step - loss: 0.8176 - accuracy: 0.6446 - val_loss: 0.6313 - val_accuracy: 0.7917\n",
            "Epoch 2/10\n",
            "9/9 [==============================] - ETA: 0s - loss: 0.6030 - accuracy: 0.6481\n",
            "Epoch 2: val_loss improved from 0.63131 to 0.41530, saving model to model.h5\n",
            "9/9 [==============================] - 61s 7s/step - loss: 0.6030 - accuracy: 0.6481 - val_loss: 0.4153 - val_accuracy: 0.7500\n",
            "Epoch 3/10\n",
            "9/9 [==============================] - ETA: 0s - loss: 0.5507 - accuracy: 0.6167\n",
            "Epoch 3: val_loss did not improve from 0.41530\n",
            "9/9 [==============================] - 61s 7s/step - loss: 0.5507 - accuracy: 0.6167 - val_loss: 0.4289 - val_accuracy: 0.6528\n",
            "Epoch 4/10\n",
            "9/9 [==============================] - ETA: 0s - loss: 0.4877 - accuracy: 0.6794\n",
            "Epoch 4: val_loss did not improve from 0.41530\n",
            "9/9 [==============================] - 62s 7s/step - loss: 0.4877 - accuracy: 0.6794 - val_loss: 0.4284 - val_accuracy: 0.6528\n",
            "Epoch 5/10\n",
            "9/9 [==============================] - ETA: 0s - loss: 0.4907 - accuracy: 0.6516\n",
            "Epoch 5: val_loss did not improve from 0.41530\n",
            "9/9 [==============================] - 62s 7s/step - loss: 0.4907 - accuracy: 0.6516 - val_loss: 0.4155 - val_accuracy: 0.7500\n",
            "Epoch 6/10\n",
            "2/9 [=====>........................] - ETA: 45s - loss: 0.5427 - accuracy: 0.6094"
          ]
        },
        {
          "ename": "KeyboardInterrupt",
          "evalue": "ignored",
          "output_type": "error",
          "traceback": [
            "\u001b[0;31m---------------------------------------------------------------------------\u001b[0m",
            "\u001b[0;31mKeyboardInterrupt\u001b[0m                         Traceback (most recent call last)",
            "\u001b[0;32m<ipython-input-88-4794e7cc69f7>\u001b[0m in \u001b[0;36m<module>\u001b[0;34m()\u001b[0m\n\u001b[0;32m----> 1\u001b[0;31m \u001b[0mhistory\u001b[0m \u001b[0;34m=\u001b[0m \u001b[0mmodel1\u001b[0m\u001b[0;34m.\u001b[0m\u001b[0mfit\u001b[0m\u001b[0;34m(\u001b[0m\u001b[0mX_train\u001b[0m\u001b[0;34m,\u001b[0m \u001b[0my_train\u001b[0m\u001b[0;34m,\u001b[0m \u001b[0mepochs\u001b[0m \u001b[0;34m=\u001b[0m \u001b[0;36m10\u001b[0m\u001b[0;34m,\u001b[0m \u001b[0mvalidation_data\u001b[0m\u001b[0;34m=\u001b[0m \u001b[0;34m(\u001b[0m\u001b[0mX_test\u001b[0m\u001b[0;34m,\u001b[0m \u001b[0my_test\u001b[0m\u001b[0;34m)\u001b[0m\u001b[0;34m,\u001b[0m \u001b[0mcallbacks\u001b[0m\u001b[0;34m=\u001b[0m\u001b[0mcallbacks\u001b[0m\u001b[0;34m)\u001b[0m\u001b[0;34m\u001b[0m\u001b[0;34m\u001b[0m\u001b[0m\n\u001b[0m",
            "\u001b[0;32m/usr/local/lib/python3.7/dist-packages/keras/utils/traceback_utils.py\u001b[0m in \u001b[0;36merror_handler\u001b[0;34m(*args, **kwargs)\u001b[0m\n\u001b[1;32m     62\u001b[0m     \u001b[0mfiltered_tb\u001b[0m \u001b[0;34m=\u001b[0m \u001b[0;32mNone\u001b[0m\u001b[0;34m\u001b[0m\u001b[0;34m\u001b[0m\u001b[0m\n\u001b[1;32m     63\u001b[0m     \u001b[0;32mtry\u001b[0m\u001b[0;34m:\u001b[0m\u001b[0;34m\u001b[0m\u001b[0;34m\u001b[0m\u001b[0m\n\u001b[0;32m---> 64\u001b[0;31m       \u001b[0;32mreturn\u001b[0m \u001b[0mfn\u001b[0m\u001b[0;34m(\u001b[0m\u001b[0;34m*\u001b[0m\u001b[0margs\u001b[0m\u001b[0;34m,\u001b[0m \u001b[0;34m**\u001b[0m\u001b[0mkwargs\u001b[0m\u001b[0;34m)\u001b[0m\u001b[0;34m\u001b[0m\u001b[0;34m\u001b[0m\u001b[0m\n\u001b[0m\u001b[1;32m     65\u001b[0m     \u001b[0;32mexcept\u001b[0m \u001b[0mException\u001b[0m \u001b[0;32mas\u001b[0m \u001b[0me\u001b[0m\u001b[0;34m:\u001b[0m  \u001b[0;31m# pylint: disable=broad-except\u001b[0m\u001b[0;34m\u001b[0m\u001b[0;34m\u001b[0m\u001b[0m\n\u001b[1;32m     66\u001b[0m       \u001b[0mfiltered_tb\u001b[0m \u001b[0;34m=\u001b[0m \u001b[0m_process_traceback_frames\u001b[0m\u001b[0;34m(\u001b[0m\u001b[0me\u001b[0m\u001b[0;34m.\u001b[0m\u001b[0m__traceback__\u001b[0m\u001b[0;34m)\u001b[0m\u001b[0;34m\u001b[0m\u001b[0;34m\u001b[0m\u001b[0m\n",
            "\u001b[0;32m/usr/local/lib/python3.7/dist-packages/keras/engine/training.py\u001b[0m in \u001b[0;36mfit\u001b[0;34m(self, x, y, batch_size, epochs, verbose, callbacks, validation_split, validation_data, shuffle, class_weight, sample_weight, initial_epoch, steps_per_epoch, validation_steps, validation_batch_size, validation_freq, max_queue_size, workers, use_multiprocessing)\u001b[0m\n\u001b[1;32m   1382\u001b[0m                 _r=1):\n\u001b[1;32m   1383\u001b[0m               \u001b[0mcallbacks\u001b[0m\u001b[0;34m.\u001b[0m\u001b[0mon_train_batch_begin\u001b[0m\u001b[0;34m(\u001b[0m\u001b[0mstep\u001b[0m\u001b[0;34m)\u001b[0m\u001b[0;34m\u001b[0m\u001b[0;34m\u001b[0m\u001b[0m\n\u001b[0;32m-> 1384\u001b[0;31m               \u001b[0mtmp_logs\u001b[0m \u001b[0;34m=\u001b[0m \u001b[0mself\u001b[0m\u001b[0;34m.\u001b[0m\u001b[0mtrain_function\u001b[0m\u001b[0;34m(\u001b[0m\u001b[0miterator\u001b[0m\u001b[0;34m)\u001b[0m\u001b[0;34m\u001b[0m\u001b[0;34m\u001b[0m\u001b[0m\n\u001b[0m\u001b[1;32m   1385\u001b[0m               \u001b[0;32mif\u001b[0m \u001b[0mdata_handler\u001b[0m\u001b[0;34m.\u001b[0m\u001b[0mshould_sync\u001b[0m\u001b[0;34m:\u001b[0m\u001b[0;34m\u001b[0m\u001b[0;34m\u001b[0m\u001b[0m\n\u001b[1;32m   1386\u001b[0m                 \u001b[0mcontext\u001b[0m\u001b[0;34m.\u001b[0m\u001b[0masync_wait\u001b[0m\u001b[0;34m(\u001b[0m\u001b[0;34m)\u001b[0m\u001b[0;34m\u001b[0m\u001b[0;34m\u001b[0m\u001b[0m\n",
            "\u001b[0;32m/usr/local/lib/python3.7/dist-packages/tensorflow/python/util/traceback_utils.py\u001b[0m in \u001b[0;36merror_handler\u001b[0;34m(*args, **kwargs)\u001b[0m\n\u001b[1;32m    148\u001b[0m     \u001b[0mfiltered_tb\u001b[0m \u001b[0;34m=\u001b[0m \u001b[0;32mNone\u001b[0m\u001b[0;34m\u001b[0m\u001b[0;34m\u001b[0m\u001b[0m\n\u001b[1;32m    149\u001b[0m     \u001b[0;32mtry\u001b[0m\u001b[0;34m:\u001b[0m\u001b[0;34m\u001b[0m\u001b[0;34m\u001b[0m\u001b[0m\n\u001b[0;32m--> 150\u001b[0;31m       \u001b[0;32mreturn\u001b[0m \u001b[0mfn\u001b[0m\u001b[0;34m(\u001b[0m\u001b[0;34m*\u001b[0m\u001b[0margs\u001b[0m\u001b[0;34m,\u001b[0m \u001b[0;34m**\u001b[0m\u001b[0mkwargs\u001b[0m\u001b[0;34m)\u001b[0m\u001b[0;34m\u001b[0m\u001b[0;34m\u001b[0m\u001b[0m\n\u001b[0m\u001b[1;32m    151\u001b[0m     \u001b[0;32mexcept\u001b[0m \u001b[0mException\u001b[0m \u001b[0;32mas\u001b[0m \u001b[0me\u001b[0m\u001b[0;34m:\u001b[0m\u001b[0;34m\u001b[0m\u001b[0;34m\u001b[0m\u001b[0m\n\u001b[1;32m    152\u001b[0m       \u001b[0mfiltered_tb\u001b[0m \u001b[0;34m=\u001b[0m \u001b[0m_process_traceback_frames\u001b[0m\u001b[0;34m(\u001b[0m\u001b[0me\u001b[0m\u001b[0;34m.\u001b[0m\u001b[0m__traceback__\u001b[0m\u001b[0;34m)\u001b[0m\u001b[0;34m\u001b[0m\u001b[0;34m\u001b[0m\u001b[0m\n",
            "\u001b[0;32m/usr/local/lib/python3.7/dist-packages/tensorflow/python/eager/def_function.py\u001b[0m in \u001b[0;36m__call__\u001b[0;34m(self, *args, **kwds)\u001b[0m\n\u001b[1;32m    913\u001b[0m \u001b[0;34m\u001b[0m\u001b[0m\n\u001b[1;32m    914\u001b[0m       \u001b[0;32mwith\u001b[0m \u001b[0mOptionalXlaContext\u001b[0m\u001b[0;34m(\u001b[0m\u001b[0mself\u001b[0m\u001b[0;34m.\u001b[0m\u001b[0m_jit_compile\u001b[0m\u001b[0;34m)\u001b[0m\u001b[0;34m:\u001b[0m\u001b[0;34m\u001b[0m\u001b[0;34m\u001b[0m\u001b[0m\n\u001b[0;32m--> 915\u001b[0;31m         \u001b[0mresult\u001b[0m \u001b[0;34m=\u001b[0m \u001b[0mself\u001b[0m\u001b[0;34m.\u001b[0m\u001b[0m_call\u001b[0m\u001b[0;34m(\u001b[0m\u001b[0;34m*\u001b[0m\u001b[0margs\u001b[0m\u001b[0;34m,\u001b[0m \u001b[0;34m**\u001b[0m\u001b[0mkwds\u001b[0m\u001b[0;34m)\u001b[0m\u001b[0;34m\u001b[0m\u001b[0;34m\u001b[0m\u001b[0m\n\u001b[0m\u001b[1;32m    916\u001b[0m \u001b[0;34m\u001b[0m\u001b[0m\n\u001b[1;32m    917\u001b[0m       \u001b[0mnew_tracing_count\u001b[0m \u001b[0;34m=\u001b[0m \u001b[0mself\u001b[0m\u001b[0;34m.\u001b[0m\u001b[0mexperimental_get_tracing_count\u001b[0m\u001b[0;34m(\u001b[0m\u001b[0;34m)\u001b[0m\u001b[0;34m\u001b[0m\u001b[0;34m\u001b[0m\u001b[0m\n",
            "\u001b[0;32m/usr/local/lib/python3.7/dist-packages/tensorflow/python/eager/def_function.py\u001b[0m in \u001b[0;36m_call\u001b[0;34m(self, *args, **kwds)\u001b[0m\n\u001b[1;32m    945\u001b[0m       \u001b[0;31m# In this case we have created variables on the first call, so we run the\u001b[0m\u001b[0;34m\u001b[0m\u001b[0;34m\u001b[0m\u001b[0;34m\u001b[0m\u001b[0m\n\u001b[1;32m    946\u001b[0m       \u001b[0;31m# defunned version which is guaranteed to never create variables.\u001b[0m\u001b[0;34m\u001b[0m\u001b[0;34m\u001b[0m\u001b[0;34m\u001b[0m\u001b[0m\n\u001b[0;32m--> 947\u001b[0;31m       \u001b[0;32mreturn\u001b[0m \u001b[0mself\u001b[0m\u001b[0;34m.\u001b[0m\u001b[0m_stateless_fn\u001b[0m\u001b[0;34m(\u001b[0m\u001b[0;34m*\u001b[0m\u001b[0margs\u001b[0m\u001b[0;34m,\u001b[0m \u001b[0;34m**\u001b[0m\u001b[0mkwds\u001b[0m\u001b[0;34m)\u001b[0m  \u001b[0;31m# pylint: disable=not-callable\u001b[0m\u001b[0;34m\u001b[0m\u001b[0;34m\u001b[0m\u001b[0m\n\u001b[0m\u001b[1;32m    948\u001b[0m     \u001b[0;32melif\u001b[0m \u001b[0mself\u001b[0m\u001b[0;34m.\u001b[0m\u001b[0m_stateful_fn\u001b[0m \u001b[0;32mis\u001b[0m \u001b[0;32mnot\u001b[0m \u001b[0;32mNone\u001b[0m\u001b[0;34m:\u001b[0m\u001b[0;34m\u001b[0m\u001b[0;34m\u001b[0m\u001b[0m\n\u001b[1;32m    949\u001b[0m       \u001b[0;31m# Release the lock early so that multiple threads can perform the call\u001b[0m\u001b[0;34m\u001b[0m\u001b[0;34m\u001b[0m\u001b[0;34m\u001b[0m\u001b[0m\n",
            "\u001b[0;32m/usr/local/lib/python3.7/dist-packages/tensorflow/python/eager/function.py\u001b[0m in \u001b[0;36m__call__\u001b[0;34m(self, *args, **kwargs)\u001b[0m\n\u001b[1;32m   2955\u001b[0m        filtered_flat_args) = self._maybe_define_function(args, kwargs)\n\u001b[1;32m   2956\u001b[0m     return graph_function._call_flat(\n\u001b[0;32m-> 2957\u001b[0;31m         filtered_flat_args, captured_inputs=graph_function.captured_inputs)  # pylint: disable=protected-access\n\u001b[0m\u001b[1;32m   2958\u001b[0m \u001b[0;34m\u001b[0m\u001b[0m\n\u001b[1;32m   2959\u001b[0m   \u001b[0;34m@\u001b[0m\u001b[0mproperty\u001b[0m\u001b[0;34m\u001b[0m\u001b[0;34m\u001b[0m\u001b[0m\n",
            "\u001b[0;32m/usr/local/lib/python3.7/dist-packages/tensorflow/python/eager/function.py\u001b[0m in \u001b[0;36m_call_flat\u001b[0;34m(self, args, captured_inputs, cancellation_manager)\u001b[0m\n\u001b[1;32m   1852\u001b[0m       \u001b[0;31m# No tape is watching; skip to running the function.\u001b[0m\u001b[0;34m\u001b[0m\u001b[0;34m\u001b[0m\u001b[0;34m\u001b[0m\u001b[0m\n\u001b[1;32m   1853\u001b[0m       return self._build_call_outputs(self._inference_function.call(\n\u001b[0;32m-> 1854\u001b[0;31m           ctx, args, cancellation_manager=cancellation_manager))\n\u001b[0m\u001b[1;32m   1855\u001b[0m     forward_backward = self._select_forward_and_backward_functions(\n\u001b[1;32m   1856\u001b[0m         \u001b[0margs\u001b[0m\u001b[0;34m,\u001b[0m\u001b[0;34m\u001b[0m\u001b[0;34m\u001b[0m\u001b[0m\n",
            "\u001b[0;32m/usr/local/lib/python3.7/dist-packages/tensorflow/python/eager/function.py\u001b[0m in \u001b[0;36mcall\u001b[0;34m(self, ctx, args, cancellation_manager)\u001b[0m\n\u001b[1;32m    502\u001b[0m               \u001b[0minputs\u001b[0m\u001b[0;34m=\u001b[0m\u001b[0margs\u001b[0m\u001b[0;34m,\u001b[0m\u001b[0;34m\u001b[0m\u001b[0;34m\u001b[0m\u001b[0m\n\u001b[1;32m    503\u001b[0m               \u001b[0mattrs\u001b[0m\u001b[0;34m=\u001b[0m\u001b[0mattrs\u001b[0m\u001b[0;34m,\u001b[0m\u001b[0;34m\u001b[0m\u001b[0;34m\u001b[0m\u001b[0m\n\u001b[0;32m--> 504\u001b[0;31m               ctx=ctx)\n\u001b[0m\u001b[1;32m    505\u001b[0m         \u001b[0;32melse\u001b[0m\u001b[0;34m:\u001b[0m\u001b[0;34m\u001b[0m\u001b[0;34m\u001b[0m\u001b[0m\n\u001b[1;32m    506\u001b[0m           outputs = execute.execute_with_cancellation(\n",
            "\u001b[0;32m/usr/local/lib/python3.7/dist-packages/tensorflow/python/eager/execute.py\u001b[0m in \u001b[0;36mquick_execute\u001b[0;34m(op_name, num_outputs, inputs, attrs, ctx, name)\u001b[0m\n\u001b[1;32m     53\u001b[0m     \u001b[0mctx\u001b[0m\u001b[0;34m.\u001b[0m\u001b[0mensure_initialized\u001b[0m\u001b[0;34m(\u001b[0m\u001b[0;34m)\u001b[0m\u001b[0;34m\u001b[0m\u001b[0;34m\u001b[0m\u001b[0m\n\u001b[1;32m     54\u001b[0m     tensors = pywrap_tfe.TFE_Py_Execute(ctx._handle, device_name, op_name,\n\u001b[0;32m---> 55\u001b[0;31m                                         inputs, attrs, num_outputs)\n\u001b[0m\u001b[1;32m     56\u001b[0m   \u001b[0;32mexcept\u001b[0m \u001b[0mcore\u001b[0m\u001b[0;34m.\u001b[0m\u001b[0m_NotOkStatusException\u001b[0m \u001b[0;32mas\u001b[0m \u001b[0me\u001b[0m\u001b[0;34m:\u001b[0m\u001b[0;34m\u001b[0m\u001b[0;34m\u001b[0m\u001b[0m\n\u001b[1;32m     57\u001b[0m     \u001b[0;32mif\u001b[0m \u001b[0mname\u001b[0m \u001b[0;32mis\u001b[0m \u001b[0;32mnot\u001b[0m \u001b[0;32mNone\u001b[0m\u001b[0;34m:\u001b[0m\u001b[0;34m\u001b[0m\u001b[0;34m\u001b[0m\u001b[0m\n",
            "\u001b[0;31mKeyboardInterrupt\u001b[0m: "
          ]
        }
      ],
      "source": [
        "history = model1.fit(X_train, y_train, epochs = 10, validation_data= (X_test, y_test), callbacks=callbacks)"
      ]
    },
    {
      "cell_type": "code",
      "execution_count": null,
      "metadata": {
        "colab": {
          "base_uri": "https://localhost:8080/"
        },
        "id": "xpTVpvHDjYp1",
        "outputId": "8d31474c-5d17-44d5-cc4d-1e1aa0d118e1"
      },
      "outputs": [
        {
          "data": {
            "text/plain": [
              "(359, 3)"
            ]
          },
          "execution_count": 131,
          "metadata": {},
          "output_type": "execute_result"
        }
      ],
      "source": [
        "transformed.shape"
      ]
    },
    {
      "cell_type": "code",
      "execution_count": null,
      "metadata": {
        "id": "3sx8Jbndu-G0"
      },
      "outputs": [],
      "source": [
        "Cust_rating1 = {2: 1, 1: 3 , 0: 0}\n"
      ]
    },
    {
      "cell_type": "code",
      "execution_count": null,
      "metadata": {
        "id": "7hQftPrNwFZq"
      },
      "outputs": [],
      "source": [
        "df6 = df5\n",
        "df6 = df6[0].map(Cust_rating1)"
      ]
    },
    {
      "cell_type": "code",
      "execution_count": null,
      "metadata": {
        "colab": {
          "base_uri": "https://localhost:8080/"
        },
        "id": "jcKKqWxpwfwH",
        "outputId": "8225b40d-253b-49d0-e677-31ca7db0c7aa"
      },
      "outputs": [
        {
          "name": "stdout",
          "output_type": "stream",
          "text": [
            "0      1\n",
            "1      1\n",
            "2      1\n",
            "3      1\n",
            "4      1\n",
            "      ..\n",
            "354    0\n",
            "355    0\n",
            "356    0\n",
            "357    0\n",
            "358    0\n",
            "Name: 0, Length: 359, dtype: int64\n"
          ]
        }
      ],
      "source": [
        "print(df6)"
      ]
    },
    {
      "cell_type": "code",
      "execution_count": null,
      "metadata": {
        "id": "DM140jOhxhRZ"
      },
      "outputs": [],
      "source": [
        "c = df6.to_numpy()"
      ]
    },
    {
      "cell_type": "code",
      "execution_count": null,
      "metadata": {
        "colab": {
          "base_uri": "https://localhost:8080/"
        },
        "id": "jKL3vyARX3u8",
        "outputId": "9dc85741-2a5e-42ad-c951-e1eb8b36282c"
      },
      "outputs": [
        {
          "name": "stdout",
          "output_type": "stream",
          "text": [
            "[1 1 1 1 1 1 3 3 3 3 3 3 0 0 0 0 0 0 1 1 1 1 1 1 3 3 3 3 3 3 0 0 0 0 0 0 1\n",
            " 1 1 1 1 1 3 3 3 3 3 3 0 0 0 0 0 0 1 1 1 1 1 1 3 3 3 3 3 3 0 0 0 0 0 0 1 1\n",
            " 1 1 1 1 3 3 3 3 3 3 0 0 0 0 0 0 1 1 1 1 1 1 3 3 3 3 3 3 0 0 0 0 0 0 1 1 1\n",
            " 1 1 1 3 3 3 3 3 3 0 0 0 0 0 0 1 1 1 1 1 1 3 3 3 3 3 3 0 0 0 0 0 0 1 1 1 1\n",
            " 1 1 3 3 3 3 3 3 0 0 0 0 0 0 1 1 1 1 1 1 3 3 3 3 3 3 0 0 0 0 0 0 1 1 1 1 1\n",
            " 1 3 3 3 3 3 3 0 0 0 0 0 0 1 1 1 1 1 1 3 3 3 3 3 3 0 0 0 0 0 0 1 1 1 1 1 1\n",
            " 3 3 3 3 3 3 0 0 0 0 0 0 1 1 1 1 1 1 3 3 3 3 3 3 0 0 0 0 0 0 1 1 1 1 1 1 3\n",
            " 3 3 3 3 3 0 0 0 0 0 0 1 1 1 1 1 1 3 3 3 3 3 3 0 0 0 0 0 0 1 1 1 1 1 1 3 3\n",
            " 3 3 3 3 0 0 0 0 0 0 1 1 1 1 1 1 3 3 3 3 3 3 0 0 0 0 0 0 1 1 1 1 1 1 3 3 3\n",
            " 3 3 3 0 0 0 0 0 0 1 1 1 1 1 1 3 3 3 3 3 3 0 0 0 0 0]\n"
          ]
        }
      ],
      "source": [
        "print(c)"
      ]
    },
    {
      "cell_type": "code",
      "execution_count": null,
      "metadata": {
        "id": "cQtTSTUhX381"
      },
      "outputs": [],
      "source": []
    },
    {
      "cell_type": "code",
      "execution_count": null,
      "metadata": {
        "id": "wblVlbYBxEPq"
      },
      "outputs": [],
      "source": [
        "df6.to_csv('/content/df6.csv')"
      ]
    },
    {
      "cell_type": "code",
      "execution_count": null,
      "metadata": {
        "colab": {
          "base_uri": "https://localhost:8080/"
        },
        "id": "CSg9u8ThujI5",
        "outputId": "86b6c5b3-5356-4d3e-af12-f7bb40826949"
      },
      "outputs": [
        {
          "data": {
            "text/plain": [
              "(359, 1500, 6)"
            ]
          },
          "execution_count": 38,
          "metadata": {},
          "output_type": "execute_result"
        }
      ],
      "source": [
        "X.shape"
      ]
    },
    {
      "cell_type": "code",
      "execution_count": null,
      "metadata": {
        "id": "-_p9WkszWtcQ"
      },
      "outputs": [],
      "source": [
        "y = c"
      ]
    },
    {
      "cell_type": "code",
      "execution_count": null,
      "metadata": {
        "colab": {
          "base_uri": "https://localhost:8080/"
        },
        "id": "FjCDwjkjXgrS",
        "outputId": "b5284d3c-275e-4c0a-df10-d933bc2cec7c"
      },
      "outputs": [
        {
          "name": "stdout",
          "output_type": "stream",
          "text": [
            "[1 1 1 1 1 1 3 3 3 3 3 3 0 0 0 0 0 0 1 1 1 1 1 1 3 3 3 3 3 3 0 0 0 0 0 0 1\n",
            " 1 1 1 1 1 3 3 3 3 3 3 0 0 0 0 0 0 1 1 1 1 1 1 3 3 3 3 3 3 0 0 0 0 0 0 1 1\n",
            " 1 1 1 1 3 3 3 3 3 3 0 0 0 0 0 0 1 1 1 1 1 1 3 3 3 3 3 3 0 0 0 0 0 0 1 1 1\n",
            " 1 1 1 3 3 3 3 3 3 0 0 0 0 0 0 1 1 1 1 1 1 3 3 3 3 3 3 0 0 0 0 0 0 1 1 1 1\n",
            " 1 1 3 3 3 3 3 3 0 0 0 0 0 0 1 1 1 1 1 1 3 3 3 3 3 3 0 0 0 0 0 0 1 1 1 1 1\n",
            " 1 3 3 3 3 3 3 0 0 0 0 0 0 1 1 1 1 1 1 3 3 3 3 3 3 0 0 0 0 0 0 1 1 1 1 1 1\n",
            " 3 3 3 3 3 3 0 0 0 0 0 0 1 1 1 1 1 1 3 3 3 3 3 3 0 0 0 0 0 0 1 1 1 1 1 1 3\n",
            " 3 3 3 3 3 0 0 0 0 0 0 1 1 1 1 1 1 3 3 3 3 3 3 0 0 0 0 0 0 1 1 1 1 1 1 3 3\n",
            " 3 3 3 3 0 0 0 0 0 0 1 1 1 1 1 1 3 3 3 3 3 3 0 0 0 0 0 0 1 1 1 1 1 1 3 3 3\n",
            " 3 3 3 0 0 0 0 0 0 1 1 1 1 1 1 3 3 3 3 3 3 0 0 0 0 0]\n"
          ]
        }
      ],
      "source": [
        "print(y)"
      ]
    },
    {
      "cell_type": "code",
      "execution_count": null,
      "metadata": {
        "colab": {
          "base_uri": "https://localhost:8080/"
        },
        "id": "xr9sN384Zsl2",
        "outputId": "23ed87ad-032c-428a-a584-057f66ab6629"
      },
      "outputs": [
        {
          "data": {
            "text/plain": [
              "((359, 1500, 6), (359,))"
            ]
          },
          "execution_count": 47,
          "metadata": {},
          "output_type": "execute_result"
        }
      ],
      "source": [
        "X.shape, y.shape"
      ]
    },
    {
      "cell_type": "code",
      "execution_count": null,
      "metadata": {
        "id": "6KzdSmpTZ0iT"
      },
      "outputs": [],
      "source": [
        "for i in y:\n",
        "  if i == 1:\n",
        "    "
      ]
    },
    {
      "cell_type": "code",
      "execution_count": null,
      "metadata": {
        "id": "di0Rhw5VZ0lL"
      },
      "outputs": [],
      "source": []
    },
    {
      "cell_type": "code",
      "execution_count": null,
      "metadata": {
        "colab": {
          "base_uri": "https://localhost:8080/"
        },
        "id": "6JyjcxxbcbA9",
        "outputId": "85a802d8-0308-4638-c984-caceaa1e801a"
      },
      "outputs": [
        {
          "name": "stdout",
          "output_type": "stream",
          "text": [
            "X_train shape  (287, 1500, 6)\n",
            "Y train shape  (287,)\n",
            "X_test shape  (72, 1500, 6)\n",
            "y_test shape  (72,)\n"
          ]
        }
      ],
      "source": [
        "from  sklearn.model_selection import train_test_split\n",
        "\n",
        "X_train,X_test,y_train, y_test =train_test_split(X, y, test_size = 0.2, random_state = 0, stratify = y)\n",
        "\n",
        "print(\"X_train shape \", X_train.shape)\n",
        "print(\"Y train shape \", y_train.shape)\n",
        "print(\"X_test shape \", X_test.shape)\n",
        "print(\"y_test shape \", y_test.shape)"
      ]
    },
    {
      "cell_type": "code",
      "execution_count": null,
      "metadata": {
        "colab": {
          "base_uri": "https://localhost:8080/"
        },
        "id": "ezxMpHEyaGW7",
        "outputId": "96d88e47-db5a-4c34-b32c-233fd82d9be0"
      },
      "outputs": [
        {
          "data": {
            "text/plain": [
              "((1500, 6), (1500, 6))"
            ]
          },
          "execution_count": 97,
          "metadata": {},
          "output_type": "execute_result"
        }
      ],
      "source": [
        "X_train[0].shape, X_test[0].shape"
      ]
    },
    {
      "cell_type": "code",
      "execution_count": null,
      "metadata": {
        "id": "92Y-sqlJaLIZ"
      },
      "outputs": [],
      "source": [
        "X_train1 = X_train.reshape(269, 1500, 6, 1)\n",
        "X_test1 = X_test.reshape(90, 1500, 6, 1)"
      ]
    },
    {
      "cell_type": "code",
      "execution_count": null,
      "metadata": {
        "colab": {
          "base_uri": "https://localhost:8080/"
        },
        "id": "levc4Uv3aa1A",
        "outputId": "93556bde-c9ca-4594-e97b-26c4898fa0ef"
      },
      "outputs": [
        {
          "data": {
            "text/plain": [
              "((1500, 6, 1), (1500, 6, 1))"
            ]
          },
          "execution_count": 90,
          "metadata": {},
          "output_type": "execute_result"
        }
      ],
      "source": [
        "X_train1[0].shape, X_test1[0].shape"
      ]
    },
    {
      "cell_type": "code",
      "execution_count": null,
      "metadata": {
        "id": "ZW-D7LUorfgz"
      },
      "outputs": [],
      "source": [
        "from keras.layers import RepeatVector\n",
        "from keras.layers import TimeDistributed, LSTM, Dense, GRU, Dropout, BatchNormalization, Flatten\n",
        "from keras.models import Sequential\n",
        "import tensorflow as tf\n",
        "from tensorflow.keras.optimizers import Adam\n",
        "import matplotlib.pyplot as plt"
      ]
    },
    {
      "cell_type": "code",
      "execution_count": null,
      "metadata": {
        "id": "Nid_kK4CrfqG"
      },
      "outputs": [],
      "source": [
        "model2 = Sequential()\n",
        "model2.add(GRU(32,input_shape=X_train[0].shape, return_sequences = True, name='GRU_1'))\n",
        "\n"
      ]
    },
    {
      "cell_type": "markdown",
      "metadata": {
        "id": "Ji1uL062ak2q"
      },
      "source": [
        "**GRU MODEL**\n",
        "---"
      ]
    },
    {
      "cell_type": "code",
      "execution_count": null,
      "metadata": {
        "id": "UhXPHe_mbGSe"
      },
      "outputs": [],
      "source": [
        "from keras.layers import RepeatVector\n",
        "from keras.layers import TimeDistributed, LSTM, Dense, GRU, Dropout, BatchNormalization, Flatten\n",
        "from keras.models import Sequential\n",
        "import tensorflow as tf\n",
        "from tensorflow.keras.optimizers import Adam\n",
        "import matplotlib.pyplot as plt"
      ]
    },
    {
      "cell_type": "code",
      "execution_count": null,
      "metadata": {
        "id": "y90yhXWQan4y"
      },
      "outputs": [],
      "source": [
        "model = Sequential()\n",
        "model.add(GRU(32, dropout=0.2, recurrent_dropout=0.2, input_shape=(1500, 6), return_sequences = True, name='GRU_1'))\n",
        "#model.add(GRU(64,  dropout=0.3, recurrent_dropout=0.3, return_sequences = True))\n",
        "model.add(Flatten(name='flatten')) \n",
        "# model.add(Dense(256, activation = 'relu', ))\n",
        "#model.add(Dropout(0.2))\n",
        "model.add(Dense(8, activation = 'relu', name='dense_1'))\n",
        "#model.add(BatchNormalization())\n",
        "# model.add(Dropout(0.2))\n",
        "# model.add(Dense(64, activation = 'relu'))\n",
        "model.add(Dense(len(np.unique(y_train)), activation='softmax', \n",
        "                name='output'))"
      ]
    },
    {
      "cell_type": "code",
      "execution_count": null,
      "metadata": {
        "id": "HSTx0mLWeqVm"
      },
      "outputs": [],
      "source": [
        "model1 = Sequential()\n",
        "model1.add(GRU(256, dropout=0.2, recurrent_dropout=0.2, input_shape=X_train[0].shape, return_sequences = True))\n",
        "model1.add(GRU(512,  dropout=0.3, recurrent_dropout=0.3, return_sequences = True)) \n",
        "model1.add(Dense(256, activation = 'relu'))\n",
        "model1.add(Dropout(0.2))\n",
        "model1.add(Dense(64, activation = 'relu'))\n",
        "model1.add(BatchNormalization())\n",
        "# model.add(Dropout(0.2))\n",
        "# model.add(Dense(64, activation = 'relu'))\n",
        "model1.add(Dense(len(np.unique(y_train)), activation='softmax', \n",
        "                name='output1'))\n",
        "\n",
        "model1.compile(optimizer='adam', loss='categorical_crossentropy', metrics = ['accuracy', tf.keras.metrics.Precision(), tf.keras.metrics.Recall()])"
      ]
    },
    {
      "cell_type": "code",
      "execution_count": null,
      "metadata": {
        "colab": {
          "base_uri": "https://localhost:8080/"
        },
        "id": "8tc5EjLvan7x",
        "outputId": "3bfdbddd-aeab-450f-ecf7-d328d466e6a0"
      },
      "outputs": [
        {
          "name": "stdout",
          "output_type": "stream",
          "text": [
            "Model: \"sequential_5\"\n",
            "_________________________________________________________________\n",
            " Layer (type)                Output Shape              Param #   \n",
            "=================================================================\n",
            " GRU_1 (GRU)                 (None, 1500, 32)          3840      \n",
            "                                                                 \n",
            " flatten (Flatten)           (None, 48000)             0         \n",
            "                                                                 \n",
            " dense_1 (Dense)             (None, 8)                 384008    \n",
            "                                                                 \n",
            " output (Dense)              (None, 3)                 27        \n",
            "                                                                 \n",
            "=================================================================\n",
            "Total params: 387,875\n",
            "Trainable params: 387,875\n",
            "Non-trainable params: 0\n",
            "_________________________________________________________________\n"
          ]
        }
      ],
      "source": [
        "model.summary()"
      ]
    },
    {
      "cell_type": "code",
      "execution_count": null,
      "metadata": {
        "colab": {
          "base_uri": "https://localhost:8080/"
        },
        "id": "rE1ZA0Hre2yX",
        "outputId": "3c406972-02e8-4a34-d4fb-985b25f5fa6e"
      },
      "outputs": [
        {
          "name": "stdout",
          "output_type": "stream",
          "text": [
            "Model: \"sequential_14\"\n",
            "_________________________________________________________________\n",
            " Layer (type)                Output Shape              Param #   \n",
            "=================================================================\n",
            " gru_12 (GRU)                (None, 1500, 256)         202752    \n",
            "                                                                 \n",
            " gru_13 (GRU)                (None, 1500, 512)         1182720   \n",
            "                                                                 \n",
            " dense_10 (Dense)            (None, 1500, 256)         131328    \n",
            "                                                                 \n",
            " dropout_4 (Dropout)         (None, 1500, 256)         0         \n",
            "                                                                 \n",
            " dense_11 (Dense)            (None, 1500, 64)          16448     \n",
            "                                                                 \n",
            " batch_normalization_4 (Batc  (None, 1500, 64)         256       \n",
            " hNormalization)                                                 \n",
            "                                                                 \n",
            " output1 (Dense)             (None, 1500, 3)           195       \n",
            "                                                                 \n",
            "=================================================================\n",
            "Total params: 1,533,699\n",
            "Trainable params: 1,533,571\n",
            "Non-trainable params: 128\n",
            "_________________________________________________________________\n"
          ]
        }
      ],
      "source": [
        "model1.summary()"
      ]
    },
    {
      "cell_type": "code",
      "execution_count": null,
      "metadata": {
        "id": "A_UX1laIaoKA"
      },
      "outputs": [],
      "source": [
        "model.compile(optimizer='adam', loss='categorical_crossentropy', metrics = ['accuracy', tf.keras.metrics.Precision(), tf.keras.metrics.Recall()])"
      ]
    },
    {
      "cell_type": "code",
      "execution_count": null,
      "metadata": {
        "id": "LGK0yRwee-Bo"
      },
      "outputs": [],
      "source": [
        "model1.compile(optimizer='adam', loss='categorical_crossentropy', metrics = ['accuracy', tf.keras.metrics.Precision(), tf.keras.metrics.Recall()])"
      ]
    },
    {
      "cell_type": "code",
      "execution_count": null,
      "metadata": {
        "colab": {
          "base_uri": "https://localhost:8080/",
          "height": 165
        },
        "id": "sdfxZCKhcRDQ",
        "outputId": "9fe1493a-a019-4207-d0c2-c75e4226ad79"
      },
      "outputs": [
        {
          "ename": "NameError",
          "evalue": "ignored",
          "output_type": "error",
          "traceback": [
            "\u001b[0;31m---------------------------------------------------------------------------\u001b[0m",
            "\u001b[0;31mNameError\u001b[0m                                 Traceback (most recent call last)",
            "\u001b[0;32m<ipython-input-125-181b86cc4129>\u001b[0m in \u001b[0;36m<module>\u001b[0;34m()\u001b[0m\n\u001b[0;32m----> 1\u001b[0;31m \u001b[0mhistory\u001b[0m \u001b[0;34m=\u001b[0m \u001b[0mmodel1\u001b[0m\u001b[0;34m.\u001b[0m\u001b[0mfit\u001b[0m\u001b[0;34m(\u001b[0m\u001b[0mX_train1\u001b[0m\u001b[0;34m,\u001b[0m \u001b[0my_train1\u001b[0m\u001b[0;34m,\u001b[0m \u001b[0mepochs\u001b[0m \u001b[0;34m=\u001b[0m \u001b[0;36m5\u001b[0m\u001b[0;34m)\u001b[0m\u001b[0;34m\u001b[0m\u001b[0;34m\u001b[0m\u001b[0m\n\u001b[0m",
            "\u001b[0;31mNameError\u001b[0m: name 'y_train1' is not defined"
          ]
        }
      ],
      "source": [
        "history = model1.fit(X_train1, y_train1, epochs = 5)"
      ]
    },
    {
      "cell_type": "code",
      "execution_count": null,
      "metadata": {
        "colab": {
          "base_uri": "https://localhost:8080/",
          "height": 727
        },
        "id": "kBfcsNm3cRNu",
        "outputId": "d3cb731b-d34f-4a41-b002-142450e5f541"
      },
      "outputs": [
        {
          "name": "stdout",
          "output_type": "stream",
          "text": [
            "Epoch 1/10\n"
          ]
        },
        {
          "ename": "ValueError",
          "evalue": "ignored",
          "output_type": "error",
          "traceback": [
            "\u001b[0;31m---------------------------------------------------------------------------\u001b[0m",
            "\u001b[0;31mValueError\u001b[0m                                Traceback (most recent call last)",
            "\u001b[0;32m<ipython-input-128-344a0ddd0b19>\u001b[0m in \u001b[0;36m<module>\u001b[0;34m()\u001b[0m\n\u001b[0;32m----> 1\u001b[0;31m \u001b[0mhistory\u001b[0m \u001b[0;34m=\u001b[0m \u001b[0mmodel1\u001b[0m\u001b[0;34m.\u001b[0m\u001b[0mfit\u001b[0m\u001b[0;34m(\u001b[0m\u001b[0mX_train1\u001b[0m\u001b[0;34m,\u001b[0m \u001b[0my_train\u001b[0m\u001b[0;34m,\u001b[0m \u001b[0mepochs\u001b[0m \u001b[0;34m=\u001b[0m \u001b[0;36m10\u001b[0m\u001b[0;34m,\u001b[0m \u001b[0mvalidation_data\u001b[0m\u001b[0;34m=\u001b[0m \u001b[0;34m(\u001b[0m\u001b[0mX_test1\u001b[0m\u001b[0;34m,\u001b[0m \u001b[0my_test\u001b[0m\u001b[0;34m)\u001b[0m\u001b[0;34m,\u001b[0m \u001b[0mverbose\u001b[0m\u001b[0;34m=\u001b[0m\u001b[0;36m1\u001b[0m\u001b[0;34m)\u001b[0m\u001b[0;34m\u001b[0m\u001b[0;34m\u001b[0m\u001b[0m\n\u001b[0m",
            "\u001b[0;32m/usr/local/lib/python3.7/dist-packages/keras/utils/traceback_utils.py\u001b[0m in \u001b[0;36merror_handler\u001b[0;34m(*args, **kwargs)\u001b[0m\n\u001b[1;32m     68\u001b[0m             \u001b[0;31m# To get the full stack trace, call:\u001b[0m\u001b[0;34m\u001b[0m\u001b[0;34m\u001b[0m\u001b[0;34m\u001b[0m\u001b[0m\n\u001b[1;32m     69\u001b[0m             \u001b[0;31m# `tf.debugging.disable_traceback_filtering()`\u001b[0m\u001b[0;34m\u001b[0m\u001b[0;34m\u001b[0m\u001b[0;34m\u001b[0m\u001b[0m\n\u001b[0;32m---> 70\u001b[0;31m             \u001b[0;32mraise\u001b[0m \u001b[0me\u001b[0m\u001b[0;34m.\u001b[0m\u001b[0mwith_traceback\u001b[0m\u001b[0;34m(\u001b[0m\u001b[0mfiltered_tb\u001b[0m\u001b[0;34m)\u001b[0m \u001b[0;32mfrom\u001b[0m \u001b[0;32mNone\u001b[0m\u001b[0;34m\u001b[0m\u001b[0;34m\u001b[0m\u001b[0m\n\u001b[0m\u001b[1;32m     71\u001b[0m         \u001b[0;32mfinally\u001b[0m\u001b[0;34m:\u001b[0m\u001b[0;34m\u001b[0m\u001b[0;34m\u001b[0m\u001b[0m\n\u001b[1;32m     72\u001b[0m             \u001b[0;32mdel\u001b[0m \u001b[0mfiltered_tb\u001b[0m\u001b[0;34m\u001b[0m\u001b[0;34m\u001b[0m\u001b[0m\n",
            "\u001b[0;32m/usr/local/lib/python3.7/dist-packages/keras/engine/training.py\u001b[0m in \u001b[0;36mtf__train_function\u001b[0;34m(iterator)\u001b[0m\n\u001b[1;32m     13\u001b[0m                 \u001b[0;32mtry\u001b[0m\u001b[0;34m:\u001b[0m\u001b[0;34m\u001b[0m\u001b[0;34m\u001b[0m\u001b[0m\n\u001b[1;32m     14\u001b[0m                     \u001b[0mdo_return\u001b[0m \u001b[0;34m=\u001b[0m \u001b[0;32mTrue\u001b[0m\u001b[0;34m\u001b[0m\u001b[0;34m\u001b[0m\u001b[0m\n\u001b[0;32m---> 15\u001b[0;31m                     \u001b[0mretval_\u001b[0m \u001b[0;34m=\u001b[0m \u001b[0mag__\u001b[0m\u001b[0;34m.\u001b[0m\u001b[0mconverted_call\u001b[0m\u001b[0;34m(\u001b[0m\u001b[0mag__\u001b[0m\u001b[0;34m.\u001b[0m\u001b[0mld\u001b[0m\u001b[0;34m(\u001b[0m\u001b[0mstep_function\u001b[0m\u001b[0;34m)\u001b[0m\u001b[0;34m,\u001b[0m \u001b[0;34m(\u001b[0m\u001b[0mag__\u001b[0m\u001b[0;34m.\u001b[0m\u001b[0mld\u001b[0m\u001b[0;34m(\u001b[0m\u001b[0mself\u001b[0m\u001b[0;34m)\u001b[0m\u001b[0;34m,\u001b[0m \u001b[0mag__\u001b[0m\u001b[0;34m.\u001b[0m\u001b[0mld\u001b[0m\u001b[0;34m(\u001b[0m\u001b[0miterator\u001b[0m\u001b[0;34m)\u001b[0m\u001b[0;34m)\u001b[0m\u001b[0;34m,\u001b[0m \u001b[0;32mNone\u001b[0m\u001b[0;34m,\u001b[0m \u001b[0mfscope\u001b[0m\u001b[0;34m)\u001b[0m\u001b[0;34m\u001b[0m\u001b[0;34m\u001b[0m\u001b[0m\n\u001b[0m\u001b[1;32m     16\u001b[0m                 \u001b[0;32mexcept\u001b[0m\u001b[0;34m:\u001b[0m\u001b[0;34m\u001b[0m\u001b[0;34m\u001b[0m\u001b[0m\n\u001b[1;32m     17\u001b[0m                     \u001b[0mdo_return\u001b[0m \u001b[0;34m=\u001b[0m \u001b[0;32mFalse\u001b[0m\u001b[0;34m\u001b[0m\u001b[0;34m\u001b[0m\u001b[0m\n",
            "\u001b[0;31mValueError\u001b[0m: in user code:\n\n    File \"/usr/local/lib/python3.7/dist-packages/keras/engine/training.py\", line 1160, in train_function  *\n        return step_function(self, iterator)\n    File \"/usr/local/lib/python3.7/dist-packages/keras/engine/training.py\", line 1146, in step_function  **\n        outputs = model.distribute_strategy.run(run_step, args=(data,))\n    File \"/usr/local/lib/python3.7/dist-packages/keras/engine/training.py\", line 1135, in run_step  **\n        outputs = model.train_step(data)\n    File \"/usr/local/lib/python3.7/dist-packages/keras/engine/training.py\", line 994, in train_step\n        loss = self.compute_loss(x, y, y_pred, sample_weight)\n    File \"/usr/local/lib/python3.7/dist-packages/keras/engine/training.py\", line 1053, in compute_loss\n        y, y_pred, sample_weight, regularization_losses=self.losses\n    File \"/usr/local/lib/python3.7/dist-packages/keras/engine/compile_utils.py\", line 265, in __call__\n        loss_value = loss_obj(y_t, y_p, sample_weight=sw)\n    File \"/usr/local/lib/python3.7/dist-packages/keras/losses.py\", line 152, in __call__\n        losses = call_fn(y_true, y_pred)\n    File \"/usr/local/lib/python3.7/dist-packages/keras/losses.py\", line 267, in call  **\n        return ag_fn(y_true, y_pred, **self._fn_kwargs)\n    File \"/usr/local/lib/python3.7/dist-packages/keras/losses.py\", line 1979, in categorical_crossentropy\n        y_true, y_pred, from_logits=from_logits, axis=axis\n    File \"/usr/local/lib/python3.7/dist-packages/keras/backend.py\", line 5494, in categorical_crossentropy\n        target.shape.assert_is_compatible_with(output.shape)\n\n    ValueError: Shapes (None,) and (None, 1500, 3) are incompatible\n"
          ]
        }
      ],
      "source": [
        "history = model1.fit(X_train1, y_train, epochs = 10, validation_data= (X_test1, y_test), verbose=1)"
      ]
    },
    {
      "cell_type": "code",
      "execution_count": null,
      "metadata": {
        "colab": {
          "base_uri": "https://localhost:8080/"
        },
        "id": "SeNTJyD3cbDw",
        "outputId": "2289d890-2faf-48df-fcb2-4fe7991018ae"
      },
      "outputs": [
        {
          "name": "stdout",
          "output_type": "stream",
          "text": [
            "270\n",
            "90\n"
          ]
        }
      ],
      "source": [
        "from keras.preprocessing.sequence import TimeseriesGenerator\n",
        "Fs = 50\n",
        "time_interval = Fs*30\n",
        "batchsize1 = int(405000/time_interval)\n",
        "batchsize2 = int(135000/time_interval)\n",
        "n_time_steps = Fs*6\n",
        "n_features = 6\n",
        "\n",
        "print(batchsize1)\n",
        "print(batchsize2)"
      ]
    },
    {
      "cell_type": "code",
      "execution_count": null,
      "metadata": {
        "id": "y5Jy9qEYcbGV"
      },
      "outputs": [],
      "source": [
        "train_gen = TimeseriesGenerator(X_train.to_numpy(), y_train, length=n_time_steps, batch_size=batchsize1)\n",
        "test_gen = TimeseriesGenerator(X_test.to_numpy(), y_test, length=n_time_steps, batch_size=batchsize2)"
      ]
    },
    {
      "cell_type": "code",
      "execution_count": null,
      "metadata": {
        "colab": {
          "base_uri": "https://localhost:8080/",
          "height": 165
        },
        "id": "ni9doKS-l7r2",
        "outputId": "2f618a03-f705-4de4-fa35-ee9aaa0be0db"
      },
      "outputs": [
        {
          "ename": "AttributeError",
          "evalue": "ignored",
          "output_type": "error",
          "traceback": [
            "\u001b[0;31m---------------------------------------------------------------------------\u001b[0m",
            "\u001b[0;31mAttributeError\u001b[0m                            Traceback (most recent call last)",
            "\u001b[0;32m<ipython-input-65-534aa22f6e9c>\u001b[0m in \u001b[0;36m<module>\u001b[0;34m()\u001b[0m\n\u001b[0;32m----> 1\u001b[0;31m \u001b[0mtrain_gen\u001b[0m\u001b[0;34m.\u001b[0m\u001b[0mshape\u001b[0m\u001b[0;34m\u001b[0m\u001b[0;34m\u001b[0m\u001b[0m\n\u001b[0m",
            "\u001b[0;31mAttributeError\u001b[0m: 'TimeseriesGenerator' object has no attribute 'shape'"
          ]
        }
      ],
      "source": []
    },
    {
      "cell_type": "code",
      "execution_count": null,
      "metadata": {
        "id": "-zUoMorccbIX"
      },
      "outputs": [],
      "source": [
        "from keras.layers import RepeatVector\n",
        "from keras.layers import TimeDistributed, LSTM, Dense, GRU, Dropout, BatchNormalization, Flatten\n",
        "from keras.models import Sequential\n",
        "import tensorflow as tf\n",
        "from tensorflow.keras.optimizers import Adam\n",
        "import matplotlib.pyplot as plt"
      ]
    },
    {
      "cell_type": "code",
      "execution_count": null,
      "metadata": {
        "id": "btngMpBlcbJ4"
      },
      "outputs": [],
      "source": [
        "model = Sequential()\n",
        "model.add(GRU(32, dropout=0.2, recurrent_dropout=0.2, input_shape=(n_time_steps, n_features), return_sequences = True, name='GRU_1'))\n",
        "#model.add(GRU(64,  dropout=0.3, recurrent_dropout=0.3, return_sequences = True))\n",
        "model.add(Flatten(name='flatten')) \n",
        "# model.add(Dense(256, activation = 'relu', ))\n",
        "#model.add(Dropout(0.2))\n",
        "model.add(Dense(32, activation = 'relu', name='dense_1'))\n",
        "#model.add(BatchNormalization())\n",
        "# model.add(Dropout(0.2))\n",
        "# model.add(Dense(64, activation = 'relu'))\n",
        "model.add(Dense(len(np.unique(y_train)), activation='softmax', \n",
        "                name='output'))"
      ]
    },
    {
      "cell_type": "code",
      "execution_count": null,
      "metadata": {
        "colab": {
          "base_uri": "https://localhost:8080/"
        },
        "id": "Ol2vNhMocbN3",
        "outputId": "67a18a7c-c246-4d39-a703-30ef51df24f7"
      },
      "outputs": [
        {
          "name": "stdout",
          "output_type": "stream",
          "text": [
            "Model: \"sequential_7\"\n",
            "_________________________________________________________________\n",
            " Layer (type)                Output Shape              Param #   \n",
            "=================================================================\n",
            " GRU_1 (GRU)                 (None, 300, 32)           3840      \n",
            "                                                                 \n",
            " flatten (Flatten)           (None, 9600)              0         \n",
            "                                                                 \n",
            " dense_1 (Dense)             (None, 32)                307232    \n",
            "                                                                 \n",
            " output (Dense)              (None, 3)                 99        \n",
            "                                                                 \n",
            "=================================================================\n",
            "Total params: 311,171\n",
            "Trainable params: 311,171\n",
            "Non-trainable params: 0\n",
            "_________________________________________________________________\n"
          ]
        }
      ],
      "source": [
        "model.summary()"
      ]
    },
    {
      "cell_type": "code",
      "execution_count": null,
      "metadata": {
        "id": "0EGGer5kbhpJ"
      },
      "outputs": [],
      "source": [
        "model.compile(optimizer='adam', loss='categorical_crossentropy', metrics = ['accuracy', tf.keras.metrics.Precision(), tf.keras.metrics.Recall()])"
      ]
    },
    {
      "cell_type": "code",
      "execution_count": null,
      "metadata": {
        "colab": {
          "base_uri": "https://localhost:8080/",
          "height": 727
        },
        "id": "55vWFohIbzjw",
        "outputId": "a0ea113a-f3a7-4502-9426-9bee07f5b6a5"
      },
      "outputs": [
        {
          "name": "stdout",
          "output_type": "stream",
          "text": [
            "Epoch 1/10\n"
          ]
        },
        {
          "ename": "ValueError",
          "evalue": "ignored",
          "output_type": "error",
          "traceback": [
            "\u001b[0;31m---------------------------------------------------------------------------\u001b[0m",
            "\u001b[0;31mValueError\u001b[0m                                Traceback (most recent call last)",
            "\u001b[0;32m<ipython-input-119-2983d9f93441>\u001b[0m in \u001b[0;36m<module>\u001b[0;34m()\u001b[0m\n\u001b[0;32m----> 1\u001b[0;31m \u001b[0mhistory\u001b[0m \u001b[0;34m=\u001b[0m \u001b[0mmodel1\u001b[0m\u001b[0;34m.\u001b[0m\u001b[0mfit\u001b[0m\u001b[0;34m(\u001b[0m\u001b[0mX_train\u001b[0m\u001b[0;34m,\u001b[0m \u001b[0my_train\u001b[0m\u001b[0;34m,\u001b[0m \u001b[0mepochs\u001b[0m \u001b[0;34m=\u001b[0m \u001b[0;36m10\u001b[0m\u001b[0;34m,\u001b[0m \u001b[0mvalidation_data\u001b[0m\u001b[0;34m=\u001b[0m \u001b[0;34m(\u001b[0m\u001b[0mX_test\u001b[0m\u001b[0;34m,\u001b[0m \u001b[0my_test\u001b[0m\u001b[0;34m)\u001b[0m\u001b[0;34m,\u001b[0m \u001b[0mverbose\u001b[0m\u001b[0;34m=\u001b[0m\u001b[0;36m1\u001b[0m\u001b[0;34m)\u001b[0m\u001b[0;34m\u001b[0m\u001b[0;34m\u001b[0m\u001b[0m\n\u001b[0m",
            "\u001b[0;32m/usr/local/lib/python3.7/dist-packages/keras/utils/traceback_utils.py\u001b[0m in \u001b[0;36merror_handler\u001b[0;34m(*args, **kwargs)\u001b[0m\n\u001b[1;32m     68\u001b[0m             \u001b[0;31m# To get the full stack trace, call:\u001b[0m\u001b[0;34m\u001b[0m\u001b[0;34m\u001b[0m\u001b[0;34m\u001b[0m\u001b[0m\n\u001b[1;32m     69\u001b[0m             \u001b[0;31m# `tf.debugging.disable_traceback_filtering()`\u001b[0m\u001b[0;34m\u001b[0m\u001b[0;34m\u001b[0m\u001b[0;34m\u001b[0m\u001b[0m\n\u001b[0;32m---> 70\u001b[0;31m             \u001b[0;32mraise\u001b[0m \u001b[0me\u001b[0m\u001b[0;34m.\u001b[0m\u001b[0mwith_traceback\u001b[0m\u001b[0;34m(\u001b[0m\u001b[0mfiltered_tb\u001b[0m\u001b[0;34m)\u001b[0m \u001b[0;32mfrom\u001b[0m \u001b[0;32mNone\u001b[0m\u001b[0;34m\u001b[0m\u001b[0;34m\u001b[0m\u001b[0m\n\u001b[0m\u001b[1;32m     71\u001b[0m         \u001b[0;32mfinally\u001b[0m\u001b[0;34m:\u001b[0m\u001b[0;34m\u001b[0m\u001b[0;34m\u001b[0m\u001b[0m\n\u001b[1;32m     72\u001b[0m             \u001b[0;32mdel\u001b[0m \u001b[0mfiltered_tb\u001b[0m\u001b[0;34m\u001b[0m\u001b[0;34m\u001b[0m\u001b[0m\n",
            "\u001b[0;32m/usr/local/lib/python3.7/dist-packages/keras/engine/training.py\u001b[0m in \u001b[0;36mtf__train_function\u001b[0;34m(iterator)\u001b[0m\n\u001b[1;32m     13\u001b[0m                 \u001b[0;32mtry\u001b[0m\u001b[0;34m:\u001b[0m\u001b[0;34m\u001b[0m\u001b[0;34m\u001b[0m\u001b[0m\n\u001b[1;32m     14\u001b[0m                     \u001b[0mdo_return\u001b[0m \u001b[0;34m=\u001b[0m \u001b[0;32mTrue\u001b[0m\u001b[0;34m\u001b[0m\u001b[0;34m\u001b[0m\u001b[0m\n\u001b[0;32m---> 15\u001b[0;31m                     \u001b[0mretval_\u001b[0m \u001b[0;34m=\u001b[0m \u001b[0mag__\u001b[0m\u001b[0;34m.\u001b[0m\u001b[0mconverted_call\u001b[0m\u001b[0;34m(\u001b[0m\u001b[0mag__\u001b[0m\u001b[0;34m.\u001b[0m\u001b[0mld\u001b[0m\u001b[0;34m(\u001b[0m\u001b[0mstep_function\u001b[0m\u001b[0;34m)\u001b[0m\u001b[0;34m,\u001b[0m \u001b[0;34m(\u001b[0m\u001b[0mag__\u001b[0m\u001b[0;34m.\u001b[0m\u001b[0mld\u001b[0m\u001b[0;34m(\u001b[0m\u001b[0mself\u001b[0m\u001b[0;34m)\u001b[0m\u001b[0;34m,\u001b[0m \u001b[0mag__\u001b[0m\u001b[0;34m.\u001b[0m\u001b[0mld\u001b[0m\u001b[0;34m(\u001b[0m\u001b[0miterator\u001b[0m\u001b[0;34m)\u001b[0m\u001b[0;34m)\u001b[0m\u001b[0;34m,\u001b[0m \u001b[0;32mNone\u001b[0m\u001b[0;34m,\u001b[0m \u001b[0mfscope\u001b[0m\u001b[0;34m)\u001b[0m\u001b[0;34m\u001b[0m\u001b[0;34m\u001b[0m\u001b[0m\n\u001b[0m\u001b[1;32m     16\u001b[0m                 \u001b[0;32mexcept\u001b[0m\u001b[0;34m:\u001b[0m\u001b[0;34m\u001b[0m\u001b[0;34m\u001b[0m\u001b[0m\n\u001b[1;32m     17\u001b[0m                     \u001b[0mdo_return\u001b[0m \u001b[0;34m=\u001b[0m \u001b[0;32mFalse\u001b[0m\u001b[0;34m\u001b[0m\u001b[0;34m\u001b[0m\u001b[0m\n",
            "\u001b[0;31mValueError\u001b[0m: in user code:\n\n    File \"/usr/local/lib/python3.7/dist-packages/keras/engine/training.py\", line 1160, in train_function  *\n        return step_function(self, iterator)\n    File \"/usr/local/lib/python3.7/dist-packages/keras/engine/training.py\", line 1146, in step_function  **\n        outputs = model.distribute_strategy.run(run_step, args=(data,))\n    File \"/usr/local/lib/python3.7/dist-packages/keras/engine/training.py\", line 1135, in run_step  **\n        outputs = model.train_step(data)\n    File \"/usr/local/lib/python3.7/dist-packages/keras/engine/training.py\", line 994, in train_step\n        loss = self.compute_loss(x, y, y_pred, sample_weight)\n    File \"/usr/local/lib/python3.7/dist-packages/keras/engine/training.py\", line 1053, in compute_loss\n        y, y_pred, sample_weight, regularization_losses=self.losses\n    File \"/usr/local/lib/python3.7/dist-packages/keras/engine/compile_utils.py\", line 265, in __call__\n        loss_value = loss_obj(y_t, y_p, sample_weight=sw)\n    File \"/usr/local/lib/python3.7/dist-packages/keras/losses.py\", line 152, in __call__\n        losses = call_fn(y_true, y_pred)\n    File \"/usr/local/lib/python3.7/dist-packages/keras/losses.py\", line 267, in call  **\n        return ag_fn(y_true, y_pred, **self._fn_kwargs)\n    File \"/usr/local/lib/python3.7/dist-packages/keras/losses.py\", line 1979, in categorical_crossentropy\n        y_true, y_pred, from_logits=from_logits, axis=axis\n    File \"/usr/local/lib/python3.7/dist-packages/keras/backend.py\", line 5494, in categorical_crossentropy\n        target.shape.assert_is_compatible_with(output.shape)\n\n    ValueError: Shapes (None,) and (None, 1500, 64) are incompatible\n"
          ]
        }
      ],
      "source": [
        "history = model1.fit(X_train, y_train, epochs = 10, validation_data= (X_test, y_test), verbose=1)"
      ]
    },
    {
      "cell_type": "code",
      "execution_count": null,
      "metadata": {
        "id": "tC29jwbCbzxC"
      },
      "outputs": [],
      "source": []
    },
    {
      "cell_type": "code",
      "execution_count": null,
      "metadata": {
        "id": "T91wAwVmkRLR"
      },
      "outputs": [],
      "source": [
        "#compile\n",
        "model.compile(loss='sparse_categorical_crossentropy', optimizer=Adam(), metrics=['accuracy'])"
      ]
    },
    {
      "cell_type": "code",
      "execution_count": null,
      "metadata": {
        "id": "K_J2xCSecbQl"
      },
      "outputs": [],
      "source": [
        "# prepare callbacks\n",
        "from keras.callbacks import ModelCheckpoint\n",
        "\n",
        "callbacks= [ModelCheckpoint('model.h5', save_weights_only=False, save_best_only=True, verbose=1)]"
      ]
    },
    {
      "cell_type": "code",
      "execution_count": null,
      "metadata": {
        "colab": {
          "base_uri": "https://localhost:8080/",
          "height": 328
        },
        "id": "RQK9e_NWih6q",
        "outputId": "34378798-b32c-43a8-b913-c41ba062e99b"
      },
      "outputs": [
        {
          "ename": "KeyError",
          "evalue": "ignored",
          "output_type": "error",
          "traceback": [
            "\u001b[0;31m---------------------------------------------------------------------------\u001b[0m",
            "\u001b[0;31mKeyError\u001b[0m                                  Traceback (most recent call last)",
            "\u001b[0;32m<ipython-input-64-761f0bdbdebd>\u001b[0m in \u001b[0;36m<module>\u001b[0;34m()\u001b[0m\n\u001b[1;32m      1\u001b[0m \u001b[0;31m#history = model.fit_generator(train_gen, epochs=, validation_data=test_gen, callbacks=callbacks)\u001b[0m\u001b[0;34m\u001b[0m\u001b[0;34m\u001b[0m\u001b[0;34m\u001b[0m\u001b[0m\n\u001b[0;32m----> 2\u001b[0;31m \u001b[0mhistory\u001b[0m \u001b[0;34m=\u001b[0m \u001b[0mmodel\u001b[0m\u001b[0;34m.\u001b[0m\u001b[0mfit\u001b[0m\u001b[0;34m(\u001b[0m\u001b[0mtrain_gen\u001b[0m\u001b[0;34m,\u001b[0m \u001b[0mepochs\u001b[0m \u001b[0;34m=\u001b[0m \u001b[0;36m2\u001b[0m\u001b[0;34m,\u001b[0m \u001b[0mvalidation_data\u001b[0m\u001b[0;34m=\u001b[0m\u001b[0mtest_gen\u001b[0m\u001b[0;34m,\u001b[0m \u001b[0mcallbacks\u001b[0m\u001b[0;34m=\u001b[0m\u001b[0mcallbacks\u001b[0m \u001b[0;34m)\u001b[0m\u001b[0;34m\u001b[0m\u001b[0;34m\u001b[0m\u001b[0m\n\u001b[0m",
            "\u001b[0;32m/usr/local/lib/python3.7/dist-packages/keras/utils/traceback_utils.py\u001b[0m in \u001b[0;36merror_handler\u001b[0;34m(*args, **kwargs)\u001b[0m\n\u001b[1;32m     68\u001b[0m             \u001b[0;31m# To get the full stack trace, call:\u001b[0m\u001b[0;34m\u001b[0m\u001b[0;34m\u001b[0m\u001b[0;34m\u001b[0m\u001b[0m\n\u001b[1;32m     69\u001b[0m             \u001b[0;31m# `tf.debugging.disable_traceback_filtering()`\u001b[0m\u001b[0;34m\u001b[0m\u001b[0;34m\u001b[0m\u001b[0;34m\u001b[0m\u001b[0m\n\u001b[0;32m---> 70\u001b[0;31m             \u001b[0;32mraise\u001b[0m \u001b[0me\u001b[0m\u001b[0;34m.\u001b[0m\u001b[0mwith_traceback\u001b[0m\u001b[0;34m(\u001b[0m\u001b[0mfiltered_tb\u001b[0m\u001b[0;34m)\u001b[0m \u001b[0;32mfrom\u001b[0m \u001b[0;32mNone\u001b[0m\u001b[0;34m\u001b[0m\u001b[0;34m\u001b[0m\u001b[0m\n\u001b[0m\u001b[1;32m     71\u001b[0m         \u001b[0;32mfinally\u001b[0m\u001b[0;34m:\u001b[0m\u001b[0;34m\u001b[0m\u001b[0;34m\u001b[0m\u001b[0m\n\u001b[1;32m     72\u001b[0m             \u001b[0;32mdel\u001b[0m \u001b[0mfiltered_tb\u001b[0m\u001b[0;34m\u001b[0m\u001b[0;34m\u001b[0m\u001b[0m\n",
            "\u001b[0;32m/usr/local/lib/python3.7/dist-packages/pandas/core/series.py\u001b[0m in \u001b[0;36m__getitem__\u001b[0;34m(self, key)\u001b[0m\n\u001b[1;32m    940\u001b[0m \u001b[0;34m\u001b[0m\u001b[0m\n\u001b[1;32m    941\u001b[0m         \u001b[0;32melif\u001b[0m \u001b[0mkey_is_scalar\u001b[0m\u001b[0;34m:\u001b[0m\u001b[0;34m\u001b[0m\u001b[0;34m\u001b[0m\u001b[0m\n\u001b[0;32m--> 942\u001b[0;31m             \u001b[0;32mreturn\u001b[0m \u001b[0mself\u001b[0m\u001b[0;34m.\u001b[0m\u001b[0m_get_value\u001b[0m\u001b[0;34m(\u001b[0m\u001b[0mkey\u001b[0m\u001b[0;34m)\u001b[0m\u001b[0;34m\u001b[0m\u001b[0;34m\u001b[0m\u001b[0m\n\u001b[0m\u001b[1;32m    943\u001b[0m \u001b[0;34m\u001b[0m\u001b[0m\n\u001b[1;32m    944\u001b[0m         \u001b[0;32mif\u001b[0m \u001b[0mis_hashable\u001b[0m\u001b[0;34m(\u001b[0m\u001b[0mkey\u001b[0m\u001b[0;34m)\u001b[0m\u001b[0;34m:\u001b[0m\u001b[0;34m\u001b[0m\u001b[0;34m\u001b[0m\u001b[0m\n",
            "\u001b[0;32m/usr/local/lib/python3.7/dist-packages/pandas/core/series.py\u001b[0m in \u001b[0;36m_get_value\u001b[0;34m(self, label, takeable)\u001b[0m\n\u001b[1;32m   1049\u001b[0m \u001b[0;34m\u001b[0m\u001b[0m\n\u001b[1;32m   1050\u001b[0m         \u001b[0;31m# Similar to Index.get_value, but we do not fall back to positional\u001b[0m\u001b[0;34m\u001b[0m\u001b[0;34m\u001b[0m\u001b[0;34m\u001b[0m\u001b[0m\n\u001b[0;32m-> 1051\u001b[0;31m         \u001b[0mloc\u001b[0m \u001b[0;34m=\u001b[0m \u001b[0mself\u001b[0m\u001b[0;34m.\u001b[0m\u001b[0mindex\u001b[0m\u001b[0;34m.\u001b[0m\u001b[0mget_loc\u001b[0m\u001b[0;34m(\u001b[0m\u001b[0mlabel\u001b[0m\u001b[0;34m)\u001b[0m\u001b[0;34m\u001b[0m\u001b[0;34m\u001b[0m\u001b[0m\n\u001b[0m\u001b[1;32m   1052\u001b[0m         \u001b[0;32mreturn\u001b[0m \u001b[0mself\u001b[0m\u001b[0;34m.\u001b[0m\u001b[0mindex\u001b[0m\u001b[0;34m.\u001b[0m\u001b[0m_get_values_for_loc\u001b[0m\u001b[0;34m(\u001b[0m\u001b[0mself\u001b[0m\u001b[0;34m,\u001b[0m \u001b[0mloc\u001b[0m\u001b[0;34m,\u001b[0m \u001b[0mlabel\u001b[0m\u001b[0;34m)\u001b[0m\u001b[0;34m\u001b[0m\u001b[0;34m\u001b[0m\u001b[0m\n\u001b[1;32m   1053\u001b[0m \u001b[0;34m\u001b[0m\u001b[0m\n",
            "\u001b[0;32m/usr/local/lib/python3.7/dist-packages/pandas/core/indexes/base.py\u001b[0m in \u001b[0;36mget_loc\u001b[0;34m(self, key, method, tolerance)\u001b[0m\n\u001b[1;32m   3361\u001b[0m                 \u001b[0;32mreturn\u001b[0m \u001b[0mself\u001b[0m\u001b[0;34m.\u001b[0m\u001b[0m_engine\u001b[0m\u001b[0;34m.\u001b[0m\u001b[0mget_loc\u001b[0m\u001b[0;34m(\u001b[0m\u001b[0mcasted_key\u001b[0m\u001b[0;34m)\u001b[0m\u001b[0;34m\u001b[0m\u001b[0;34m\u001b[0m\u001b[0m\n\u001b[1;32m   3362\u001b[0m             \u001b[0;32mexcept\u001b[0m \u001b[0mKeyError\u001b[0m \u001b[0;32mas\u001b[0m \u001b[0merr\u001b[0m\u001b[0;34m:\u001b[0m\u001b[0;34m\u001b[0m\u001b[0;34m\u001b[0m\u001b[0m\n\u001b[0;32m-> 3363\u001b[0;31m                 \u001b[0;32mraise\u001b[0m \u001b[0mKeyError\u001b[0m\u001b[0;34m(\u001b[0m\u001b[0mkey\u001b[0m\u001b[0;34m)\u001b[0m \u001b[0;32mfrom\u001b[0m \u001b[0merr\u001b[0m\u001b[0;34m\u001b[0m\u001b[0;34m\u001b[0m\u001b[0m\n\u001b[0m\u001b[1;32m   3364\u001b[0m \u001b[0;34m\u001b[0m\u001b[0m\n\u001b[1;32m   3365\u001b[0m         \u001b[0;32mif\u001b[0m \u001b[0mis_scalar\u001b[0m\u001b[0;34m(\u001b[0m\u001b[0mkey\u001b[0m\u001b[0;34m)\u001b[0m \u001b[0;32mand\u001b[0m \u001b[0misna\u001b[0m\u001b[0;34m(\u001b[0m\u001b[0mkey\u001b[0m\u001b[0;34m)\u001b[0m \u001b[0;32mand\u001b[0m \u001b[0;32mnot\u001b[0m \u001b[0mself\u001b[0m\u001b[0;34m.\u001b[0m\u001b[0mhasnans\u001b[0m\u001b[0;34m:\u001b[0m\u001b[0;34m\u001b[0m\u001b[0;34m\u001b[0m\u001b[0m\n",
            "\u001b[0;31mKeyError\u001b[0m: 300"
          ]
        }
      ],
      "source": [
        "#history = model.fit_generator(train_gen, epochs=, validation_data=test_gen, callbacks=callbacks)\n",
        "history = model.fit(train_gen, epochs = 2, validation_data=test_gen, callbacks=callbacks )"
      ]
    },
    {
      "cell_type": "code",
      "execution_count": null,
      "metadata": {
        "id": "2DJrGO_9ih8k"
      },
      "outputs": [],
      "source": []
    },
    {
      "cell_type": "code",
      "execution_count": null,
      "metadata": {
        "id": "HT7KUScgih_o"
      },
      "outputs": [],
      "source": []
    },
    {
      "cell_type": "code",
      "execution_count": null,
      "metadata": {
        "id": "sNypZAJJiiCR"
      },
      "outputs": [],
      "source": []
    },
    {
      "cell_type": "code",
      "execution_count": null,
      "metadata": {
        "id": "VcE-JArYiiEx"
      },
      "outputs": [],
      "source": []
    },
    {
      "cell_type": "code",
      "execution_count": null,
      "metadata": {
        "id": "doZ6XrrqiiG1"
      },
      "outputs": [],
      "source": []
    },
    {
      "cell_type": "code",
      "execution_count": null,
      "metadata": {
        "id": "GnwoUtMWiiIi"
      },
      "outputs": [],
      "source": []
    },
    {
      "cell_type": "code",
      "execution_count": null,
      "metadata": {
        "id": "T9SaGlWZiiL3"
      },
      "outputs": [],
      "source": []
    },
    {
      "cell_type": "code",
      "execution_count": null,
      "metadata": {
        "id": "aSc40Yd7iiYo"
      },
      "outputs": [],
      "source": []
    },
    {
      "cell_type": "code",
      "execution_count": null,
      "metadata": {
        "id": "Ry8HaD4miibm"
      },
      "outputs": [],
      "source": []
    },
    {
      "cell_type": "code",
      "execution_count": null,
      "metadata": {
        "id": "VqA9Tf3ucbUb"
      },
      "outputs": [],
      "source": []
    }
  ],
  "metadata": {
    "colab": {
      "provenance": [],
      "authorship_tag": "ABX9TyPNRcxr1RFGEBtaP4tIx1eM",
      "include_colab_link": true
    },
    "kernelspec": {
      "display_name": "Python 3",
      "name": "python3"
    },
    "language_info": {
      "name": "python"
    }
  },
  "nbformat": 4,
  "nbformat_minor": 0
}